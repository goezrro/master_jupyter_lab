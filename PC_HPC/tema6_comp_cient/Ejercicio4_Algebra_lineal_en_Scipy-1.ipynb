{
 "cells": [
  {
   "cell_type": "markdown",
   "id": "aging-feature",
   "metadata": {},
   "source": [
    "# Ejercicio 4. Algebra lineal con linalg de Scipy"
   ]
  },
  {
   "cell_type": "raw",
   "id": "domestic-river",
   "metadata": {},
   "source": [
    "En  este ejercicio se verán alguna funciones con matriz de gran aplicabilidad."
   ]
  },
  {
   "cell_type": "markdown",
   "id": "confused-needle",
   "metadata": {},
   "source": [
    "1. Dada una matriz calcular su inversa."
   ]
  },
  {
   "cell_type": "code",
   "execution_count": 1,
   "id": "above-accessory",
   "metadata": {},
   "outputs": [],
   "source": [
    "from scipy import linalg\n",
    "import numpy as np\n",
    "#se define una matriz cuadrada\n",
    "A=np.array([[1,2],[2,4]])"
   ]
  },
  {
   "cell_type": "markdown",
   "id": "ancient-breach",
   "metadata": {},
   "source": [
    "Para el cálculo de la inversa de A se utiliza la función inv  de la biblioteca linalg"
   ]
  },
  {
   "cell_type": "code",
   "execution_count": 2,
   "id": "hindu-translation",
   "metadata": {},
   "outputs": [
    {
     "ename": "LinAlgError",
     "evalue": "singular matrix",
     "output_type": "error",
     "traceback": [
      "\u001b[1;31m---------------------------------------------------------------------------\u001b[0m",
      "\u001b[1;31mLinAlgError\u001b[0m                               Traceback (most recent call last)",
      "Cell \u001b[1;32mIn[2], line 1\u001b[0m\n\u001b[1;32m----> 1\u001b[0m inv_A\u001b[38;5;241m=\u001b[39mlinalg\u001b[38;5;241m.\u001b[39minv(A)\n\u001b[0;32m      2\u001b[0m \u001b[38;5;28mprint\u001b[39m (\u001b[38;5;124m\"\u001b[39m\u001b[38;5;124mLa inversa de A es :\u001b[39m\u001b[38;5;124m\"\u001b[39m,inv_A)\n",
      "File \u001b[1;32mC:\\anaconda\\Lib\\site-packages\\scipy\\linalg\\_basic.py:972\u001b[0m, in \u001b[0;36minv\u001b[1;34m(a, overwrite_a, check_finite)\u001b[0m\n\u001b[0;32m    970\u001b[0m     inv_a, info \u001b[38;5;241m=\u001b[39m getri(lu, piv, lwork\u001b[38;5;241m=\u001b[39mlwork, overwrite_lu\u001b[38;5;241m=\u001b[39m\u001b[38;5;241m1\u001b[39m)\n\u001b[0;32m    971\u001b[0m \u001b[38;5;28;01mif\u001b[39;00m info \u001b[38;5;241m>\u001b[39m \u001b[38;5;241m0\u001b[39m:\n\u001b[1;32m--> 972\u001b[0m     \u001b[38;5;28;01mraise\u001b[39;00m LinAlgError(\u001b[38;5;124m\"\u001b[39m\u001b[38;5;124msingular matrix\u001b[39m\u001b[38;5;124m\"\u001b[39m)\n\u001b[0;32m    973\u001b[0m \u001b[38;5;28;01mif\u001b[39;00m info \u001b[38;5;241m<\u001b[39m \u001b[38;5;241m0\u001b[39m:\n\u001b[0;32m    974\u001b[0m     \u001b[38;5;28;01mraise\u001b[39;00m \u001b[38;5;167;01mValueError\u001b[39;00m(\u001b[38;5;124m'\u001b[39m\u001b[38;5;124millegal value in \u001b[39m\u001b[38;5;132;01m%d\u001b[39;00m\u001b[38;5;124m-th argument of internal \u001b[39m\u001b[38;5;124m'\u001b[39m\n\u001b[0;32m    975\u001b[0m                      \u001b[38;5;124m'\u001b[39m\u001b[38;5;124mgetrf|getri\u001b[39m\u001b[38;5;124m'\u001b[39m \u001b[38;5;241m%\u001b[39m \u001b[38;5;241m-\u001b[39minfo)\n",
      "\u001b[1;31mLinAlgError\u001b[0m: singular matrix"
     ]
    }
   ],
   "source": [
    "inv_A=linalg.inv(A)\n",
    "print (\"La inversa de A es :\",inv_A)"
   ]
  },
  {
   "cell_type": "markdown",
   "id": "growing-isaac",
   "metadata": {},
   "source": [
    "Se observa  que se ha  producido un error porque la matriz es singular, es decir , tiene determinante 0. Se puede capturar el error."
   ]
  },
  {
   "cell_type": "code",
   "execution_count": 3,
   "id": "julian-smile",
   "metadata": {},
   "outputs": [
    {
     "name": "stdout",
     "output_type": "stream",
     "text": [
      "0.0\n"
     ]
    }
   ],
   "source": [
    "print(linalg.det(A))"
   ]
  },
  {
   "cell_type": "code",
   "execution_count": 4,
   "id": "after-defense",
   "metadata": {},
   "outputs": [
    {
     "name": "stdout",
     "output_type": "stream",
     "text": [
      "singular matrix\n",
      "[[ 1. -1.  6.]\n",
      " [ 0.  1. -4.]\n",
      " [ 0.  0. -1.]]\n"
     ]
    }
   ],
   "source": [
    "try:\n",
    "    inv_A=linalg.inv(A)\n",
    "except linalg.LinAlgError as e:\n",
    "    print (str(e))\n",
    "    \n",
    "B=np.array([[1,1,2],[0,1,-4],[0,0,-1]])\n",
    "print(linalg.inv(B))\n"
   ]
  },
  {
   "cell_type": "markdown",
   "id": "characteristic-alliance",
   "metadata": {},
   "source": [
    "2. Se define ahora una matriz cuadrada 3x3, y se calcula su determinante\n",
    "Observe el uso del operador ternario condicional de Python"
   ]
  },
  {
   "cell_type": "code",
   "execution_count": 5,
   "id": "convenient-college",
   "metadata": {},
   "outputs": [
    {
     "name": "stdout",
     "output_type": "stream",
     "text": [
      " El determinante de B es:\n",
      "-1.0\n",
      "La inversa  de B es \n",
      "[[ 1. -1.  6.]\n",
      " [ 0.  1. -4.]\n",
      " [ 0.  0. -1.]]\n"
     ]
    }
   ],
   "source": [
    "B=np.array([[1,1,2],[0,1,-4],[0,0,-1]])\n",
    "det_B=linalg.det(B)\n",
    "\n",
    "print(\" El determinante de B es:\")\n",
    "\n",
    "print(det_B)\n",
    "\n",
    "inv_B=linalg.inv(B) if det_B!=0 else []\n",
    "\n",
    "print(\"La inversa  de B es \")\n",
    "print(inv_B)"
   ]
  },
  {
   "cell_type": "markdown",
   "id": "processed-republican",
   "metadata": {},
   "source": [
    "3. Se calculan  los autovalores y autovectores de la matriz"
   ]
  },
  {
   "cell_type": "code",
   "execution_count": 7,
   "id": "dental-female",
   "metadata": {},
   "outputs": [
    {
     "name": "stdout",
     "output_type": "stream",
     "text": [
      "Los autovalores de B son: \n",
      "[ 1.+0.j  1.+0.j -1.+0.j]\n",
      "Los autovectores de B son: \n",
      "[[ 1.00000000e+00 -1.00000000e+00 -6.66666667e-01]\n",
      " [ 0.00000000e+00  2.22044605e-16  6.66666667e-01]\n",
      " [ 0.00000000e+00  0.00000000e+00  3.33333333e-01]]\n"
     ]
    }
   ],
   "source": [
    "autovalores_B,autovectores_B=linalg.eig(B)\n",
    "print(\"Los autovalores de B son: \")\n",
    "print(autovalores_B)\n",
    "print(\"Los autovectores de B son: \")\n",
    "print(autovectores_B)"
   ]
  },
  {
   "cell_type": "markdown",
   "id": "deluxe-overall",
   "metadata": {},
   "source": [
    "4. Dado un sistema de ecuaciones lineales, resolverlo de dos formas: usando su inversa y usando la función solve() de linalg. El sistema es\n",
    "                    3x+2y+z=1\n",
    "                    5x+3y+4z=2\n",
    "                    x+y-z=1\n",
    "\n",
    "El resultado que se debe obtener es x=-4, y=6 y  z=1\n"
   ]
  },
  {
   "cell_type": "markdown",
   "id": "civil-battery",
   "metadata": {},
   "source": [
    "En este caso se va  a usar otra firma de crear matrices co la función mat de Numpy"
   ]
  },
  {
   "cell_type": "code",
   "execution_count": 8,
   "id": "coastal-anthropology",
   "metadata": {},
   "outputs": [
    {
     "name": "stdout",
     "output_type": "stream",
     "text": [
      "[[ 3  2  1]\n",
      " [ 5  3  4]\n",
      " [ 1  1 -1]]\n",
      "[[1]\n",
      " [2]\n",
      " [1]]\n",
      "La solución con la inversa es:\n",
      "[[-4.]\n",
      " [ 6.]\n",
      " [ 1.]]\n",
      "La solución con solve es:\n",
      "[[-4.]\n",
      " [ 6.]\n",
      " [ 1.]]\n"
     ]
    }
   ],
   "source": [
    "A = np.mat('[3 2 1;5 3 4;1, 1, -1]') \n",
    "print(A)\n",
    "\n",
    "b = np.mat('[1;2;1]]')\n",
    "print(b)\n",
    "# Usando la matriz inversa\n",
    "inv_A=linalg.inv(A)\n",
    "\n",
    "solucion=inv_A * b\n",
    "print(\"La solución con la inversa es:\")\n",
    "print(solucion)\n",
    "\n",
    "# Lo mismo, usando la funcion linalg.solve(A,b)\n",
    "solucion=linalg.solve(A,b)\n",
    "print(\"La solución con solve es:\")\n",
    "print (solucion)"
   ]
  }
 ],
 "metadata": {
  "kernelspec": {
   "display_name": "Python 3 (ipykernel)",
   "language": "python",
   "name": "python3"
  },
  "language_info": {
   "codemirror_mode": {
    "name": "ipython",
    "version": 3
   },
   "file_extension": ".py",
   "mimetype": "text/x-python",
   "name": "python",
   "nbconvert_exporter": "python",
   "pygments_lexer": "ipython3",
   "version": "3.11.7"
  }
 },
 "nbformat": 4,
 "nbformat_minor": 5
}
