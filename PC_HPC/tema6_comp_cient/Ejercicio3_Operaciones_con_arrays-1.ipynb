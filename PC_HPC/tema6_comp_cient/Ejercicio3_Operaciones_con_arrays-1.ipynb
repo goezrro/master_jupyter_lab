{
 "cells": [
  {
   "cell_type": "markdown",
   "id": "legal-interference",
   "metadata": {},
   "source": [
    "# Ejercicio 3. Operaciones con dos arrays"
   ]
  },
  {
   "cell_type": "markdown",
   "id": "pacific-vertex",
   "metadata": {},
   "source": [
    "Primero se van a crear los dos arrays"
   ]
  },
  {
   "cell_type": "code",
   "execution_count": 1,
   "id": "indian-concentrate",
   "metadata": {},
   "outputs": [
    {
     "name": "stdout",
     "output_type": "stream",
     "text": [
      "El array a es  [1 2 3 2 3 4 3 4 9 6]\n",
      "El array b es  [ 7  1 10  2  7  4  9  4  9  8]\n"
     ]
    }
   ],
   "source": [
    "import numpy as np\n",
    "\n",
    "a = np.array([1,2,3,2,3,4,3,4,9,6])\n",
    "b = np.array([7,1,10,2,7,4,9,4,9,8])\n",
    "print(\"El array a es \",a)\n",
    "print(\"El array b es \",b)"
   ]
  },
  {
   "cell_type": "markdown",
   "id": "correct-petite",
   "metadata": {},
   "source": [
    "Se calcula los elementos comunes a los dos"
   ]
  },
  {
   "cell_type": "code",
   "execution_count": 2,
   "id": "lyric-terminology",
   "metadata": {},
   "outputs": [
    {
     "name": "stdout",
     "output_type": "stream",
     "text": [
      "[1 2 4 9]\n"
     ]
    }
   ],
   "source": [
    "c=np.intersect1d(a,b)\n",
    "print(c)"
   ]
  },
  {
   "cell_type": "markdown",
   "id": "surprising-springer",
   "metadata": {},
   "source": [
    "Se crea una array con los elementos de b que  no están  en a"
   ]
  },
  {
   "cell_type": "code",
   "execution_count": 3,
   "id": "tamil-briefs",
   "metadata": {},
   "outputs": [
    {
     "name": "stdout",
     "output_type": "stream",
     "text": [
      "[ 7  8 10]\n"
     ]
    }
   ],
   "source": [
    "d=np.setdiff1d(b,a)\n",
    "print(d)"
   ]
  },
  {
   "cell_type": "markdown",
   "id": "attractive-logging",
   "metadata": {},
   "source": [
    "Se obtienen las posiciones en las que los elementos de ambos  arrays tienen el mismo valor. "
   ]
  },
  {
   "cell_type": "code",
   "execution_count": 4,
   "id": "norwegian-christmas",
   "metadata": {},
   "outputs": [
    {
     "name": "stdout",
     "output_type": "stream",
     "text": [
      "(array([3, 5, 7, 8], dtype=int64),)\n"
     ]
    }
   ],
   "source": [
    "e=np.where(a == b)\n",
    "print(e)"
   ]
  },
  {
   "cell_type": "code",
   "execution_count": null,
   "id": "arranged-cross",
   "metadata": {},
   "outputs": [],
   "source": []
  }
 ],
 "metadata": {
  "kernelspec": {
   "display_name": "Python 3 (ipykernel)",
   "language": "python",
   "name": "python3"
  },
  "language_info": {
   "codemirror_mode": {
    "name": "ipython",
    "version": 3
   },
   "file_extension": ".py",
   "mimetype": "text/x-python",
   "name": "python",
   "nbconvert_exporter": "python",
   "pygments_lexer": "ipython3",
   "version": "3.11.7"
  }
 },
 "nbformat": 4,
 "nbformat_minor": 5
}
