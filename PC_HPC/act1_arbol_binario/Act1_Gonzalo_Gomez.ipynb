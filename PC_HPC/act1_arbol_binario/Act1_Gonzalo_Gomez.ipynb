{
 "cells": [
  {
   "cell_type": "markdown",
   "id": "f8cabc9c-1a7c-495c-9ec5-c9734e0f8dd7",
   "metadata": {},
   "source": [
    "# ACTIVIDAD 1. ÁRBOL BINARIO - GONZALO MIGUEL GÓMEZ DEL HIERRO"
   ]
  },
  {
   "cell_type": "markdown",
   "id": "c3098ba7-77d8-484f-b3cc-743925bdf85d",
   "metadata": {},
   "source": [
    "Incluimos algunos objetos que nos serán de utilidad más adelante."
   ]
  },
  {
   "cell_type": "code",
   "execution_count": 866,
   "id": "79ec9c61-b95d-4d21-bd40-873fb925ee85",
   "metadata": {},
   "outputs": [],
   "source": [
    "class Cola:\n",
    "\n",
    "    def __init__(self,tipo):\n",
    "        \"\"\"Constructor crea atributos privados\"\"\"\n",
    "        self.__cola=list()\n",
    "        self.__tipo=tipo\n",
    "       \n",
    "    def estaVacia(self):\n",
    "        \"\"\"Operación de consulta: comprueba si la cola está vacía\"\"\"\n",
    "        return not self.__cola\n",
    "    \n",
    "    def primero(self):\n",
    "        \"\"\"Operación de consulta: devuelve el primer elemento de la cola\n",
    "        Eleva  una excepción si está vacía\"\"\"\n",
    "        try:\n",
    "            return self.__cola[0]\n",
    "        except:\n",
    "            return None\n",
    "       \n",
    "            \n",
    "    def encolar(self,elemento):\n",
    "        \"\"\"Operación de modificación: inserta un elemento al final\n",
    "        Eleva  una excepción si el elemento no es del tipo de la cola\"\"\"\n",
    "        if type(elemento)==self.__tipo:\n",
    "            self.__cola.append(elemento)\n",
    "            return\n",
    "        else: \n",
    "            raise TypeError\n",
    "        \n",
    "    def desencolar(self):\n",
    "        \"\"\"Operación de modificación: elimina el primer elemento\"\"\"\n",
    "        try:\n",
    "            return self.__cola.pop(0)\n",
    "        except:\n",
    "            None\n",
    "            \n",
    "    def __str__(self):\n",
    "        \"\"\"Convierte la cola en lista para poderla visualizar\"\"\"\n",
    "        return str(self.__cola)\n",
    "class Pila:\n",
    "    \"\"\"\n",
    "    TAD Pila\n",
    "    \"\"\"\n",
    "    def __init__(self,tipo):\n",
    "        \"\"\"Constructor crea atributos privados\"\"\"\n",
    "        self.__pila=list()\n",
    "        self.__tipo=tipo\n",
    "       \n",
    "    def estaVacia(self):\n",
    "        \"\"\"Operación de consulta: comprueba si la pila está vacía\"\"\"\n",
    "        return not self.__pila\n",
    "    \n",
    "    def cima(self):\n",
    "        \"\"\"Operación de consulta: devuelve la  cima de la pila\n",
    "        Eleva  una excepción si está vacía\"\"\"\n",
    "        try:\n",
    "            return self.__pila[-1]\n",
    "        except:\n",
    "            return None\n",
    "       \n",
    "            \n",
    "    def apilar(self,elemento):\n",
    "        \"\"\"Operación de modificación: inserta un elemento en la cima\n",
    "        Eleva  una excepción si el elemento no es del tipo de la pila\"\"\"\n",
    "        if elemento is None:\n",
    "            pass\n",
    "        elif type(elemento)==self.__tipo:\n",
    "            self.__pila.append(elemento)\n",
    "            return\n",
    "        else: \n",
    "            raise TypeError\n",
    "        \n",
    "    def desapilar(self):\n",
    "        \"\"\"Operación de modificación: elimina y devuelve la cima\n",
    "        Eleva  una excepción si el elemento no es del tipo de la pila\"\"\"\n",
    "        try:\n",
    "            return self.__pila.pop()\n",
    "        except:\n",
    "            None\n",
    "            \n",
    "    def __str__(self):\n",
    "        \"\"\"Convierte la pila en lista para poderla visualizar\"\"\"\n",
    "        return str(self.__pila)"
   ]
  },
  {
   "cell_type": "markdown",
   "id": "f32df609-c9c7-4c4c-983c-47957ccd438c",
   "metadata": {},
   "source": [
    "Se proporciona la siguiente clase árbol binario ordenado y se pide proporcionar casos de prueba para todos los argumentos."
   ]
  },
  {
   "cell_type": "code",
   "execution_count": 867,
   "id": "a78fe6b4-db44-434b-889d-f0bb05b0e0d2",
   "metadata": {},
   "outputs": [],
   "source": [
    "class ArbolBinarioOrdenado:\n",
    "\n",
    "    def __init__(self):\n",
    "        self._raiz = None\n",
    "        self._arbolIzdo = None\n",
    "        self._arbolDcho = None\n",
    "\n",
    "    def raiz(self):\n",
    "        return self._raiz\n",
    "\n",
    "    def arbolIzdo(self):\n",
    "        return self._arbolIzdo\n",
    "\n",
    "    def arbolDcho(self):\n",
    "        return self._arbolDcho\n",
    "\n",
    "    def estaVacio(self):\n",
    "        return self._raiz is None\n",
    "\n",
    "    def insertar(self, elemento):\n",
    "        if self.estaVacio():\n",
    "            self._raiz = elemento\n",
    "            self._arbolIzdo = ArbolBinarioOrdenado()\n",
    "            self._arbolDcho = ArbolBinarioOrdenado()\n",
    "        elif elemento <= self._raiz:\n",
    "            self._arbolIzdo.insertar(elemento)\n",
    "        elif elemento > self._raiz:\n",
    "            self._arbolDcho.insertar(elemento)\n",
    "\n",
    "    def tieneElemento(self, elemento):\n",
    "        if self.estaVacio():\n",
    "            return False\n",
    "        elif self._raiz == elemento:\n",
    "            return True\n",
    "        elif elemento < self._raiz:\n",
    "            return self._arbolIzdo.tieneElemento(elemento)\n",
    "        else:\n",
    "            return self._arbolDcho.tieneElemento(elemento)\n",
    "\n",
    "    def numElementos(self):\n",
    "        if self.estaVacio():\n",
    "            return 0\n",
    "        else:\n",
    "            return 1 + self._arbolIzdo.numElementos() + self._arbolDcho.numElementos()\n",
    "\n",
    "    def preOrden(self):\n",
    "        if self.estaVacio():\n",
    "            return []\n",
    "        l = [self._raiz]\n",
    "        l += self._arbolIzdo.preOrden()\n",
    "        l += self._arbolDcho.preOrden()\n",
    "        return l\n",
    "\n",
    "    def inOrden(self):\n",
    "        if self.estaVacio():\n",
    "            return []\n",
    "        l = self._arbolIzdo.inOrden()\n",
    "        l.append(self._raiz)\n",
    "        l += self._arbolDcho.inOrden()\n",
    "        return l\n"
   ]
  },
  {
   "cell_type": "markdown",
   "id": "3c2485d9-01ae-4ce8-a491-607ea372f5cf",
   "metadata": {},
   "source": [
    "Nótese que la lógica para insertar elementos recurre a un orden. Esto se traduce en el orden de la recta real si los elementos fueran números, el orden lexicográfico si fueran cadenas de texto, el orden componente a componente si fueran arrays numéricos, etc. Es importante entender que significa ese orden a la hora de entender cómo se almacena la información en el árbol. El ejemplo con el que voy a trabajar es de números reales, por ser lo más sencillo.\n",
    "\n",
    "En primer lugar, generemos una instancia vacía de la clase ArbolBinarioOrdenado, y a través de ella desarrollemos los casos de prueba:"
   ]
  },
  {
   "cell_type": "code",
   "execution_count": 868,
   "id": "3f932ce5-eff7-4cf6-a666-fa3f4f29621b",
   "metadata": {},
   "outputs": [
    {
     "name": "stdout",
     "output_type": "stream",
     "text": [
      "True\n"
     ]
    }
   ],
   "source": [
    "prueba_arbol=ArbolBinarioOrdenado()\n",
    "# Comprobemos que el árbol está efectivamente vacío mediante el método estaVacio (devolverá valor True)\n",
    "print(prueba_arbol.estaVacio())"
   ]
  },
  {
   "cell_type": "code",
   "execution_count": 869,
   "id": "b279d66a-03d2-4e13-9335-a835ac31639f",
   "metadata": {},
   "outputs": [],
   "source": [
    "# Insertemos un elemento con el método insertar (como es el primero, este elemento irá a parar a la raíz,\n",
    "# y se generarán instancias de la clase vacías pra los árboles izquierdo y derecho\n",
    "prueba_arbol.insertar(5)"
   ]
  },
  {
   "cell_type": "code",
   "execution_count": 870,
   "id": "e68a544a-b1d0-4161-96e9-c3cb3fe0329b",
   "metadata": {},
   "outputs": [
    {
     "data": {
      "text/plain": [
       "True"
      ]
     },
     "execution_count": 870,
     "metadata": {},
     "output_type": "execute_result"
    }
   ],
   "source": [
    "# Comprobemos que ahora el árbol tiene el elemento a, que es la raíz y que los árboles izquierdo y derecho\n",
    "# están vacíos\n",
    "prueba_arbol.tieneElemento(5)"
   ]
  },
  {
   "cell_type": "code",
   "execution_count": 871,
   "id": "e6080545-d701-43cc-983e-6c2c722d3132",
   "metadata": {},
   "outputs": [
    {
     "data": {
      "text/plain": [
       "5"
      ]
     },
     "execution_count": 871,
     "metadata": {},
     "output_type": "execute_result"
    }
   ],
   "source": [
    "prueba_arbol.raiz()"
   ]
  },
  {
   "cell_type": "code",
   "execution_count": 872,
   "id": "b9498b95-c511-4072-afc1-a2d29a0597dd",
   "metadata": {},
   "outputs": [
    {
     "data": {
      "text/plain": [
       "True"
      ]
     },
     "execution_count": 872,
     "metadata": {},
     "output_type": "execute_result"
    }
   ],
   "source": [
    "prueba_arbol.arbolDcho().estaVacio()"
   ]
  },
  {
   "cell_type": "code",
   "execution_count": 873,
   "id": "797faaec-bb68-4cb1-8689-45335ab4ab69",
   "metadata": {},
   "outputs": [
    {
     "data": {
      "text/plain": [
       "True"
      ]
     },
     "execution_count": 873,
     "metadata": {},
     "output_type": "execute_result"
    }
   ],
   "source": [
    "prueba_arbol.arbolIzdo().estaVacio()"
   ]
  },
  {
   "cell_type": "code",
   "execution_count": 874,
   "id": "281b9eb2-d4eb-4cb0-89b4-0c8d06c28af9",
   "metadata": {},
   "outputs": [],
   "source": [
    "# Insertemos ahora dos elementos, uno que sabemos que irá al árbol izquierdo, y otro que sabemos que irá \n",
    "# al derecho.\n",
    "prueba_arbol.insertar(3) # irá al izdo\n",
    "prueba_arbol.insertar(7) # irá al dcho"
   ]
  },
  {
   "cell_type": "code",
   "execution_count": 875,
   "id": "3bf89ea3-e5da-49c8-b0b9-6892ffc33373",
   "metadata": {},
   "outputs": [
    {
     "data": {
      "text/plain": [
       "3"
      ]
     },
     "execution_count": 875,
     "metadata": {},
     "output_type": "execute_result"
    }
   ],
   "source": [
    "# Veamos que efectivamente ahora los árboles izdo y dcho son respectivamente el 3 y el 7 (de una manera \n",
    "# un poco bruta)\n",
    "# Árbol Izquierdo:\n",
    "# Veamos que la raíz es 3, y que respectivamente los árboles izdo y dcho que penden de él están vacíos\n",
    "arb_izd = prueba_arbol.arbolIzdo()\n",
    "arb_izd.raiz()"
   ]
  },
  {
   "cell_type": "code",
   "execution_count": 876,
   "id": "c9733e0f-1fb2-4c19-9c6d-64e6e1fe7fb4",
   "metadata": {},
   "outputs": [
    {
     "data": {
      "text/plain": [
       "True"
      ]
     },
     "execution_count": 876,
     "metadata": {},
     "output_type": "execute_result"
    }
   ],
   "source": [
    "# Veamos que el subárbolizquierdo y el subárbol derecho de este árbol izdo están vacío\n",
    "arb_izd.arbolIzdo().estaVacio() and arb_izd.arbolDcho().estaVacio()"
   ]
  },
  {
   "cell_type": "code",
   "execution_count": 877,
   "id": "b083c0d6-9430-4189-a0fa-35543c778d1b",
   "metadata": {},
   "outputs": [
    {
     "data": {
      "text/plain": [
       "7"
      ]
     },
     "execution_count": 877,
     "metadata": {},
     "output_type": "execute_result"
    }
   ],
   "source": [
    "# Hagamos lo mismo con el árbol derecho de nuestro árbol principal\n",
    "arb_dcho = prueba_arbol.arbolDcho()\n",
    "arb_dcho.raiz()"
   ]
  },
  {
   "cell_type": "code",
   "execution_count": 878,
   "id": "28bbbd45-190d-420b-9879-67e44224ae3c",
   "metadata": {},
   "outputs": [
    {
     "data": {
      "text/plain": [
       "True"
      ]
     },
     "execution_count": 878,
     "metadata": {},
     "output_type": "execute_result"
    }
   ],
   "source": [
    "arb_dcho.arbolIzdo().estaVacio() and arb_dcho.arbolDcho().estaVacio()"
   ]
  },
  {
   "cell_type": "code",
   "execution_count": 879,
   "id": "69e506e6-2d94-4284-904c-0faf052b56fe",
   "metadata": {},
   "outputs": [
    {
     "data": {
      "text/plain": [
       "3"
      ]
     },
     "execution_count": 879,
     "metadata": {},
     "output_type": "execute_result"
    }
   ],
   "source": [
    "# A estas alturas nuestro árbol prueba_árbol tiene 3 elementos\n",
    "prueba_arbol.numElementos()"
   ]
  },
  {
   "cell_type": "code",
   "execution_count": 880,
   "id": "05f9b37e-af30-4c80-91eb-32afb520fd8b",
   "metadata": {},
   "outputs": [
    {
     "data": {
      "text/plain": [
       "[5, 3, 7]"
      ]
     },
     "execution_count": 880,
     "metadata": {},
     "output_type": "execute_result"
    }
   ],
   "source": [
    "# Ahora recorramos con los métodos de preOrden e inOrden el árbol construido\n",
    "# PreOrden \n",
    "prueba_arbol.preOrden()"
   ]
  },
  {
   "cell_type": "code",
   "execution_count": 881,
   "id": "bc02bc3c-4959-4ecb-9d99-376df3b0b477",
   "metadata": {},
   "outputs": [
    {
     "data": {
      "text/plain": [
       "[3, 5, 7]"
      ]
     },
     "execution_count": 881,
     "metadata": {},
     "output_type": "execute_result"
    }
   ],
   "source": [
    "# InOrden\n",
    "prueba_arbol.inOrden()"
   ]
  },
  {
   "cell_type": "markdown",
   "id": "3e9a77d9-5981-4ae3-9225-bcf8ceaabd97",
   "metadata": {},
   "source": [
    "La implementación proporcionada para el árbol es recursiva, es decir, se hace de forma que todos los nodos del árbol son árboles en sí mismos, y todos los métodos se llaman a sí mismos de manera que se aprovecha el diseño para recorrer el árbol para cualquier tarea.\n",
    "\n",
    "Se piden implementaciones iterativas para recorrer el árbole en pre-orden, in-orden y amplitud, empleando para ello las estructuras pila y cola proporcionadas."
   ]
  },
  {
   "cell_type": "markdown",
   "id": "ba6161d4-22cf-4351-a4f9-1bd0c725038b",
   "metadata": {},
   "source": [
    "Vamos a hacer nuestro árbol un poco más grande insertando algunos números más:"
   ]
  },
  {
   "cell_type": "code",
   "execution_count": 882,
   "id": "045cff53-02b9-42de-acaa-09416b971540",
   "metadata": {},
   "outputs": [],
   "source": [
    "prueba_arbol.insertar(2)\n",
    "prueba_arbol.insertar(4)\n",
    "prueba_arbol.insertar(6)\n",
    "prueba_arbol.insertar(8)\n",
    "prueba_arbol.insertar(9)\n",
    "prueba_arbol.insertar(1)"
   ]
  },
  {
   "cell_type": "code",
   "execution_count": 883,
   "id": "0c406bdd-f14c-4526-ac76-36b24ed229be",
   "metadata": {},
   "outputs": [
    {
     "data": {
      "text/plain": [
       "[5, 3, 2, 1, 4, 7, 6, 8, 9]"
      ]
     },
     "execution_count": 883,
     "metadata": {},
     "output_type": "execute_result"
    }
   ],
   "source": [
    "prueba_arbol.preOrden()"
   ]
  },
  {
   "cell_type": "code",
   "execution_count": 884,
   "id": "49095eb7-3a4d-4f8c-9b02-2ae3bee39c52",
   "metadata": {},
   "outputs": [
    {
     "data": {
      "text/plain": [
       "[1, 2, 3, 4, 5, 6, 7, 8, 9]"
      ]
     },
     "execution_count": 884,
     "metadata": {},
     "output_type": "execute_result"
    }
   ],
   "source": [
    "prueba_arbol.inOrden()"
   ]
  },
  {
   "cell_type": "code",
   "execution_count": 885,
   "id": "264460b2-c794-42ba-922d-f81aba848a82",
   "metadata": {},
   "outputs": [],
   "source": [
    "# IMPLEMENTACIÓN ITERATIVA DEL RECORRIDO EN PREORDEN USANDO UNA PILA\n",
    "def preOrden_iter(tree: ArbolBinarioOrdenado):\n",
    "    if not isinstance(tree, ArbolBinarioOrdenado):\n",
    "        raise TypeError\n",
    "    pila = Pila(ArbolBinarioOrdenado)\n",
    "    pila.apilar(tree)\n",
    "    num_iter=0\n",
    "    l = list()\n",
    "    while not pila.estaVacia():\n",
    "        aux = pila.desapilar()        \n",
    "        l.append(aux.raiz())\n",
    "        # Es fundamental el orden en el que apilamos los subárboles, para que al ir desapilando vayamos \n",
    "        # recorriendo el árbol de la manera deseada\n",
    "        # Evitamos apilar árboles vacíos\n",
    "        if not aux.arbolDcho().estaVacio():\n",
    "            pila.apilar(aux.arbolDcho())\n",
    "        if not aux.arbolIzdo().estaVacio():\n",
    "            pila.apilar(aux.arbolIzdo())\n",
    "        num_iter += 1\n",
    "    return l, num_iter\n",
    "\n",
    "# IMPLEMENTACIÓN ITERATIVA DEL RECORRIDO EN INORDEN USANDO UNA PILA\n",
    "def inOrden_iter(tree: ArbolBinarioOrdenado):\n",
    "    if not isinstance(tree, ArbolBinarioOrdenado):\n",
    "        raise TypeError\n",
    "    pila = Pila(ArbolBinarioOrdenado)\n",
    "    aux = tree\n",
    "    l = list()\n",
    "    num_iter = 0\n",
    "    while len(l) < tree.numElementos():  \n",
    "        if not aux.estaVacio():\n",
    "            pila.apilar(aux)\n",
    "            aux = aux.arbolIzdo()\n",
    "        else:\n",
    "            aux2 = pila.desapilar()\n",
    "            l.append(aux2.raiz())\n",
    "            aux = aux2.arbolDcho()\n",
    "        num_iter += 1\n",
    "    return l, num_iter\n",
    "\n",
    "# IMPLEMENTACIÓN DEL RECORRIDO EN AMPLITUD USANDO EL TAD COLA\n",
    "def amp_iter(tree: ArbolBinarioOrdenado):\n",
    "    if not isinstance(tree, ArbolBinarioOrdenado):\n",
    "        raise TypeError\n",
    "    cola = Cola(ArbolBinarioOrdenado)\n",
    "    aux = tree\n",
    "    l = list()\n",
    "    cola.encolar(aux)\n",
    "    num_iter=0\n",
    "    while not cola.estaVacia():\n",
    "        aux = cola.desencolar()\n",
    "        # Evitamos encolar árboles vacíos\n",
    "        if not aux.arbolIzdo().estaVacio():\n",
    "            cola.encolar(aux.arbolIzdo())\n",
    "        if not aux.arbolDcho().estaVacio():\n",
    "            cola.encolar(aux.arbolDcho())\n",
    "        l.append(aux.raiz())\n",
    "        num_iter += 1\n",
    "    return l, num_iter"
   ]
  },
  {
   "cell_type": "markdown",
   "id": "263815e8-16f3-4b7a-8d88-16e4e3c18ea1",
   "metadata": {},
   "source": [
    "### IMPLEMENTACIÓN\n",
    "Algunos comentarios sobre la implementación:\n",
    "En todos los casos se ha incluido una comprobación sobre el objeto que le estamos pasando a la función, y en el caso de que no sea una instancia de la clase ArbolBinarioOrdenado, se devuelve un error.\n",
    "\n",
    "1- Recorrido en pre-orden:\n",
    "    Se ejecuta el bloque de código mientras la pila no esté vacía (al inicial el bucle ya le hemos insertado el árbol). Las pila se define para almacenar árboles, puesto que al desapilar el árbol más reciente (aunque solo añadimos a la lista la raíz del árbol, nos hace falta apilar de nuevo sus árboles derecho e izquierdo (en ese orden), para que al desapilar se devuelvan los nodos de izquierda a derecha.\n",
    "\n",
    "    \n",
    "2- Recorrido en in-orden:\n",
    "    Por cómo se ha implementado, en este caso no se puede poner como condición de salida que la pila esté vacía, puesto que cuando desapilasemos el árbol original y antes de apilar su hijo derecho, la pila estaría vacía, y nos saldríamos del bucle. Es por esto que se ha impuesto la condición de haber recogido en la lista l todos los elementos del árbol. En este caso vamos apilando bajando siempre por la rama izquierda, y cuando llegamos al final, quitamos el último elemento que hemos incluido (añadimos su raíz a la lista) y comprobamos la rama derecha devolviendo los nodos según los vamos recibiendo. Es más sencillo de entender si pensamos en ordenar de menor a mayor (siempre queremos dar los elementos más pequeños antes). En el caso de ir por las ramas de la izquierda, al avanzar, vamos hacia elementos más pequeños, por eso tenemos que ir hasta lo más profundo antes de empezar a añadir los elementos a nuestro output, mientras que al recorrer las ramas yendo por los hijos de la derecha, vamos yendo hacia tamaño mayor, por eso tenemos que añadir los elementos a nuestro output antes de apilar los hijos de la derecha.\n",
    "\n",
    "    \n",
    "3- Recorrido en amplitud:\n",
    "Se usa la cola porque en este caso queremos devolver los elementos por niveles de arriba hacia abajo (al desencolar extraemos el elemento más \"antiguo\", que se corresponderá con los niveles superiores, o dentro del mismo nivel, con los elementos que estén más a la izquierda, por eso encolamos primero el hijo izquierdo y luego el derecho).  \n",
    "\n",
    "Tanto en el recorrido en pre-orden como en el recorrido en amplitud ha sido necesario comprobar explícitamente que los árboles hijos no estuvieran vacíos, puesto que sino añadiríamos 'Nones' a la lista.\n",
    "### COSTE\n",
    "Viendo las implementaciones hechas, uno puede ver que en el recorrido en preorden y en amplitud en cada ejecución del bucle while se extrae un elemento, luego el número de veces que se ejecuta el bucle debería ser exactamente el número de nodos que haya en el árbol. \n",
    "\n",
    "Para la ejecución en in-orden, por otro lado, esto no es así, porque antes de sacar un elemento tenemos que llegar a lo más profundo de la rama. En el ejemplo que estamos usando, antes de extraer un elemento, tendríamos que dar 4 pasos (para llegar al nodo más profundo yendo solo por el árbol izquierdo). En este caso, sacar el número de iteraciones a ojo parece difícil, así que posteriormente haremos un poco de análisis."
   ]
  },
  {
   "cell_type": "markdown",
   "id": "942b37da-a2b7-4715-b9ba-538fd29330af",
   "metadata": {},
   "source": [
    "Probemos los métodos impolementados con el árbol de prueba construido:"
   ]
  },
  {
   "cell_type": "code",
   "execution_count": 886,
   "id": "1e233d98-dc86-4de0-91da-31998dfe6924",
   "metadata": {},
   "outputs": [
    {
     "name": "stdout",
     "output_type": "stream",
     "text": [
      "[5, 3, 2, 1, 4, 7, 6, 8, 9]\n",
      "Número de iteraciones: 9\n"
     ]
    }
   ],
   "source": [
    "##### PRE ORDEN #####\n",
    "l1, niter = preOrden_iter(prueba_arbol)\n",
    "print(l1)\n",
    "print('Número de iteraciones: {}'.format(niter))"
   ]
  },
  {
   "cell_type": "code",
   "execution_count": 887,
   "id": "4fb4a7dc-9738-4ea9-9822-54259cede6cc",
   "metadata": {},
   "outputs": [
    {
     "data": {
      "text/plain": [
       "True"
      ]
     },
     "execution_count": 887,
     "metadata": {},
     "output_type": "execute_result"
    }
   ],
   "source": [
    "# Veamos que es igual que el método recursivo dado\n",
    "l1 == prueba_arbol.preOrden()"
   ]
  },
  {
   "cell_type": "code",
   "execution_count": 888,
   "id": "b6794008-4461-4fb4-ab02-fc35d777a043",
   "metadata": {},
   "outputs": [
    {
     "name": "stdout",
     "output_type": "stream",
     "text": [
      "[1, 2, 3, 4, 5, 6, 7, 8, 9]\n",
      "Número de iteraciones: 18\n"
     ]
    }
   ],
   "source": [
    "##### IN ORDEN #####\n",
    "l2, niter = inOrden_iter(prueba_arbol)\n",
    "print(l2)\n",
    "print('Número de iteraciones: {}'.format(niter))"
   ]
  },
  {
   "cell_type": "code",
   "execution_count": 889,
   "id": "fd019c11-5ff6-435f-a4e1-03ddde1a07cf",
   "metadata": {},
   "outputs": [
    {
     "data": {
      "text/plain": [
       "True"
      ]
     },
     "execution_count": 889,
     "metadata": {},
     "output_type": "execute_result"
    }
   ],
   "source": [
    "# Veamos que es igual que el método recursivo dado\n",
    "l2 == prueba_arbol.inOrden()"
   ]
  },
  {
   "cell_type": "code",
   "execution_count": 890,
   "id": "76732327-be3c-421b-bd1e-ba637d43dbce",
   "metadata": {},
   "outputs": [
    {
     "name": "stdout",
     "output_type": "stream",
     "text": [
      "[5, 3, 7, 2, 4, 6, 8, 1, 9]\n",
      "Número de iteraciones: 9\n"
     ]
    }
   ],
   "source": [
    "#### RECORRIDO EN AMPLITUD ####\n",
    "l3, niter = amp_iter(prueba_arbol)\n",
    "print(l3)\n",
    "print('Número de iteraciones: {}'.format(niter))"
   ]
  },
  {
   "cell_type": "markdown",
   "id": "e77e8b50-1ac5-43e6-854c-2dd5c0499727",
   "metadata": {},
   "source": [
    "Vamos a realizar un breve análisis sobre el coste (número de iteraciones y tiempo) para áboles de distintos tamaños generados de manera aleatoria. \n",
    "\n",
    "Con los resultados expuestos, se ve que tanto para pre-orden como para amplitud el número de iteraciones es exactamente el número de elementos del árbol (coste $\\mathcal{O}(n)$), mientras que para el recorrido en in-orden, el número de iteraciones es exactamente el doble que nodos tiene el árbol (coste $\\mathcal{O}(n)$ igualmente).\n",
    "\n",
    "Se ve que el coste en el caso de i-orden es mayor (el doble en cada caso), pero no escala de manera más rápida con la dimensión de las listas (como sería una exponencial o un factorial), luego el coste de los tres métodos es comparable (número de iteraciones dividido por dimensión está acotado cuando dimensión tiende a infinito)."
   ]
  },
  {
   "cell_type": "code",
   "execution_count": 891,
   "id": "0e483ff8-730b-4de9-8821-3bcbbfa94549",
   "metadata": {},
   "outputs": [],
   "source": [
    "from time import time\n",
    "import profile\n",
    "import random\n",
    "import numpy as np\n",
    "import matplotlib.pyplot as plt\n",
    "# fijamos la semilla por comodidad\n",
    "random.seed(200)"
   ]
  },
  {
   "cell_type": "code",
   "execution_count": 892,
   "id": "6bd802d1-86f8-49b9-bd59-4dbdd2e465a4",
   "metadata": {},
   "outputs": [
    {
     "data": {
      "image/png": "[encoded data removed]",
      "text/plain": [
       "<Figure size 640x480 with 1 Axes>"
      ]
     },
     "metadata": {},
     "output_type": "display_data"
    },
    {
     "data": {
      "image/png": "[encoded data removed]",
      "text/plain": [
       "<Figure size 640x480 with 1 Axes>"
      ]
     },
     "metadata": {},
     "output_type": "display_data"
    }
   ],
   "source": [
    "k = 9\n",
    "dim = list()\n",
    "n_iter = np.zeros(shape=(3,k))\n",
    "t = np.zeros(shape=(3,k))\n",
    "arb = ArbolBinarioOrdenado()\n",
    "for i in range(k):\n",
    "    n = 2 ** (i+1)\n",
    "    dim.append(n)\n",
    "    for j in range(arb.numElementos(), n):\n",
    "        arb.insertar(random.random()*100000)\n",
    "    # pre-orden\n",
    "    t1 = time()\n",
    "    l, niter = preOrden_iter(arb)\n",
    "    t2 = time()\n",
    "    n_iter[0,i] = niter\n",
    "    t[0,i] = t2 - t1\n",
    "    # in-orden\n",
    "    t1 = time()\n",
    "    l, niter = inOrden_iter(arb)\n",
    "    t2 = time()\n",
    "    n_iter[1,i] = niter \n",
    "    t[1,i] = t2 - t1\n",
    "    # amplitud\n",
    "    t1 = time()\n",
    "    l, niter = amp_iter(arb)\n",
    "    t2 = time()\n",
    "    n_iter[2,i] = niter \n",
    "    t[2,i] = t2 - t1\n",
    "plt.plot(dim, n_iter[0,...], 'bs', label='Pre-orden')\n",
    "plt.plot(dim, n_iter[1,...], '*',label='In-orden')\n",
    "plt.plot(dim, n_iter[2,...], 'g^',label='Amplitud')\n",
    "plt.plot(dim,dim, label='y=x')\n",
    "plt.plot(dim, [2 * dim[i] for i in range(k)], label='y=2x')\n",
    "plt.xlabel('Número de elementos en el árbol')\n",
    "plt.ylabel('Número de iteraciones para ordenarlos')\n",
    "plt.title('Número de iteraciones en función del algoritmo')\n",
    "plt.legend()\n",
    "plt.show()\n",
    "plt.plot(dim, t[0,...], 'bs', label='Pre-orden')\n",
    "plt.plot(dim, t[1,...], '*',label='In-orden')\n",
    "plt.plot(dim, t[2,...], 'g^',label='Amplitud')\n",
    "plt.xlabel('Número de elementos en el árbol')\n",
    "plt.ylabel('Tiempo')\n",
    "plt.title('Tiempo en función del algoritmo')\n",
    "plt.legend()\n",
    "plt.show()"
   ]
  },
  {
   "cell_type": "markdown",
   "id": "d24d6798-a50e-4abf-bef8-81aa0517d00e",
   "metadata": {},
   "source": [
    "# ALGORITMO DE HUFFMAN"
   ]
  },
  {
   "cell_type": "markdown",
   "id": "83ba6320-fbc6-4a1f-9d04-db9f9a292c88",
   "metadata": {},
   "source": [
    "Lo primero que vamos a hacer es implementar una función que a partir de una cadena de caracteres, nos devuelva un diccionario relacionando cada elemento y su frecuencia de aparición:"
   ]
  },
  {
   "cell_type": "code",
   "execution_count": 895,
   "id": "a227de07-6c8a-44a9-b1e2-ceb6f61d3845",
   "metadata": {},
   "outputs": [],
   "source": [
    "def get_frequencies(chain):\n",
    "    total = len(chain)\n",
    "    counter = {}\n",
    "    for letter in chain:\n",
    "        # añadimos la letra al diccionario si es la primera vez que aparece\n",
    "        if letter not in counter.keys():\n",
    "            counter[letter] = 0\n",
    "        counter[letter] += 1 / total\n",
    "    return counter"
   ]
  },
  {
   "cell_type": "markdown",
   "id": "aa62d001-dc4c-4240-9ae5-ce0a9fd098f0",
   "metadata": {},
   "source": [
    "Vamos a implementar dos clases: una clase Node y una clase HuffmanTree.\n",
    "Los nodos instanciados a Node van a ser los elementos del árbol de Huffman. Estos nodos tienen una serie de atributos definidos pensando en su explotación dentro de la clase árbol. Por ejemplo, el atributo used es una bandera para saber si un nodo ha sido considerado ya o no dentro de la construcción del árbol; el atributo parent es para asignar a cada nodo el lugar en la lista que ocupa su padre (puesto que no estoy almacenando la información en un árbol al uso, sino que todo está almacenado en una lista, y en cada iteración, cuando construimos el nodo padre a partir de los dos nodos hijos, este se añade al final de la lista); el atributo encoding sirve para asignar, una vez construido el padre, qué nodo es el hijo de la derecha (\"1\") y qué nodo es el hijo de la izquierda (\"0\").\n",
    "\n",
    "La clase HuffmanTree se inicializa con un diccionario de símbolos y frecuencias. Este diccionario se almacena en el atributo privado __probs. Después se genera una lista creando nodos para cada elemento del diccionario, almacenando la información de forma adecuada."
   ]
  },
  {
   "cell_type": "code",
   "execution_count": null,
   "id": "c1cfce9c-ff10-439a-aae8-ffda0d5ae03d",
   "metadata": {},
   "outputs": [],
   "source": [
    "class Node:\n",
    "    prob = 0.0\n",
    "    symbol = \"\"\n",
    "    encoding = \"\"\n",
    "    used = False\n",
    "    parent = -1 # se inicializa como -1 para ser coherente en los primeros hijos del nodo raíz\n",
    "class HuffmanTree:\n",
    "    Tree = None\n",
    "    Root = None\n",
    "    Nodes = list()\n",
    "    dictEncoder = {}\n",
    "\n",
    "    def __init__(self, dict_probs):\n",
    "        self.__probs = dict_probs\n",
    "        self.initNodes()\n",
    "        self.buildTree()\n",
    "        self.buildEncodingDictionary()\n",
    "        \n",
    "    def initNodes(self):\n",
    "        \"\"\" Con este método almacenamos en objetos nodo toda la \n",
    "            info de nuestro diccionario de frecuencias\"\"\"\n",
    "        for key, value in self.__probs.items():\n",
    "            node = Node()\n",
    "            node.prob = value\n",
    "            node.symbol = key\n",
    "            self.Nodes.append(node)\n",
    "            \n",
    "    def buildTree(self):\n",
    "        indexMin1 = self.pop()\n",
    "        indexMin2 = self.pop()\n",
    "        while indexMin1 != -1 and indexMin2 != -1: # si alguno fuera -1 estaríamos terminando\n",
    "            node = Node()\n",
    "            prob1 = self.Nodes[indexMin1].prob\n",
    "            prob2 = self.Nodes[indexMin2].prob\n",
    "            node.prob = prob1 + prob2\n",
    "            self.Nodes.append(node) # este nodo se convierte en el padre de los dos nodos usados y se añade al final de la lista\n",
    "            self.Nodes[indexMin1].parent = len(self.Nodes) - 1\n",
    "            self.Nodes[indexMin2].parent = len(self.Nodes) - 1\n",
    "            # Asignamos código 1 al nodo de menor probabilidad\n",
    "            if prob1 >= prob2:\n",
    "                self.Nodes[indexMin1].encoding = \"0\"\n",
    "                self.Nodes[indexMin2].encoding = \"1\"\n",
    "            else:\n",
    "                self.Nodes[indexMin1].encoding = \"1\"\n",
    "                self.Nodes[indexMin2].encoding = \"0\"\n",
    "            indexMin1 = self.pop()\n",
    "            indexMin2 = self.pop()\n",
    "            \n",
    "    def pop(self):\n",
    "        \"\"\" Este método sirve para extraer los nodos en orden de prioridad (menor prob a mayor). Al contrario que en las \n",
    "        pilas o colas usadas, no voy eliminando los nodos, por eso incluyo el atributo used, para saber cuáles\n",
    "        he usado ya \"\"\"\n",
    "        minProb = 1.0 # para que asigne valores en la primera iteración\n",
    "        indexMin = -1 # valor de control para el caso en el que llegamos a terminar, en el que no actualizamos nada\n",
    "        for i in range(len(self.Nodes)):\n",
    "            if self.Nodes[i].prob < minProb and not self.Nodes[i].used:\n",
    "                minProb = self.Nodes[i].prob\n",
    "                indexMin = i\n",
    "        if indexMin != -1:\n",
    "            self.Nodes[indexMin].used = True\n",
    "        return indexMin\n",
    "\n",
    "    def symbol_to_code(self, a):\n",
    "        \"\"\" Asignamos a un símbolo dado su código binario Huffman \"\"\"\n",
    "        found = False\n",
    "        for i in range(len(self.Nodes)):\n",
    "            if self.Nodes[i].symbol == a:\n",
    "                found = True\n",
    "                ind = i\n",
    "                break\n",
    "        encoding = \"\"\n",
    "        if found:\n",
    "            while ind != -1:\n",
    "                encoding += self.Nodes[ind].encoding\n",
    "                ind = self.Nodes[ind].parent\n",
    "        else:\n",
    "            return \"unknown symbol\"\n",
    "        return encoding[::-1] # le damos la vuelta al código porque lo hemos leído de abajo a arriba\n",
    "\n",
    "    def buildEncodingDictionary(self):\n",
    "        for symbol in self.__probs.keys():\n",
    "            self.dictEncoder[symbol] = self.symbol_to_code(symbol)\n",
    "            \n",
    "    def decode(self, code):\n",
    "        parent = len(self.Nodes) - 1 # índice de la raíz del árbol \n",
    "        for side in code:\n",
    "            index_son = self.search_son(parent, side)\n",
    "            parent = index_son\n",
    "        return self.Nodes[index_son].symbol        \n",
    "\n",
    "    def search_son(self, parent: int, side: str):\n",
    "        for i in range(len(self.Nodes)):\n",
    "            if self.Nodes[i].parent == parent and self.Nodes[i].encoding == side:\n",
    "                return i            \n",
    "        raise Error('Código no encontrado')"
   ]
  },
  {
   "cell_type": "code",
   "execution_count": 953,
   "id": "0e4e4d08-477a-4acd-b034-32dadd8e6623",
   "metadata": {},
   "outputs": [],
   "source": [
    "import random\n",
    "import string\n",
    "\n",
    "def get_random_string(length):\n",
    "    # choose from all lowercase letter\n",
    "    letters = string.ascii_lowercase\n",
    "    result_str = ''.join(random.choice(letters) for i in range(length))\n",
    "    print(\"Random string of length\", length, \"is:\", result_str)"
   ]
  },
  {
   "cell_type": "code",
   "execution_count": 990,
   "id": "4587851a-7313-493a-8316-ea314ebf5204",
   "metadata": {},
   "outputs": [
    {
     "data": {
      "text/plain": [
       "13"
      ]
     },
     "execution_count": 990,
     "metadata": {},
     "output_type": "execute_result"
    }
   ],
   "source": [
    "a = \"aaaaaaaaaaaaaaabbbbbbbbbbbbbbbbbbbbbbbbbbbbbbccccccccccccccccccccggggggggggdddddfffffeeeeeeeeeeeeeee\"\n",
    "dict_prob = get_frequencies(a)\n",
    "prueba_huffman = HuffmanTree(dict_prob)\n",
    "prueba_huffman.symbol_to_code('z')\n",
    "len(prueba_huffman.Nodes)"
   ]
  },
  {
   "cell_type": "markdown",
   "id": "048d8049-0105-423c-8973-8820e2e4747c",
   "metadata": {},
   "source": [
    "# NO DEBERÍAMOS TENER QUE COMPROBAR LAS PROBABILIDADES SI EL MÉTODO POP ESTÁ COGIENDO YA DE MENOR A MAYOR, ENTONCES LA 1 SIEMPRE DEBERÍA SER 1 Y LA 2 0"
   ]
  }
 ],
 "metadata": {
  "kernelspec": {
   "display_name": "Python 3 (ipykernel)",
   "language": "python",
   "name": "python3"
  },
  "language_info": {
   "codemirror_mode": {
    "name": "ipython",
    "version": 3
   },
   "file_extension": ".py",
   "mimetype": "text/x-python",
   "name": "python",
   "nbconvert_exporter": "python",
   "pygments_lexer": "ipython3",
   "version": "3.11.7"
  }
 },
 "nbformat": 4,
 "nbformat_minor": 5
}
