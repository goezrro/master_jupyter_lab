{
 "cells": [
  {
   "cell_type": "markdown",
   "id": "0a30e81e-367d-4fde-a174-909c419d7aeb",
   "metadata": {},
   "source": [
    "<table style=\"width:100%;font-size:11pt\">\n",
    "        <tr style=\"width:100%;font-size:11pt\">\n",
    "            <td style=\"border: 1px #0098cd solid; background-color:#E6F4F9; color:#0098CD; width:35%\"><center>Asignatura</center>\n",
    "            </td>\n",
    "            <td style=\"border: 1px #0098cd solid; background-color:#E6F4F9; color:#0098CD\"><center>Datos del alumno</center>\n",
    "            </td>\n",
    "            <td style=\"border: 1px #0098cd solid; background-color:#E6F4F9; color:#0098CD; width:10%\"><center>Fecha</center>\n",
    "            </td>\n",
    "        </tr>\n",
    "        <tr style=\"width:100%;font-size:11pt\">\n",
    "            <td rowspan=\"2\" style=\"border: 1px #0098cd solid\"><center><b>Técnicas Multivaraintes y Machine Learning</b></center>\n",
    "            </td>\n",
    "            <td style=\"border: 1px #0098cd solid; text-align:left\">Apellidos: Gómez del Hierro</td>\n",
    "            <td rowspan=\"2\" style=\"border: 1px #0098cd solid\"><center>20/05/2024</center>\n",
    "            </td>\n",
    "        </tr>\n",
    "        <tr>\n",
    "            <td style=\"border: 1px #0098cd solid; text-align:left\">Nombres: Gonzalo Miguel\n",
    "            </td>\n",
    "        </tr>\n",
    "            <tr style=\"width:100%;font-size:11pt\">\n",
    "            <td style=\"border: 1px #0098cd solid; background-color:#E6F4F9; color:#0098CD\"><center>Actividad</center>\n",
    "            </td>\n",
    "            <td colspan=\"2\" style=\"border: 1px #0098cd solid; text-align:left\">Laboratorio: Resolver un problema de regresión\n",
    "            </td>\n",
    "        </tr>    \n",
    "</table>"
   ]
  },
  {
   "cell_type": "markdown",
   "id": "4c74428f-9861-4da2-aea3-d09525509c85",
   "metadata": {},
   "source": [
    "### *Esta versión del notebook esta ajustada para el documento en pdf que hay que aportar.*"
   ]
  },
  {
   "cell_type": "code",
   "execution_count": 19,
   "id": "945cee23-6426-47c3-aff3-0c80a82135d2",
   "metadata": {
    "jupyter": {
     "source_hidden": true
    }
   },
   "outputs": [],
   "source": [
    "# importamos algunas librerías y funciones para usar durante el desarrollo de la práctica\n",
    "import sklearn\n",
    "from sklearn.datasets import make_regression\n",
    "import numpy as np\n",
    "import pandas as pd\n",
    "import seaborn as sns\n",
    "import matplotlib.pyplot as plt\n",
    "import itertools\n",
    "import copy as cp"
   ]
  },
  {
   "cell_type": "markdown",
   "id": "07e1219c-8756-4366-979d-bbb2262f6ed3",
   "metadata": {},
   "source": [
    "A partir de mi NI (71204274) y según las reglas recogidas en el enunciado de la práctica, definimos la semilla siguiente. La definimos como un string para poder acceder a las posiciones de manera más cómoda. \n",
    "También, definimos los parámetros de entrada que necesita la función make_regression de sklearn tal y como se describe en el enunciado de la práctica."
   ]
  },
  {
   "cell_type": "code",
   "execution_count": 20,
   "id": "a248fc92-7151-4445-a751-71b38d18e8f0",
   "metadata": {
    "jupyter": {
     "source_hidden": true
    }
   },
   "outputs": [],
   "source": [
    "semilla = '72224274' "
   ]
  },
  {
   "cell_type": "code",
   "execution_count": 21,
   "id": "5bf99766-5eca-4780-a12b-6f85ab9072ba",
   "metadata": {
    "jupyter": {
     "source_hidden": true
    }
   },
   "outputs": [],
   "source": [
    "# definimos las variables de entrada para crear la colección de datos según se indica\n",
    "n_samples = 200 + 10 * int(semilla[0])\n",
    "n_features = 10 +  int(semilla[1]) + int(semilla[2])\n",
    "n_informative = 10 + int(semilla[1])\n",
    "noise = 10 * int(semilla[3])"
   ]
  },
  {
   "cell_type": "code",
   "execution_count": 22,
   "id": "ae3087a5-7f48-47f6-801c-fb68da03bdc2",
   "metadata": {
    "jupyter": {
     "source_hidden": true
    }
   },
   "outputs": [],
   "source": [
    "# generamos la colección de datos\n",
    "X, y = make_regression(n_samples=n_samples, n_features=n_features, n_informative=n_informative,\n",
    "                      bias=2, noise=noise, random_state=int(semilla), shuffle=False)"
   ]
  },
  {
   "cell_type": "markdown",
   "id": "5ed24495-91ae-4999-a6c4-de3f3ba1fdda",
   "metadata": {},
   "source": [
    "De esta manera, hemos generado una muestra con 270 observaciones (n_samples) compuestas por 14 variables independientes (n_features) y una variable objetivo. De estas 14 variables independientes, 2 son redundantes (n_features - n_informative), como también veremos más adelante con un método paso a paso guiado por el p-valor. Como se puede ver en la documentación de la librería, el parámetro noise se corresponde con la desviación estándar del ruido que se aplica sobre la muestra perfectamente lineal, para romper dicha linealidad. Como también se puede ver en la documentación, el parámetro bias es la ordenada en el origen del modelo lineal del que se parte. Es decir, si el parámetro noise fuera 0, este bias sería la constante ($\\beta_0$) en el modelo lineal $y = \\beta_0 + \\beta_1\\cdot x_1 \\cdot ... \\cdot \\beta_{14} \\cdot x_{14}$. Se define el parámetro shuffle como False para que no se \"barajen\" observaciones y características.\n",
    "\n",
    "A continuación, vamos a almacenar la información que sale de la función make_regression y vamos a recabar sus características haciendo uso de métodos propios de los DataFrames de Pandas."
   ]
  },
  {
   "cell_type": "code",
   "execution_count": 23,
   "id": "c3f1c227-e78e-4d95-8d46-0fb2dc0648e4",
   "metadata": {
    "jupyter": {
     "source_hidden": true
    }
   },
   "outputs": [],
   "source": [
    "# Generamos un dataset apropiado con la info que tenemos\n",
    "# etiquetas para las n_features variables independientes + la variable independiente\n",
    "columns = ['x{}'.format(i) for i in range(X.shape[1])]\n",
    "columns.append('y')"
   ]
  },
  {
   "cell_type": "code",
   "execution_count": 24,
   "id": "00e2693a-4360-40eb-bfb9-8c16f2e7408b",
   "metadata": {
    "jupyter": {
     "source_hidden": true
    }
   },
   "outputs": [],
   "source": [
    "# generamos un dataframe apropiado\n",
    "df = pd.DataFrame(np.hstack((X,y[:, None])), columns=columns)"
   ]
  },
  {
   "cell_type": "code",
   "execution_count": null,
   "id": "8680f905-456a-46d2-9f63-61fa498d4b6b",
   "metadata": {
    "jupyter": {
     "source_hidden": true
    }
   },
   "outputs": [],
   "source": [
    "# describimos nuestro conjunto de datos con algunas funciones útiles\n",
    "df"
   ]
  },
  {
   "cell_type": "code",
   "execution_count": 26,
   "id": "338a8010-451c-43fb-9341-2aa0ba580fb6",
   "metadata": {
    "jupyter": {
     "source_hidden": true
    }
   },
   "outputs": [
    {
     "name": "stdout",
     "output_type": "stream",
     "text": [
      "<class 'pandas.core.frame.DataFrame'>\n",
      "RangeIndex: 270 entries, 0 to 269\n",
      "Data columns (total 15 columns):\n",
      " #   Column  Non-Null Count  Dtype  \n",
      "---  ------  --------------  -----  \n",
      " 0   x0      270 non-null    float64\n",
      " 1   x1      270 non-null    float64\n",
      " 2   x2      270 non-null    float64\n",
      " 3   x3      270 non-null    float64\n",
      " 4   x4      270 non-null    float64\n",
      " 5   x5      270 non-null    float64\n",
      " 6   x6      270 non-null    float64\n",
      " 7   x7      270 non-null    float64\n",
      " 8   x8      270 non-null    float64\n",
      " 9   x9      270 non-null    float64\n",
      " 10  x10     270 non-null    float64\n",
      " 11  x11     270 non-null    float64\n",
      " 12  x12     270 non-null    float64\n",
      " 13  x13     270 non-null    float64\n",
      " 14  y       270 non-null    float64\n",
      "dtypes: float64(15)\n",
      "memory usage: 31.8 KB\n"
     ]
    }
   ],
   "source": [
    "df.info()"
   ]
  },
  {
   "cell_type": "code",
   "execution_count": 27,
   "id": "f8ea3859-2581-472e-bafa-b310c9882e01",
   "metadata": {
    "jupyter": {
     "source_hidden": true
    }
   },
   "outputs": [
    {
     "data": {
      "text/html": [
       "<div>\n",
       "<style scoped>\n",
       "    .dataframe tbody tr th:only-of-type {\n",
       "        vertical-align: middle;\n",
       "    }\n",
       "\n",
       "    .dataframe tbody tr th {\n",
       "        vertical-align: top;\n",
       "    }\n",
       "\n",
       "    .dataframe thead th {\n",
       "        text-align: right;\n",
       "    }\n",
       "</style>\n",
       "<table border=\"1\" class=\"dataframe\">\n",
       "  <thead>\n",
       "    <tr style=\"text-align: right;\">\n",
       "      <th></th>\n",
       "      <th>x0</th>\n",
       "      <th>x1</th>\n",
       "      <th>x2</th>\n",
       "      <th>x3</th>\n",
       "      <th>x4</th>\n",
       "      <th>x5</th>\n",
       "      <th>x6</th>\n",
       "      <th>x7</th>\n",
       "      <th>x8</th>\n",
       "      <th>x9</th>\n",
       "      <th>x10</th>\n",
       "      <th>x11</th>\n",
       "      <th>x12</th>\n",
       "      <th>x13</th>\n",
       "      <th>y</th>\n",
       "    </tr>\n",
       "  </thead>\n",
       "  <tbody>\n",
       "    <tr>\n",
       "      <th>count</th>\n",
       "      <td>270.000000</td>\n",
       "      <td>270.000000</td>\n",
       "      <td>270.000000</td>\n",
       "      <td>270.000000</td>\n",
       "      <td>270.000000</td>\n",
       "      <td>270.000000</td>\n",
       "      <td>270.000000</td>\n",
       "      <td>270.000000</td>\n",
       "      <td>270.000000</td>\n",
       "      <td>270.000000</td>\n",
       "      <td>270.000000</td>\n",
       "      <td>270.000000</td>\n",
       "      <td>270.000000</td>\n",
       "      <td>270.000000</td>\n",
       "      <td>270.000000</td>\n",
       "    </tr>\n",
       "    <tr>\n",
       "      <th>mean</th>\n",
       "      <td>-0.081585</td>\n",
       "      <td>-0.097058</td>\n",
       "      <td>-0.039994</td>\n",
       "      <td>-0.027497</td>\n",
       "      <td>-0.104199</td>\n",
       "      <td>0.050485</td>\n",
       "      <td>-0.020608</td>\n",
       "      <td>0.156459</td>\n",
       "      <td>-0.026023</td>\n",
       "      <td>-0.057981</td>\n",
       "      <td>0.104659</td>\n",
       "      <td>0.054468</td>\n",
       "      <td>-0.053897</td>\n",
       "      <td>-0.053776</td>\n",
       "      <td>3.890033</td>\n",
       "    </tr>\n",
       "    <tr>\n",
       "      <th>std</th>\n",
       "      <td>1.035451</td>\n",
       "      <td>0.961844</td>\n",
       "      <td>1.011112</td>\n",
       "      <td>0.991279</td>\n",
       "      <td>0.974281</td>\n",
       "      <td>0.941727</td>\n",
       "      <td>0.998258</td>\n",
       "      <td>1.027737</td>\n",
       "      <td>1.051168</td>\n",
       "      <td>0.983672</td>\n",
       "      <td>0.953814</td>\n",
       "      <td>1.000935</td>\n",
       "      <td>0.974444</td>\n",
       "      <td>0.994570</td>\n",
       "      <td>186.003767</td>\n",
       "    </tr>\n",
       "    <tr>\n",
       "      <th>min</th>\n",
       "      <td>-2.754765</td>\n",
       "      <td>-2.642654</td>\n",
       "      <td>-2.682709</td>\n",
       "      <td>-2.641308</td>\n",
       "      <td>-2.299527</td>\n",
       "      <td>-2.441561</td>\n",
       "      <td>-2.878151</td>\n",
       "      <td>-2.964314</td>\n",
       "      <td>-2.884744</td>\n",
       "      <td>-3.208742</td>\n",
       "      <td>-3.095005</td>\n",
       "      <td>-2.304660</td>\n",
       "      <td>-2.698280</td>\n",
       "      <td>-2.637598</td>\n",
       "      <td>-652.962806</td>\n",
       "    </tr>\n",
       "    <tr>\n",
       "      <th>25%</th>\n",
       "      <td>-0.768866</td>\n",
       "      <td>-0.814567</td>\n",
       "      <td>-0.768364</td>\n",
       "      <td>-0.729374</td>\n",
       "      <td>-0.786953</td>\n",
       "      <td>-0.559967</td>\n",
       "      <td>-0.658967</td>\n",
       "      <td>-0.505317</td>\n",
       "      <td>-0.722046</td>\n",
       "      <td>-0.705362</td>\n",
       "      <td>-0.554559</td>\n",
       "      <td>-0.711380</td>\n",
       "      <td>-0.676127</td>\n",
       "      <td>-0.702190</td>\n",
       "      <td>-114.400174</td>\n",
       "    </tr>\n",
       "    <tr>\n",
       "      <th>50%</th>\n",
       "      <td>-0.119491</td>\n",
       "      <td>-0.106750</td>\n",
       "      <td>-0.048220</td>\n",
       "      <td>-0.051611</td>\n",
       "      <td>-0.139248</td>\n",
       "      <td>0.034343</td>\n",
       "      <td>-0.044463</td>\n",
       "      <td>0.194328</td>\n",
       "      <td>-0.094226</td>\n",
       "      <td>-0.083917</td>\n",
       "      <td>0.089433</td>\n",
       "      <td>0.062546</td>\n",
       "      <td>-0.094599</td>\n",
       "      <td>-0.085843</td>\n",
       "      <td>2.808690</td>\n",
       "    </tr>\n",
       "    <tr>\n",
       "      <th>75%</th>\n",
       "      <td>0.614231</td>\n",
       "      <td>0.602314</td>\n",
       "      <td>0.633426</td>\n",
       "      <td>0.637455</td>\n",
       "      <td>0.529370</td>\n",
       "      <td>0.583760</td>\n",
       "      <td>0.687367</td>\n",
       "      <td>0.851522</td>\n",
       "      <td>0.724171</td>\n",
       "      <td>0.560182</td>\n",
       "      <td>0.663197</td>\n",
       "      <td>0.730935</td>\n",
       "      <td>0.576332</td>\n",
       "      <td>0.614925</td>\n",
       "      <td>132.729315</td>\n",
       "    </tr>\n",
       "    <tr>\n",
       "      <th>max</th>\n",
       "      <td>3.398219</td>\n",
       "      <td>2.014683</td>\n",
       "      <td>2.840378</td>\n",
       "      <td>2.590261</td>\n",
       "      <td>2.802959</td>\n",
       "      <td>2.419353</td>\n",
       "      <td>2.503547</td>\n",
       "      <td>2.910772</td>\n",
       "      <td>3.446197</td>\n",
       "      <td>2.778748</td>\n",
       "      <td>2.889454</td>\n",
       "      <td>3.034686</td>\n",
       "      <td>2.750551</td>\n",
       "      <td>3.182717</td>\n",
       "      <td>555.141179</td>\n",
       "    </tr>\n",
       "  </tbody>\n",
       "</table>\n",
       "</div>"
      ],
      "text/plain": [
       "               x0          x1          x2          x3          x4          x5  \\\n",
       "count  270.000000  270.000000  270.000000  270.000000  270.000000  270.000000   \n",
       "mean    -0.081585   -0.097058   -0.039994   -0.027497   -0.104199    0.050485   \n",
       "std      1.035451    0.961844    1.011112    0.991279    0.974281    0.941727   \n",
       "min     -2.754765   -2.642654   -2.682709   -2.641308   -2.299527   -2.441561   \n",
       "25%     -0.768866   -0.814567   -0.768364   -0.729374   -0.786953   -0.559967   \n",
       "50%     -0.119491   -0.106750   -0.048220   -0.051611   -0.139248    0.034343   \n",
       "75%      0.614231    0.602314    0.633426    0.637455    0.529370    0.583760   \n",
       "max      3.398219    2.014683    2.840378    2.590261    2.802959    2.419353   \n",
       "\n",
       "               x6          x7          x8          x9         x10         x11  \\\n",
       "count  270.000000  270.000000  270.000000  270.000000  270.000000  270.000000   \n",
       "mean    -0.020608    0.156459   -0.026023   -0.057981    0.104659    0.054468   \n",
       "std      0.998258    1.027737    1.051168    0.983672    0.953814    1.000935   \n",
       "min     -2.878151   -2.964314   -2.884744   -3.208742   -3.095005   -2.304660   \n",
       "25%     -0.658967   -0.505317   -0.722046   -0.705362   -0.554559   -0.711380   \n",
       "50%     -0.044463    0.194328   -0.094226   -0.083917    0.089433    0.062546   \n",
       "75%      0.687367    0.851522    0.724171    0.560182    0.663197    0.730935   \n",
       "max      2.503547    2.910772    3.446197    2.778748    2.889454    3.034686   \n",
       "\n",
       "              x12         x13           y  \n",
       "count  270.000000  270.000000  270.000000  \n",
       "mean    -0.053897   -0.053776    3.890033  \n",
       "std      0.974444    0.994570  186.003767  \n",
       "min     -2.698280   -2.637598 -652.962806  \n",
       "25%     -0.676127   -0.702190 -114.400174  \n",
       "50%     -0.094599   -0.085843    2.808690  \n",
       "75%      0.576332    0.614925  132.729315  \n",
       "max      2.750551    3.182717  555.141179  "
      ]
     },
     "execution_count": 27,
     "metadata": {},
     "output_type": "execute_result"
    }
   ],
   "source": [
    "df.describe()"
   ]
  },
  {
   "cell_type": "markdown",
   "id": "19e60929-c0a5-4b5a-ac12-ef724262f1d6",
   "metadata": {},
   "source": [
    "Del describe anterior podemos observar que todas las features (variables independientes) $x_0,...x_{13}$ se distribuyen de maneras muy similar."
   ]
  },
  {
   "cell_type": "code",
   "execution_count": null,
   "id": "5a7f2c1d-02b0-47f4-97bf-3258e2289032",
   "metadata": {
    "jupyter": {
     "source_hidden": true
    }
   },
   "outputs": [],
   "source": [
    "df.head()"
   ]
  },
  {
   "cell_type": "code",
   "execution_count": null,
   "id": "7ccf561b-b529-41e4-b075-c5fca9d8159a",
   "metadata": {
    "jupyter": {
     "source_hidden": true
    }
   },
   "outputs": [],
   "source": [
    "df.tail()"
   ]
  },
  {
   "cell_type": "markdown",
   "id": "880bc318-82be-48c9-b9f7-d02765fbb73b",
   "metadata": {},
   "source": [
    "Veamos la matriz de correlación de las variables independientes y la variable dependendiente, con el objetivo de tener una primera sensación de qué variable son más explicativas y también de si podemos tener variables redundantes."
   ]
  },
  {
   "cell_type": "code",
   "execution_count": null,
   "id": "6687ff83-452b-47e2-87b5-97c561e05d8d",
   "metadata": {
    "jupyter": {
     "source_hidden": true
    }
   },
   "outputs": [],
   "source": [
    "corr = df.corr(method='pearson')\n",
    "# Mapa de calor sobre las ocrrelaciones entre variables\n",
    "sns.heatmap(corr, cmap='coolwarm')"
   ]
  },
  {
   "cell_type": "markdown",
   "id": "7331f19d-f33e-4b61-8aea-b4a05a3cf338",
   "metadata": {},
   "source": [
    "Como se ve en la figura, las variables independiente no están apenas correladas entre sí, y sí lo están con la variable independiente, aunque uno ya puede ver que las variables 4, 7, 8, 12 y 13 tienen un índice de correlación más bajo con la variable objetivo.\n",
    "\n",
    "Podríamos dividir nuestro conjunto en simplemente las primeras 200 observaciones para el conjunto de entrenamiento y las restantes 70 para el conjunto de validación, pero por introducir herramientas establecidas en la industria, generemos nuestros conjuntos de manera aleatoria sobre la muestra."
   ]
  },
  {
   "cell_type": "markdown",
   "id": "465b4739-38ad-400c-b161-32ec1b38d931",
   "metadata": {},
   "source": [
    "Vamos a representar la variable objetivo en función de cada una de las variables independientes, como se pide en el enunciado, pero no resulta muy informativo."
   ]
  },
  {
   "cell_type": "code",
   "execution_count": null,
   "id": "13e1b5a8-db09-4fa2-bbc3-8523e256acd2",
   "metadata": {
    "jupyter": {
     "source_hidden": true
    }
   },
   "outputs": [],
   "source": [
    "sns.pairplot(df, x_vars=columns[0:-1], y_vars=columns[-1])"
   ]
  },
  {
   "cell_type": "code",
   "execution_count": 32,
   "id": "33e80f9a-a9b4-4f8e-9100-bc7127770549",
   "metadata": {
    "jupyter": {
     "source_hidden": true
    }
   },
   "outputs": [],
   "source": [
    "# Dividimos nuestro conjunto en validación y test\n",
    "from sklearn.model_selection import train_test_split\n",
    "X_train, X_test, y_train, y_test = train_test_split(X, y, test_size=70/270, random_state=40)\n",
    "df_train = pd.DataFrame(np.hstack((X_train,y_train[:, None])), columns=columns)\n",
    "df_test = pd.DataFrame(np.hstack((X_test,y_test[:, None])), columns=columns)"
   ]
  },
  {
   "cell_type": "markdown",
   "id": "b31fee7d-a9c4-437b-b577-74609a75ce05",
   "metadata": {},
   "source": [
    "Construimos el modelo de regresión lineal múltiple usando la muestra de entrenamiento."
   ]
  },
  {
   "cell_type": "code",
   "execution_count": 33,
   "id": "d22b1096-34e1-4eab-a521-93706172ba62",
   "metadata": {
    "jupyter": {
     "source_hidden": true
    }
   },
   "outputs": [],
   "source": [
    "# Regresión lineal habitual por mínimos cuadrados\n",
    "from sklearn.linear_model import LinearRegression\n",
    "reg_ls = LinearRegression().fit(X_train, y_train)"
   ]
  },
  {
   "cell_type": "code",
   "execution_count": 49,
   "id": "21a718fe-3ef1-4d54-94da-18e8cf8a749d",
   "metadata": {
    "jupyter": {
     "source_hidden": true
    }
   },
   "outputs": [],
   "source": [
    "# evaluamos la función obtenida en la muestra de variables independientes reservada para test\n",
    "y_test_pred = reg_ls.predict(X_test)"
   ]
  },
  {
   "cell_type": "code",
   "execution_count": 35,
   "id": "8bb81821-cc5d-442f-a0a7-4dc8fd7aac1a",
   "metadata": {
    "jupyter": {
     "source_hidden": true
    }
   },
   "outputs": [
    {
     "name": "stdout",
     "output_type": "stream",
     "text": [
      "Coeficientes: \n",
      " [43.94602382 22.46183943 29.83640725 92.26844468 10.59352384 71.49254563\n",
      " 97.85547196  3.45748611  9.52834508 15.67491137 72.3429387  73.63585407\n",
      "  0.68818835 -0.58378327] \n",
      " Intercepto: \n",
      " 2.6948483674190102\n",
      "Error cuadrático medio: 464.45\n",
      "Coeficiente de determinación R2: 0.9854\n"
     ]
    }
   ],
   "source": [
    "from sklearn.metrics import mean_squared_error, r2_score\n",
    "# Coeficientes del modelo\n",
    "print(\"Coeficientes: \\n\", reg_ls.coef_, \"\\n\", \"Intercepto: \\n\", reg_ls.intercept_)\n",
    "# Error cuadrático medio sobre la muestra de test\n",
    "mean_error_lsm = cp.copy(mean_squared_error(y_test, y_test_pred))\n",
    "print(\"Error cuadrático medio: %.2f\" % mean_error_lsm)\n",
    "# Coeficiente de determinación 1 significa predicción perfecta\n",
    "r2_lsm = cp.copy(r2_score(y_test, y_test_pred))\n",
    "print(\"Coeficiente de determinación R2: %.4f\" % r2_lsm)"
   ]
  },
  {
   "cell_type": "markdown",
   "id": "86e95acc-91f5-4714-97e6-75d5718c01df",
   "metadata": {},
   "source": [
    "La predicción es muy buena.\n",
    "Si atendemos a los coeficientes obtenidos para la regresión es claro que las variables 12 y 13 tienen un peso despreciable en el cáclulo de $y$, y por tanto podremos eliminarlas sin perder capacidad explicativa de la variable objetivo.\n",
    "\n",
    "Podemos repetir la operación anterior excluyendo estas variables de una en una siguiendo algún criterio. También podríamos llevar a cabo, por ejemplo, un análisis de componentes principales y quedarnos con las componentes que necesitásemos para explicar la mayor parte de la varianza de la variable objetivo."
   ]
  },
  {
   "cell_type": "markdown",
   "id": "8a89b051-c351-4cd5-a0d5-b4a8d3ee9d80",
   "metadata": {},
   "source": [
    "Solo en esta ocasión, sin falta de generalidad para las posteriores regresiones, probamos la normalidad de los residuos sobre la muestra de test."
   ]
  },
  {
   "cell_type": "code",
   "execution_count": 36,
   "id": "e7cd5d90-b329-4104-a479-98137ca47c8e",
   "metadata": {
    "jupyter": {
     "source_hidden": true
    }
   },
   "outputs": [
    {
     "name": "stdout",
     "output_type": "stream",
     "text": [
      "Test Shapiro-Wilk, p.valor: 0.84126\n",
      "Como p.valor > 0.05, no se rechaza la hipótesis nula y se da normalidad en los residuos.\n"
     ]
    }
   ],
   "source": [
    "# obtener residuos sobre la muestra de entrenamiento\n",
    "y_pred = reg_ls.predict(X_train)\n",
    "residuos = y_train - y_pred\n",
    "y_resta = residuos ** 2\n",
    "import scipy.stats as stats\n",
    "sh_result = stats.shapiro(residuos)\n",
    "\n",
    "# dar formato a la salida\n",
    "print(\"Test Shapiro-Wilk, p.valor: %5.5f\" %(sh_result.pvalue))\n",
    "print(\"Como p.valor > 0.05, no se rechaza la hipótesis nula y se da normalidad en los residuos.\")"
   ]
  },
  {
   "cell_type": "code",
   "execution_count": 37,
   "id": "5fff1362-e431-4479-bac9-49ab485bfd12",
   "metadata": {
    "jupyter": {
     "source_hidden": true
    }
   },
   "outputs": [
    {
     "name": "stdout",
     "output_type": "stream",
     "text": [
      "El resultado del test Breusch-Pagan es: p.valor = 0.396\n",
      "Como p.valor > 0.05, no se rechaza la hipótesis nula y se da homocedasticidad.\n"
     ]
    }
   ],
   "source": [
    "import statsmodels.api as sm\n",
    "import statsmodels.stats.api as sms\n",
    "X2 = sm.add_constant(df_train[columns[0:-1]])\n",
    "est = sm.OLS(y_train,X2) # ordinary least squares method for regression\n",
    "est2 = est.fit()\n",
    "bp1 = sms.het_breuschpagan(resid = est2.resid, exog_het = est2.model.exog)[1]\n",
    "print(\"El resultado del test Breusch-Pagan es: p.valor = %5.3f\"%(bp1))\n",
    "print(\"Como p.valor > 0.05, no se rechaza la hipótesis nula y se da homocedasticidad.\")"
   ]
  },
  {
   "cell_type": "code",
   "execution_count": 38,
   "id": "3f5c9f57-5757-4a55-bb35-8911557ad758",
   "metadata": {
    "jupyter": {
     "source_hidden": true
    }
   },
   "outputs": [
    {
     "name": "stdout",
     "output_type": "stream",
     "text": [
      "El IC al 0.95 de b1 es: [43.94602382 22.46183943 29.83640725 92.26844468 10.59352384 71.49254563\n",
      " 97.85547196  3.45748611  9.52834508 15.67491137 72.3429387  73.63585407\n",
      "  0.68818835 -0.58378327] +/- 2.349341987407838\n",
      "El intervalo de confianza contiene al 0 para los dos últimos coeficientes, luego, las dos últimas variables (x12 y x13) no son significativas.\n"
     ]
    }
   ],
   "source": [
    "# calcular ICbeta1\n",
    "\n",
    "# calcular numerador sb1^2\n",
    "s2 = sum(y_resta)/(len(y_train)-2)\n",
    "\n",
    "# calcular denominador sb1^2\n",
    "den = np.var(X) * len(X)\n",
    "# calcular sb1\n",
    "sb1 = (s2/den) ** 0.5\n",
    "amplitud = 1.96 * sb1\n",
    "print(\"El IC al 0.95 de b1 es:\", reg_ls.coef_, \"+/-\", amplitud)\n",
    "print(\"El intervalo de confianza contiene al 0 para los dos últimos coeficientes, luego, las dos últimas variables (x12 y x13) no son significativas.\")"
   ]
  },
  {
   "cell_type": "code",
   "execution_count": 39,
   "id": "b94bff48-fd1a-4c15-bf98-2c3a6daa6a49",
   "metadata": {
    "jupyter": {
     "source_hidden": true
    }
   },
   "outputs": [
    {
     "name": "stdout",
     "output_type": "stream",
     "text": [
      "                            OLS Regression Results                            \n",
      "==============================================================================\n",
      "Dep. Variable:                      y   R-squared:                       0.989\n",
      "Model:                            OLS   Adj. R-squared:                  0.988\n",
      "Method:                 Least Squares   F-statistic:                     1216.\n",
      "Date:                Sat, 18 May 2024   Prob (F-statistic):          8.28e-174\n",
      "Time:                        14:26:02   Log-Likelihood:                -877.72\n",
      "No. Observations:                 200   AIC:                             1785.\n",
      "Df Residuals:                     185   BIC:                             1835.\n",
      "Df Model:                          14                                         \n",
      "Covariance Type:            nonrobust                                         \n",
      "==============================================================================\n",
      "                 coef    std err          t      P>|t|      [0.025      0.975]\n",
      "------------------------------------------------------------------------------\n",
      "const          2.6948      1.506      1.789      0.075      -0.276       5.666\n",
      "x0            43.9460      1.451     30.290      0.000      41.084      46.808\n",
      "x1            22.4618      1.647     13.638      0.000      19.213      25.711\n",
      "x2            29.8364      1.513     19.716      0.000      26.851      32.822\n",
      "x3            92.2684      1.548     59.618      0.000      89.215      95.322\n",
      "x4            10.5935      1.550      6.835      0.000       7.536      13.651\n",
      "x5            71.4925      1.562     45.784      0.000      68.412      74.573\n",
      "x6            97.8555      1.483     65.994      0.000      94.930     100.781\n",
      "x7             3.4575      1.548      2.234      0.027       0.404       6.511\n",
      "x8             9.5283      1.407      6.773      0.000       6.753      12.304\n",
      "x9            15.6749      1.518     10.324      0.000      12.679      18.670\n",
      "x10           72.3429      1.504     48.091      0.000      69.375      75.311\n",
      "x11           73.6359      1.438     51.206      0.000      70.799      76.473\n",
      "x12            0.6882      1.432      0.481      0.631      -2.136       3.513\n",
      "x13           -0.5838      1.493     -0.391      0.696      -3.529       2.361\n",
      "==============================================================================\n",
      "Omnibus:                        0.457   Durbin-Watson:                   1.890\n",
      "Prob(Omnibus):                  0.796   Jarque-Bera (JB):                0.600\n",
      "Skew:                           0.068   Prob(JB):                        0.741\n",
      "Kurtosis:                       2.769   Cond. No.                         1.61\n",
      "==============================================================================\n",
      "\n",
      "Notes:\n",
      "[1] Standard Errors assume that the covariance matrix of the errors is correctly specified.\n"
     ]
    }
   ],
   "source": [
    "# Hagamos algo de análisis estadístico extra sobre la regresión lineal que se obtiene meidante la librería statsmodel\n",
    "print(est2.summary())"
   ]
  },
  {
   "cell_type": "markdown",
   "id": "854e5b49-ab65-4f76-8d17-cda6788f7fac",
   "metadata": {},
   "source": [
    "Nótese que para este análisis más exhaustivo hemos tenido que volver a calcular los parámetros de la regresión para aprovechar la infraestructura que ofrece statsmodels (cuando ya habíamos empleado la clase LinearRegression de sklearn). Además este análisis es como \"matar moscas a cañonazos\", puesto que por el momento no nos vamos a fijar mucho más que en los $R^2$, los coeficientes y los p-valores.\n",
    "\n",
    "Atendiendo a la columna P>|t| (mayor valor implica menor significatividad estadística) de nuevo podemos observarque las variables $x_{13}$ ($x_{12}$ en el df) y $x_{14}$ ($x_{13}$ en el df) son las candidatas de no ser significativas.\n",
    "\n",
    "Con un algoritmo paso a paso, guiados por el p-valor y con una condición de parada basada en el rango en que se encuentren todos los p-valores, vamos a eliminar las variable con mayor p-valor, rehacer la regresión, calcular los p-valores y rehacer la operación hasta que se cumpla la condición de salida."
   ]
  },
  {
   "cell_type": "code",
   "execution_count": 40,
   "id": "2d7e5e67-1af0-47a7-b682-01f4889f3996",
   "metadata": {
    "jupyter": {
     "source_hidden": true
    }
   },
   "outputs": [
    {
     "name": "stdout",
     "output_type": "stream",
     "text": [
      "Variables eliminadas: ['x13', 'x12']\n",
      "Variables significativas: ['x0', 'x1', 'x2', 'x3', 'x4', 'x5', 'x6', 'x7', 'x8', 'x9', 'x10', 'x11']\n",
      "                            OLS Regression Results                            \n",
      "==============================================================================\n",
      "Dep. Variable:                      y   R-squared:                       0.989\n",
      "Model:                            OLS   Adj. R-squared:                  0.989\n",
      "Method:                 Least Squares   F-statistic:                     1430.\n",
      "Date:                Sat, 18 May 2024   Prob (F-statistic):          7.19e-177\n",
      "Time:                        14:26:02   Log-Likelihood:                -877.95\n",
      "No. Observations:                 200   AIC:                             1782.\n",
      "Df Residuals:                     187   BIC:                             1825.\n",
      "Df Model:                          12                                         \n",
      "Covariance Type:            nonrobust                                         \n",
      "==============================================================================\n",
      "                 coef    std err          t      P>|t|      [0.025      0.975]\n",
      "------------------------------------------------------------------------------\n",
      "const          2.7123      1.488      1.823      0.070      -0.223       5.647\n",
      "x0            44.0283      1.435     30.676      0.000      41.197      46.860\n",
      "x1            22.4708      1.640     13.702      0.000      19.236      25.706\n",
      "x2            29.8990      1.503     19.888      0.000      26.933      32.865\n",
      "x3            92.2451      1.541     59.870      0.000      89.206      95.285\n",
      "x4            10.6756      1.529      6.983      0.000       7.660      13.692\n",
      "x5            71.3962      1.542     46.314      0.000      68.355      74.437\n",
      "x6            97.8362      1.465     66.782      0.000      94.946     100.726\n",
      "x7             3.4146      1.540      2.218      0.028       0.377       6.452\n",
      "x8             9.4998      1.397      6.798      0.000       6.743      12.256\n",
      "x9            15.6263      1.501     10.413      0.000      12.666      18.587\n",
      "x10           72.3530      1.498     48.314      0.000      69.399      75.307\n",
      "x11           73.5675      1.428     51.510      0.000      70.750      76.385\n",
      "==============================================================================\n",
      "Omnibus:                        0.311   Durbin-Watson:                   1.888\n",
      "Prob(Omnibus):                  0.856   Jarque-Bera (JB):                0.461\n",
      "Skew:                           0.051   Prob(JB):                        0.794\n",
      "Kurtosis:                       2.788   Cond. No.                         1.60\n",
      "==============================================================================\n",
      "\n",
      "Notes:\n",
      "[1] Standard Errors assume that the covariance matrix of the errors is correctly specified.\n"
     ]
    }
   ],
   "source": [
    "tol = 1\n",
    "# comenzamos considerando todas las variables\n",
    "x_columns = columns[0:-1]\n",
    "idx = np.argwhere(est2.pvalues == max(est2.pvalues))[0][0]\n",
    "iter = 0\n",
    "removed_var = []\n",
    "while tol > 1e-2 and idx != 0:    \n",
    "    iter += 1\n",
    "    removed_var.append(x_columns[idx-1])\n",
    "    x_columns.remove(x_columns[idx-1])    \n",
    "    X2 = sm.add_constant(df_train[x_columns])\n",
    "    est_aux = sm.OLS(y_train,X2).fit()\n",
    "    idx = np.argwhere(est_aux.pvalues == max(est_aux.pvalues))[0][0]\n",
    "    tol = abs(max(est_aux.pvalues) - min(est_aux.pvalues))\n",
    "print(\"Variables eliminadas:\", removed_var)\n",
    "print(\"Variables significativas:\", x_columns)\n",
    "print(est_aux.summary())    "
   ]
  },
  {
   "cell_type": "markdown",
   "id": "7cdac7ba-5d6b-4980-b5b3-ae411994d85c",
   "metadata": {},
   "source": [
    "Como ya habíamos anticipado a través de varios indicadores, las variables no significativas eran las dos últimas, y al eliminarlas no hemos perdido bondad en el ajuste.\n",
    "\n",
    "A continuación, sobre las variables ya determinadas como significativas: ridge, lasso y red elástica, a través de sklearn.\n",
    "\n",
    "La regresión de Ridge es una regresión por mínimos cuadrados con una penalización $\\mathcal{L}^2$, es decir, una penalización proporcional a las normas 2, pesada por el parámetro $\\alpha$."
   ]
  },
  {
   "cell_type": "code",
   "execution_count": 41,
   "id": "d877ba2e-b83a-4f97-a1e6-acaf9e599911",
   "metadata": {
    "jupyter": {
     "source_hidden": true
    }
   },
   "outputs": [
    {
     "data": {
      "image/png": "[encoded data removed]",
      "text/plain": [
       "<Figure size 640x480 with 1 Axes>"
      ]
     },
     "metadata": {},
     "output_type": "display_data"
    },
    {
     "data": {
      "image/png": "[encoded data removed]",
      "text/plain": [
       "<Figure size 640x480 with 1 Axes>"
      ]
     },
     "metadata": {},
     "output_type": "display_data"
    }
   ],
   "source": [
    "\"\"\"Ridge linear regression depending on alpha\"\"\"\n",
    "from sklearn.linear_model import Ridge\n",
    "def ridge_test(alpha_list):\n",
    "    ridge_mean_error = []\n",
    "    ridge_r2 = []\n",
    "    for a in alpha_list:\n",
    "        Ridge_aux = Ridge(alpha=a).fit(df_train[x_columns], y_train)\n",
    "        y_pred = Ridge_aux.predict(df_test[x_columns])\n",
    "        ridge_mean_error.append(mean_squared_error(y_test,y_pred))\n",
    "        ridge_r2.append(r2_score(y_test,y_pred))    \n",
    "    f, ax = plt.subplots()\n",
    "    ax.scatter(alpha_list, ridge_mean_error)\n",
    "    ax.set_title('Error cuadrático medio en función de alpha')\n",
    "    plt.show()\n",
    "    f, ax = plt.subplots()\n",
    "    ax.scatter(alpha_list, ridge_r2)\n",
    "    ax.set_title('Coeficiente de determinación r2 en función de alpha')\n",
    "    plt.show()\n",
    "    return ridge_mean_error, ridge_r2\n",
    "mean_error, r2_values = ridge_test(np.arange(0.01,1,0.01))"
   ]
  },
  {
   "cell_type": "markdown",
   "id": "bacd922c-66da-4888-bc49-0498f015f84f",
   "metadata": {},
   "source": [
    "De las gráficas anteriores se observa un mínimo en cuanto a error y máximo en cuanto a $R^2$ en torno a $\\alpha=0.3$, pero podemos determinarlo de manera numérica (lógicamente, el valor de alpha que minimiza el error cuadrático medio también maximiza el coeficiente de determinación, así que sería suficiente con hallar el extremo de la curva $R^2(\\alpha)$ para obtener un valor óptimo, al menos localmente)."
   ]
  },
  {
   "cell_type": "code",
   "execution_count": null,
   "id": "96c636fd-604f-4050-9931-afb1b52db652",
   "metadata": {
    "jupyter": {
     "source_hidden": true
    }
   },
   "outputs": [],
   "source": [
    "# hagamos zoom en torno a la zona óptima\n",
    "mean_error_ridge, r2_values_ridge = ridge_test(np.arange(0.27,0.30,0.001))"
   ]
  },
  {
   "cell_type": "code",
   "execution_count": 43,
   "id": "bec69fa7-7698-466a-94e5-47aada44c235",
   "metadata": {
    "jupyter": {
     "source_hidden": true
    }
   },
   "outputs": [
    {
     "name": "stdout",
     "output_type": "stream",
     "text": [
      "El valor alpha óptimo es: 0.2880\n",
      "El R2 para la regresión de Ridge y alpha óptimo es: 0.9854440\n",
      "El error cuadrático medio para la regresión de Ridge y alpha óptimo es: 462.66\n"
     ]
    }
   ],
   "source": [
    "idx_optim = np.argwhere(r2_values_ridge == max(r2_values_ridge))[0][0]\n",
    "ridge_r2_optim = cp.copy(r2_values[idx_optim])\n",
    "ridge_mean_error_optim = cp.copy(mean_error[idx_optim])\n",
    "print(\"El valor alpha óptimo es: {:.4f}\".format((np.arange(0.27,0.30,0.001))[idx_optim]))\n",
    "print(\"El R2 para la regresión de Ridge y alpha óptimo es: {:.7f}\".format(r2_values[idx_optim]))\n",
    "print(\"El error cuadrático medio para la regresión de Ridge y alpha óptimo es: {:.2f}\".format(mean_error[idx_optim]))"
   ]
  },
  {
   "cell_type": "markdown",
   "id": "4af565ee-d518-46e1-bff9-973eef7c977e",
   "metadata": {},
   "source": [
    "Pasemos a hacer un tratamiento análogo pero con la regresión de Lasso. La regresión de Lasso es una regresión por mínimos cuadrados con una penalización $\\mathcal{L}^1$, es decir, una penalización proporcional a las normas 1, pesada por el parámetro $\\alpha$. Como vemos a continuación, esta penalización no parece ser una buena opción para nuestra muestra, pues nuestro óptimo en cuanto a bondad del ajuste lo encontramos para el menor valor de $\\alpha$ considerado."
   ]
  },
  {
   "cell_type": "code",
   "execution_count": null,
   "id": "f548dfc7-187c-494f-b081-b960af640fee",
   "metadata": {
    "jupyter": {
     "source_hidden": true
    }
   },
   "outputs": [],
   "source": [
    "\"\"\"Lasso linear regression depending on alpha\"\"\"\n",
    "from sklearn.linear_model import Lasso\n",
    "def lasso_test(alpha_list):\n",
    "    lasso_mean_error = []\n",
    "    lasso_r2 = []\n",
    "    for a in alpha_list:\n",
    "        lasso_aux = Lasso(alpha=a).fit(df_train[x_columns], y_train)\n",
    "        y_pred = lasso_aux.predict(df_test[x_columns])\n",
    "        lasso_mean_error.append(mean_squared_error(y_test,y_pred))\n",
    "        lasso_r2.append(r2_score(y_test,y_pred))    \n",
    "    f, ax = plt.subplots()\n",
    "    ax.scatter(alpha_list, lasso_mean_error)\n",
    "    ax.set_title('Error cuadrático medio en función de alpha')\n",
    "    plt.show()\n",
    "    f, ax = plt.subplots()\n",
    "    ax.scatter(alpha_list, lasso_r2)\n",
    "    ax.set_title('Coeficiente de determinación r2 en función de alpha')\n",
    "    plt.show()\n",
    "    return lasso_mean_error, lasso_r2\n",
    "mean_error_lasso, r2_values_lasso = lasso_test(np.arange(0.00001,1,0.001))"
   ]
  },
  {
   "cell_type": "code",
   "execution_count": 45,
   "id": "254f6ea3-38fa-4297-9809-9c58e9246555",
   "metadata": {
    "jupyter": {
     "source_hidden": true
    }
   },
   "outputs": [
    {
     "name": "stdout",
     "output_type": "stream",
     "text": [
      "El valor alpha óptimo es: 0.00001\n",
      "El R2 para la regresión de Lasso y alpha óptimo es: 0.9854416\n",
      "El error cuadrático medio para la regresión de Lasso y alpha óptimo es: 462.73\n"
     ]
    }
   ],
   "source": [
    "idx_optim = np.argwhere(r2_values_lasso == max(r2_values_lasso))[0][0]\n",
    "lasso_r2_optim = cp.copy(r2_values_lasso[idx_optim])\n",
    "lassos_mean_error_optim = cp.copy(mean_error_lasso[idx_optim])\n",
    "print(\"El valor alpha óptimo es: {:.5f}\".format((np.arange(0.00001,1,0.001))[idx_optim]))\n",
    "print(\"El R2 para la regresión de Lasso y alpha óptimo es: {:.7f}\".format(r2_values_lasso[idx_optim]))\n",
    "print(\"El error cuadrático medio para la regresión de Lasso y alpha óptimo es: {:.2f}\".format(mean_error_lasso[idx_optim]))"
   ]
  },
  {
   "attachments": {
    "dd787d16-30af-4974-a9b2-666fd0b11cd6.png": {
     "image/png": "[encoded data removed]"
    }
   },
   "cell_type": "markdown",
   "id": "46869275-83bf-4af2-92ce-9562e7d5d1db",
   "metadata": {},
   "source": [
    "Ahora hagamos lo mismo pero con el método de la red elástica, donde en vez de un parámetro manejamos dos (r y $\\alpha$). Vamos a hacer una función similar a las anteriores, pero que tomará como entrada dos listas en vez de una. En la documentación referida a esta clase en sklearn, se específica que el parámetro $r$ debe estar entre 0 y 1, y que para $r=1$ recuperaríamos el modelo de Lasso.\n",
    "\n",
    "En este caso, atendiendo a la documentación de sklearn, donde podemos encontrar lo siguiente:\n",
    "\n",
    "![image.png](attachment:dd787d16-30af-4974-a9b2-666fd0b11cd6.png)\n",
    "\n",
    "Atendiendo a los valores óptimos que encontramos, la penalización en norma 2 será menos significativa que la penalización en norma 1, lo que concuerda con que en la regresión de Lasso obtuviéramos un $\\alpha$ tan pequeño, y es que parece que no es el mejor camino para ajustar nuestra muestra."
   ]
  },
  {
   "cell_type": "code",
   "execution_count": null,
   "id": "89178b23-4c81-47d5-a08d-5c65405cf642",
   "metadata": {
    "jupyter": {
     "source_hidden": true
    }
   },
   "outputs": [],
   "source": [
    "\"\"\"Elastic Net linear regression depending on alpha and r\"\"\"\n",
    "from sklearn.linear_model import ElasticNet\n",
    "from matplotlib import cm\n",
    "def elastic_net_test(alpha_list, r_list):\n",
    "    a, r = np.meshgrid(alpha_list,r_list)\n",
    "    en_mean_error = np.ones_like(a)\n",
    "    en_r2 = np.ones_like(en_mean_error)  \n",
    "    for j in range(len(r_list)):\n",
    "        for i in range(len(alpha_list)):\n",
    "            en_aux = ElasticNet(alpha=alpha_list[i], l1_ratio=r_list[j]).fit(df_train[x_columns], y_train)\n",
    "            y_pred = en_aux.predict(df_test[x_columns])\n",
    "            en_mean_error[j,i] = mean_squared_error(y_test,y_pred)\n",
    "            en_r2[j][i] = r2_score(y_test,y_pred)\n",
    "    f1, ax1 = plt.subplots(subplot_kw={\"projection\": \"3d\"})\n",
    "    surf1 = ax1.plot_surface(a, r, en_mean_error, linewidth=0,cmap=cm.coolwarm, antialiased=False)\n",
    "    ax1.set_xlabel('alpha')\n",
    "    ax1.set_ylabel('r')\n",
    "    ax1.set_title('Error cuadrático medio')\n",
    "    f1.colorbar(surf1, shrink=0.5, aspect=5)\n",
    "    plt.show()\n",
    "    f2, ax2 = plt.subplots(subplot_kw={\"projection\": \"3d\"})\n",
    "    surf2 = ax2.plot_surface(a, r, en_r2, linewidth=0,cmap=cm.coolwarm, antialiased=False)\n",
    "    ax2.set_xlabel('alpha')\n",
    "    ax2.set_ylabel('r')\n",
    "    ax2.set_title('R2')\n",
    "    f2.colorbar(surf2, shrink=0.5, aspect=5)\n",
    "    plt.show()\n",
    "    return en_mean_error, en_r2\n",
    "mean_error_en, r2_values_en = elastic_net_test(np.arange(0.01,2,0.01), np.arange(0.01,1,0.01))"
   ]
  },
  {
   "cell_type": "code",
   "execution_count": 47,
   "id": "a3f506ce-4caf-4297-bd88-327e84317467",
   "metadata": {
    "jupyter": {
     "source_hidden": true
    }
   },
   "outputs": [
    {
     "name": "stdout",
     "output_type": "stream",
     "text": [
      "El valor alpha óptimo es: 0.10000\n",
      "El valor r óptimo es: 0.84000\n",
      "El R2 para alpha y r óptimos: 0.9854382\n",
      "El error cuadrático medio para alpha y r óptimos: 462.84\n"
     ]
    }
   ],
   "source": [
    "idx_optim = np.argwhere(r2_values_en == np.max(r2_values_en))\n",
    "idx_optim = idx_optim[0]\n",
    "en_r2_optim = cp.copy(r2_values_en[idx_optim[0]][idx_optim[1]])\n",
    "en_mean_error_optim = cp.copy(mean_error_en[idx_optim[0]][idx_optim[1]])\n",
    "print(\"El valor alpha óptimo es: {:.5f}\".format((np.arange(0.1,10,0.1))[idx_optim[1]]))\n",
    "print(\"El valor r óptimo es: {:.5f}\".format((np.arange(0.01,1,0.01))[idx_optim[0]]))\n",
    "print(\"El R2 para alpha y r óptimos: {:.7f}\".format(r2_values_en[idx_optim[0]][idx_optim[1]]))\n",
    "print(\"El error cuadrático medio para alpha y r óptimos: {:.2f}\".format(mean_error_en[idx_optim[0]][idx_optim[1]]))"
   ]
  },
  {
   "cell_type": "markdown",
   "id": "d8d44295-adc9-49be-a381-0613057c7592",
   "metadata": {},
   "source": [
    "Por último, comparemos los $R^2$ y los errores cuadráticos medios obtenidos en el mejor ajuste por cada uno de los métodos. Nótese que estos indicadores se han obtenido a partir de la comparación de la predicción y los valores reales en la muestra de test."
   ]
  },
  {
   "cell_type": "code",
   "execution_count": 48,
   "id": "6001833e-fbde-413f-b928-c8f842f6c9ca",
   "metadata": {
    "jupyter": {
     "source_hidden": true
    }
   },
   "outputs": [
    {
     "name": "stdout",
     "output_type": "stream",
     "text": [
      "            Method        R2         MSE\n",
      "0  LS Basic Method  0.985388  464.446828\n",
      "1            Ridge  0.985444  462.657176\n",
      "2            Lasso  0.985442  462.733718\n",
      "3      Elastic Net  0.985438  462.840047\n"
     ]
    }
   ],
   "source": [
    "list_reg_method = ['LS Basic Method', 'Ridge', 'Lasso', 'Elastic Net']\n",
    "r2_list = [r2_lsm, ridge_r2_optim, lasso_r2_optim, en_r2_optim]\n",
    "mean_error_list = [mean_error_lsm, ridge_mean_error_optim, lassos_mean_error_optim, en_mean_error_optim]\n",
    "data_reg = {'Method' : list_reg_method, 'R2': r2_list, 'MSE': mean_error_list}\n",
    "df_reg = pd.DataFrame(data=data_reg)\n",
    "print(df_reg)"
   ]
  },
  {
   "cell_type": "markdown",
   "id": "fdc78e9a-b481-49de-9fea-015fe6b5e722",
   "metadata": {},
   "source": [
    "Con el nivel de precisión con el que se ha llevado a cabo el desarrollo, podemos afirmar que ciertamente los métodos de Ridge, Lasso y red elástica mejoran a la regresión por mínimos cuadrados básica, pero no exhibiría conclusiones muy fuertes sobre la posterior comparación entre ellos. Sí que, guiados por las resultados obtenidos, podemos afirmar que el camino de Ridge (penalización en norma 1) es algo más apropiada que la penalización en norma 2 que se emplea en Lasso y también en la cuerda elástica, pero teniendo en cuenta la similitud entre los resultados y los grids de parámetros sobre los que hemos evaluado las regresiones, no afirmaría que red elástica sea peor que Lasso (aunque extrictamente el resultado obtenido sí lo sea)."
   ]
  },
  {
   "cell_type": "markdown",
   "id": "d5b82705-f43a-4cfe-86f6-e01694249fc8",
   "metadata": {},
   "source": [
    "Bibliografía:\n",
    "- Trevor, et al. The elements of statistical learning: data mining, inference, and prediction. New York: springer, 2009.\n",
    "- https://scikit-learn.org/stable/modules/generated/sklearn.datasets.make_regression.html\n",
    "- https://scikit-learn.org/stable/modules/generated/sklearn.linear_model.LinearRegression.html\n",
    "- https://scikit-learn.org/stable/modules/generated/sklearn.linear_model.Lasso.html#sklearn.linear_model.Lasso\n",
    "- https://scikit-learn.org/stable/modules/generated/sklearn.linear_model.ElasticNet.html#sklearn.linear_model.ElasticNet\n",
    "- https://scikit-learn.org/stable/modules/generated/sklearn.linear_model.Ridge.html#sklearn.linear_model.Ridge\n",
    "- https://www.statsmodels.org/dev/generated/statsmodels.formula.api.ols.html#statsmodels.formula.api.ols"
   ]
  }
 ],
 "metadata": {
  "kernelspec": {
   "display_name": "Python 3 (ipykernel)",
   "language": "python",
   "name": "python3"
  },
  "language_info": {
   "codemirror_mode": {
    "name": "ipython",
    "version": 3
   },
   "file_extension": ".py",
   "mimetype": "text/x-python",
   "name": "python",
   "nbconvert_exporter": "python",
   "pygments_lexer": "ipython3",
   "version": "3.11.7"
  }
 },
 "nbformat": 4,
 "nbformat_minor": 5
}
