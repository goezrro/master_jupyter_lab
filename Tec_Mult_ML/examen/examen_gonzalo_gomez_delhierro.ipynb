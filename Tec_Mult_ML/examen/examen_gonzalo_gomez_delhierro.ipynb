{
 "cells": [
  {
   "cell_type": "markdown",
   "id": "69c56c04-792e-41c9-ad42-7c25abaa4d0e",
   "metadata": {},
   "source": [
    "# EXAMEN - GONZALO MIGUEL GÓMEZ DEL HIERRO"
   ]
  },
  {
   "cell_type": "markdown",
   "id": "323363de-d6ee-4731-9004-bff5ddb4ae32",
   "metadata": {},
   "source": [
    "En primer lugar vamos a generar los parámetros que se van a informar para la creación del dataset (que se llevará a cabo mediante la función make_regression de sklearn). Mi fecha de nacimiento es el 9 de junio de 1999."
   ]
  },
  {
   "cell_type": "code",
   "execution_count": 106,
   "id": "56d9878e-e57c-4426-a162-e94fdde86512",
   "metadata": {},
   "outputs": [],
   "source": [
    "# importación de librerías\n",
    "import numpy as np\n",
    "from sklearn.datasets import make_regression\n",
    "import pandas as pd\n",
    "import seaborn as sns\n",
    "import copy as cp"
   ]
  },
  {
   "cell_type": "code",
   "execution_count": 107,
   "id": "d83cc6c5-1b68-496d-9c0b-cc15bd4a2c73",
   "metadata": {},
   "outputs": [],
   "source": [
    "# Generamos lo parámetros tal como se describe en el enunciado (09/06/1999)\n",
    "m = 9+6\n",
    "s1 = 9\n",
    "# comento la siguiente línea para que no se rompa la coherencia al reejecutar\n",
    "# s2 = np.random.randint(1,5) \n",
    "s2 = 4 # valor inicial obtenido, incluido para poder reejecutar sin romper el notebook\n",
    "a=1999"
   ]
  },
  {
   "cell_type": "code",
   "execution_count": 108,
   "id": "056a8047-ae3b-4bf5-8d9e-2c8677372242",
   "metadata": {},
   "outputs": [
    {
     "name": "stdout",
     "output_type": "stream",
     "text": [
      "s2 = 4\n"
     ]
    }
   ],
   "source": [
    "print('s2 = {}'.format(s2))"
   ]
  },
  {
   "cell_type": "code",
   "execution_count": 109,
   "id": "2d7b1808-d2f0-40ee-b053-23db800c3cbe",
   "metadata": {},
   "outputs": [],
   "source": [
    "# generamos el conjunto de datos \n",
    "X, y = make_regression(n_samples=500+m,n_features=10+s1+s2,n_informative=10+s1,noise=10*s1,bias=2,shuffle=False,random_state=a)"
   ]
  },
  {
   "cell_type": "markdown",
   "id": "10b5f4e3-2a75-4149-b5b5-50fd452bf0a7",
   "metadata": {},
   "source": [
    "De esta manera, hemos generado una muestra con m observaciones (n_samples) compuestas por 10+s1+s2 variables independientes (n_features) y una variable objetivo. De estas 10+s1+s2 variables independientes, s2 son redundantes (n_features - n_informative). El parámetro noise se corresponde con la desviación estándar del ruido que se aplica sobre la muestra perfectamente lineal, para romper dicha linealidad. Como también se puede ver en la documentación, el parámetro bias es la ordenada en el origen del modelo lineal del que se parte. Es decir, si el parámetro noise fuera 0, este bias sería la constante ($\\beta_0$) en el modelo lineal $y = \\beta_0 + \\beta_1\\cdot x_1 \\cdot ... \\cdot \\beta_{10+s_1+s_2} \\cdot x_{10+s_1+s_2}$. Se define el parámetro shuffle como False para que no se \"barajen\" observaciones y características."
   ]
  },
  {
   "cell_type": "markdown",
   "id": "0c7c4e2d-4258-490d-ac93-0f0fdf32eb03",
   "metadata": {},
   "source": [
    "Para poder ver de manera cómoda la información del conjunto de datos creado, vamos a integrarlo todo en un dataframe de la librería Pandas, que nos permite emplear directamente algunos métodos útiles."
   ]
  },
  {
   "cell_type": "code",
   "execution_count": 110,
   "id": "ccdd2c0a-879e-43bc-9984-90eec1c46372",
   "metadata": {},
   "outputs": [
    {
     "data": {
      "text/html": [
       "<div>\n",
       "<style scoped>\n",
       "    .dataframe tbody tr th:only-of-type {\n",
       "        vertical-align: middle;\n",
       "    }\n",
       "\n",
       "    .dataframe tbody tr th {\n",
       "        vertical-align: top;\n",
       "    }\n",
       "\n",
       "    .dataframe thead th {\n",
       "        text-align: right;\n",
       "    }\n",
       "</style>\n",
       "<table border=\"1\" class=\"dataframe\">\n",
       "  <thead>\n",
       "    <tr style=\"text-align: right;\">\n",
       "      <th></th>\n",
       "      <th>x0</th>\n",
       "      <th>x1</th>\n",
       "      <th>x2</th>\n",
       "      <th>x3</th>\n",
       "      <th>x4</th>\n",
       "      <th>x5</th>\n",
       "      <th>x6</th>\n",
       "      <th>x7</th>\n",
       "      <th>x8</th>\n",
       "      <th>x9</th>\n",
       "      <th>...</th>\n",
       "      <th>x14</th>\n",
       "      <th>x15</th>\n",
       "      <th>x16</th>\n",
       "      <th>x17</th>\n",
       "      <th>x18</th>\n",
       "      <th>x19</th>\n",
       "      <th>x20</th>\n",
       "      <th>x21</th>\n",
       "      <th>x22</th>\n",
       "      <th>y</th>\n",
       "    </tr>\n",
       "  </thead>\n",
       "  <tbody>\n",
       "    <tr>\n",
       "      <th>0</th>\n",
       "      <td>-0.317480</td>\n",
       "      <td>0.692062</td>\n",
       "      <td>-1.284378</td>\n",
       "      <td>0.393346</td>\n",
       "      <td>0.211803</td>\n",
       "      <td>-0.411457</td>\n",
       "      <td>0.945473</td>\n",
       "      <td>0.906433</td>\n",
       "      <td>-0.541158</td>\n",
       "      <td>1.204638</td>\n",
       "      <td>...</td>\n",
       "      <td>1.353890</td>\n",
       "      <td>0.804267</td>\n",
       "      <td>-0.355395</td>\n",
       "      <td>-0.804633</td>\n",
       "      <td>0.247044</td>\n",
       "      <td>-0.140479</td>\n",
       "      <td>-0.072590</td>\n",
       "      <td>-1.311976</td>\n",
       "      <td>-1.836959</td>\n",
       "      <td>101.593606</td>\n",
       "    </tr>\n",
       "    <tr>\n",
       "      <th>1</th>\n",
       "      <td>-0.241581</td>\n",
       "      <td>-0.830838</td>\n",
       "      <td>-1.377936</td>\n",
       "      <td>-0.096528</td>\n",
       "      <td>0.094396</td>\n",
       "      <td>-0.506670</td>\n",
       "      <td>0.624220</td>\n",
       "      <td>0.375006</td>\n",
       "      <td>0.852429</td>\n",
       "      <td>-0.633999</td>\n",
       "      <td>...</td>\n",
       "      <td>0.415251</td>\n",
       "      <td>-1.259956</td>\n",
       "      <td>-0.227572</td>\n",
       "      <td>0.404326</td>\n",
       "      <td>0.127519</td>\n",
       "      <td>-0.100616</td>\n",
       "      <td>0.194965</td>\n",
       "      <td>-1.533411</td>\n",
       "      <td>-0.601231</td>\n",
       "      <td>106.446044</td>\n",
       "    </tr>\n",
       "    <tr>\n",
       "      <th>2</th>\n",
       "      <td>1.280362</td>\n",
       "      <td>-0.066893</td>\n",
       "      <td>0.254026</td>\n",
       "      <td>1.065242</td>\n",
       "      <td>-1.791752</td>\n",
       "      <td>1.583481</td>\n",
       "      <td>0.110303</td>\n",
       "      <td>-0.028591</td>\n",
       "      <td>0.406122</td>\n",
       "      <td>1.686036</td>\n",
       "      <td>...</td>\n",
       "      <td>1.281054</td>\n",
       "      <td>0.256899</td>\n",
       "      <td>0.942982</td>\n",
       "      <td>-2.221908</td>\n",
       "      <td>-0.385831</td>\n",
       "      <td>0.369260</td>\n",
       "      <td>0.003005</td>\n",
       "      <td>-0.895873</td>\n",
       "      <td>-1.707936</td>\n",
       "      <td>332.887337</td>\n",
       "    </tr>\n",
       "    <tr>\n",
       "      <th>3</th>\n",
       "      <td>0.510309</td>\n",
       "      <td>-0.491197</td>\n",
       "      <td>1.574700</td>\n",
       "      <td>0.668085</td>\n",
       "      <td>-0.470858</td>\n",
       "      <td>-0.052428</td>\n",
       "      <td>-0.642659</td>\n",
       "      <td>-0.877692</td>\n",
       "      <td>-0.664727</td>\n",
       "      <td>1.470971</td>\n",
       "      <td>...</td>\n",
       "      <td>-0.809129</td>\n",
       "      <td>-0.963956</td>\n",
       "      <td>-1.794985</td>\n",
       "      <td>-0.700473</td>\n",
       "      <td>-0.811009</td>\n",
       "      <td>-0.009502</td>\n",
       "      <td>-0.299622</td>\n",
       "      <td>2.093173</td>\n",
       "      <td>-0.740827</td>\n",
       "      <td>-58.012980</td>\n",
       "    </tr>\n",
       "    <tr>\n",
       "      <th>4</th>\n",
       "      <td>0.069464</td>\n",
       "      <td>0.363515</td>\n",
       "      <td>0.143828</td>\n",
       "      <td>-1.600201</td>\n",
       "      <td>0.862060</td>\n",
       "      <td>0.871241</td>\n",
       "      <td>0.397860</td>\n",
       "      <td>-1.021002</td>\n",
       "      <td>-0.512252</td>\n",
       "      <td>-0.756797</td>\n",
       "      <td>...</td>\n",
       "      <td>-0.866779</td>\n",
       "      <td>1.302976</td>\n",
       "      <td>0.000415</td>\n",
       "      <td>-0.129024</td>\n",
       "      <td>0.690126</td>\n",
       "      <td>-0.230427</td>\n",
       "      <td>0.006052</td>\n",
       "      <td>0.464079</td>\n",
       "      <td>-0.104459</td>\n",
       "      <td>-175.145887</td>\n",
       "    </tr>\n",
       "    <tr>\n",
       "      <th>...</th>\n",
       "      <td>...</td>\n",
       "      <td>...</td>\n",
       "      <td>...</td>\n",
       "      <td>...</td>\n",
       "      <td>...</td>\n",
       "      <td>...</td>\n",
       "      <td>...</td>\n",
       "      <td>...</td>\n",
       "      <td>...</td>\n",
       "      <td>...</td>\n",
       "      <td>...</td>\n",
       "      <td>...</td>\n",
       "      <td>...</td>\n",
       "      <td>...</td>\n",
       "      <td>...</td>\n",
       "      <td>...</td>\n",
       "      <td>...</td>\n",
       "      <td>...</td>\n",
       "      <td>...</td>\n",
       "      <td>...</td>\n",
       "      <td>...</td>\n",
       "    </tr>\n",
       "    <tr>\n",
       "      <th>510</th>\n",
       "      <td>1.462845</td>\n",
       "      <td>-1.326999</td>\n",
       "      <td>0.292287</td>\n",
       "      <td>-0.287487</td>\n",
       "      <td>0.691148</td>\n",
       "      <td>1.729091</td>\n",
       "      <td>-0.104531</td>\n",
       "      <td>-2.334862</td>\n",
       "      <td>1.680202</td>\n",
       "      <td>0.800874</td>\n",
       "      <td>...</td>\n",
       "      <td>0.117482</td>\n",
       "      <td>-0.392527</td>\n",
       "      <td>0.168543</td>\n",
       "      <td>-1.195768</td>\n",
       "      <td>1.160966</td>\n",
       "      <td>-0.658549</td>\n",
       "      <td>0.084653</td>\n",
       "      <td>1.584790</td>\n",
       "      <td>-0.407782</td>\n",
       "      <td>-107.706031</td>\n",
       "    </tr>\n",
       "    <tr>\n",
       "      <th>511</th>\n",
       "      <td>0.776313</td>\n",
       "      <td>-1.131815</td>\n",
       "      <td>0.480638</td>\n",
       "      <td>-0.386624</td>\n",
       "      <td>0.819782</td>\n",
       "      <td>1.977061</td>\n",
       "      <td>-0.912984</td>\n",
       "      <td>0.414402</td>\n",
       "      <td>1.338057</td>\n",
       "      <td>2.101512</td>\n",
       "      <td>...</td>\n",
       "      <td>-0.613059</td>\n",
       "      <td>-0.548573</td>\n",
       "      <td>-0.578250</td>\n",
       "      <td>-0.215159</td>\n",
       "      <td>-0.187473</td>\n",
       "      <td>0.560881</td>\n",
       "      <td>0.198613</td>\n",
       "      <td>-0.146773</td>\n",
       "      <td>-1.592810</td>\n",
       "      <td>37.297444</td>\n",
       "    </tr>\n",
       "    <tr>\n",
       "      <th>512</th>\n",
       "      <td>-0.163110</td>\n",
       "      <td>-0.520379</td>\n",
       "      <td>-1.035334</td>\n",
       "      <td>-0.586096</td>\n",
       "      <td>1.011395</td>\n",
       "      <td>0.179459</td>\n",
       "      <td>0.577972</td>\n",
       "      <td>-0.163274</td>\n",
       "      <td>-0.968416</td>\n",
       "      <td>0.213152</td>\n",
       "      <td>...</td>\n",
       "      <td>1.174064</td>\n",
       "      <td>-1.569103</td>\n",
       "      <td>-0.619830</td>\n",
       "      <td>-0.015942</td>\n",
       "      <td>0.018698</td>\n",
       "      <td>-1.162886</td>\n",
       "      <td>0.747527</td>\n",
       "      <td>1.404390</td>\n",
       "      <td>1.340463</td>\n",
       "      <td>15.066860</td>\n",
       "    </tr>\n",
       "    <tr>\n",
       "      <th>513</th>\n",
       "      <td>0.924158</td>\n",
       "      <td>0.582225</td>\n",
       "      <td>-1.781251</td>\n",
       "      <td>1.066854</td>\n",
       "      <td>1.403413</td>\n",
       "      <td>-0.241470</td>\n",
       "      <td>-0.870471</td>\n",
       "      <td>-0.303264</td>\n",
       "      <td>-2.101935</td>\n",
       "      <td>1.513839</td>\n",
       "      <td>...</td>\n",
       "      <td>-1.694500</td>\n",
       "      <td>-0.176298</td>\n",
       "      <td>0.706053</td>\n",
       "      <td>2.592830</td>\n",
       "      <td>-0.495021</td>\n",
       "      <td>-0.234607</td>\n",
       "      <td>0.306296</td>\n",
       "      <td>-0.137493</td>\n",
       "      <td>0.630081</td>\n",
       "      <td>-61.015762</td>\n",
       "    </tr>\n",
       "    <tr>\n",
       "      <th>514</th>\n",
       "      <td>-0.260618</td>\n",
       "      <td>0.491094</td>\n",
       "      <td>-0.182689</td>\n",
       "      <td>-0.516884</td>\n",
       "      <td>-0.565441</td>\n",
       "      <td>0.413043</td>\n",
       "      <td>0.769098</td>\n",
       "      <td>-0.182311</td>\n",
       "      <td>-1.014352</td>\n",
       "      <td>0.938103</td>\n",
       "      <td>...</td>\n",
       "      <td>-1.648536</td>\n",
       "      <td>0.120753</td>\n",
       "      <td>-0.349634</td>\n",
       "      <td>-0.818685</td>\n",
       "      <td>-0.519779</td>\n",
       "      <td>1.047659</td>\n",
       "      <td>-0.112029</td>\n",
       "      <td>0.164714</td>\n",
       "      <td>2.972027</td>\n",
       "      <td>-15.401570</td>\n",
       "    </tr>\n",
       "  </tbody>\n",
       "</table>\n",
       "<p>515 rows × 24 columns</p>\n",
       "</div>"
      ],
      "text/plain": [
       "           x0        x1        x2        x3        x4        x5        x6  \\\n",
       "0   -0.317480  0.692062 -1.284378  0.393346  0.211803 -0.411457  0.945473   \n",
       "1   -0.241581 -0.830838 -1.377936 -0.096528  0.094396 -0.506670  0.624220   \n",
       "2    1.280362 -0.066893  0.254026  1.065242 -1.791752  1.583481  0.110303   \n",
       "3    0.510309 -0.491197  1.574700  0.668085 -0.470858 -0.052428 -0.642659   \n",
       "4    0.069464  0.363515  0.143828 -1.600201  0.862060  0.871241  0.397860   \n",
       "..        ...       ...       ...       ...       ...       ...       ...   \n",
       "510  1.462845 -1.326999  0.292287 -0.287487  0.691148  1.729091 -0.104531   \n",
       "511  0.776313 -1.131815  0.480638 -0.386624  0.819782  1.977061 -0.912984   \n",
       "512 -0.163110 -0.520379 -1.035334 -0.586096  1.011395  0.179459  0.577972   \n",
       "513  0.924158  0.582225 -1.781251  1.066854  1.403413 -0.241470 -0.870471   \n",
       "514 -0.260618  0.491094 -0.182689 -0.516884 -0.565441  0.413043  0.769098   \n",
       "\n",
       "           x7        x8        x9  ...       x14       x15       x16  \\\n",
       "0    0.906433 -0.541158  1.204638  ...  1.353890  0.804267 -0.355395   \n",
       "1    0.375006  0.852429 -0.633999  ...  0.415251 -1.259956 -0.227572   \n",
       "2   -0.028591  0.406122  1.686036  ...  1.281054  0.256899  0.942982   \n",
       "3   -0.877692 -0.664727  1.470971  ... -0.809129 -0.963956 -1.794985   \n",
       "4   -1.021002 -0.512252 -0.756797  ... -0.866779  1.302976  0.000415   \n",
       "..        ...       ...       ...  ...       ...       ...       ...   \n",
       "510 -2.334862  1.680202  0.800874  ...  0.117482 -0.392527  0.168543   \n",
       "511  0.414402  1.338057  2.101512  ... -0.613059 -0.548573 -0.578250   \n",
       "512 -0.163274 -0.968416  0.213152  ...  1.174064 -1.569103 -0.619830   \n",
       "513 -0.303264 -2.101935  1.513839  ... -1.694500 -0.176298  0.706053   \n",
       "514 -0.182311 -1.014352  0.938103  ... -1.648536  0.120753 -0.349634   \n",
       "\n",
       "          x17       x18       x19       x20       x21       x22           y  \n",
       "0   -0.804633  0.247044 -0.140479 -0.072590 -1.311976 -1.836959  101.593606  \n",
       "1    0.404326  0.127519 -0.100616  0.194965 -1.533411 -0.601231  106.446044  \n",
       "2   -2.221908 -0.385831  0.369260  0.003005 -0.895873 -1.707936  332.887337  \n",
       "3   -0.700473 -0.811009 -0.009502 -0.299622  2.093173 -0.740827  -58.012980  \n",
       "4   -0.129024  0.690126 -0.230427  0.006052  0.464079 -0.104459 -175.145887  \n",
       "..        ...       ...       ...       ...       ...       ...         ...  \n",
       "510 -1.195768  1.160966 -0.658549  0.084653  1.584790 -0.407782 -107.706031  \n",
       "511 -0.215159 -0.187473  0.560881  0.198613 -0.146773 -1.592810   37.297444  \n",
       "512 -0.015942  0.018698 -1.162886  0.747527  1.404390  1.340463   15.066860  \n",
       "513  2.592830 -0.495021 -0.234607  0.306296 -0.137493  0.630081  -61.015762  \n",
       "514 -0.818685 -0.519779  1.047659 -0.112029  0.164714  2.972027  -15.401570  \n",
       "\n",
       "[515 rows x 24 columns]"
      ]
     },
     "execution_count": 110,
     "metadata": {},
     "output_type": "execute_result"
    }
   ],
   "source": [
    "# etiquetas para las n_features variables independientes + la variable independiente\n",
    "columns = ['x{}'.format(i) for i in range(X.shape[1])]\n",
    "columns.append('y')\n",
    "# generamos un dataframe apropiado\n",
    "df = pd.DataFrame(np.hstack((X,y[:, None])), columns=columns)\n",
    "\n",
    "# describimos nuestro conjunto de datos con algunas funciones útiles\n",
    "df"
   ]
  },
  {
   "cell_type": "code",
   "execution_count": 111,
   "id": "9173eddc-d6d1-44c8-b829-183b50970f4c",
   "metadata": {},
   "outputs": [
    {
     "name": "stdout",
     "output_type": "stream",
     "text": [
      "<class 'pandas.core.frame.DataFrame'>\n",
      "RangeIndex: 515 entries, 0 to 514\n",
      "Data columns (total 24 columns):\n",
      " #   Column  Non-Null Count  Dtype  \n",
      "---  ------  --------------  -----  \n",
      " 0   x0      515 non-null    float64\n",
      " 1   x1      515 non-null    float64\n",
      " 2   x2      515 non-null    float64\n",
      " 3   x3      515 non-null    float64\n",
      " 4   x4      515 non-null    float64\n",
      " 5   x5      515 non-null    float64\n",
      " 6   x6      515 non-null    float64\n",
      " 7   x7      515 non-null    float64\n",
      " 8   x8      515 non-null    float64\n",
      " 9   x9      515 non-null    float64\n",
      " 10  x10     515 non-null    float64\n",
      " 11  x11     515 non-null    float64\n",
      " 12  x12     515 non-null    float64\n",
      " 13  x13     515 non-null    float64\n",
      " 14  x14     515 non-null    float64\n",
      " 15  x15     515 non-null    float64\n",
      " 16  x16     515 non-null    float64\n",
      " 17  x17     515 non-null    float64\n",
      " 18  x18     515 non-null    float64\n",
      " 19  x19     515 non-null    float64\n",
      " 20  x20     515 non-null    float64\n",
      " 21  x21     515 non-null    float64\n",
      " 22  x22     515 non-null    float64\n",
      " 23  y       515 non-null    float64\n",
      "dtypes: float64(24)\n",
      "memory usage: 96.7 KB\n"
     ]
    }
   ],
   "source": [
    "df.info()"
   ]
  },
  {
   "cell_type": "markdown",
   "id": "44afaf4a-55a5-49b5-9031-0adc4119e228",
   "metadata": {},
   "source": [
    "Vemos que tenemos 23 variables independientes (10+s1+s2) y una variable dependiente (y). Además vemos que el número de observaciones (n_samples) es 515 (nuestro parámetro m)."
   ]
  },
  {
   "cell_type": "code",
   "execution_count": 112,
   "id": "a7ec00dd-dae7-4963-b8fe-159b13480eec",
   "metadata": {},
   "outputs": [
    {
     "data": {
      "text/html": [
       "<div>\n",
       "<style scoped>\n",
       "    .dataframe tbody tr th:only-of-type {\n",
       "        vertical-align: middle;\n",
       "    }\n",
       "\n",
       "    .dataframe tbody tr th {\n",
       "        vertical-align: top;\n",
       "    }\n",
       "\n",
       "    .dataframe thead th {\n",
       "        text-align: right;\n",
       "    }\n",
       "</style>\n",
       "<table border=\"1\" class=\"dataframe\">\n",
       "  <thead>\n",
       "    <tr style=\"text-align: right;\">\n",
       "      <th></th>\n",
       "      <th>x0</th>\n",
       "      <th>x1</th>\n",
       "      <th>x2</th>\n",
       "      <th>x3</th>\n",
       "      <th>x4</th>\n",
       "      <th>x5</th>\n",
       "      <th>x6</th>\n",
       "      <th>x7</th>\n",
       "      <th>x8</th>\n",
       "      <th>x9</th>\n",
       "      <th>...</th>\n",
       "      <th>x14</th>\n",
       "      <th>x15</th>\n",
       "      <th>x16</th>\n",
       "      <th>x17</th>\n",
       "      <th>x18</th>\n",
       "      <th>x19</th>\n",
       "      <th>x20</th>\n",
       "      <th>x21</th>\n",
       "      <th>x22</th>\n",
       "      <th>y</th>\n",
       "    </tr>\n",
       "  </thead>\n",
       "  <tbody>\n",
       "    <tr>\n",
       "      <th>count</th>\n",
       "      <td>515.000000</td>\n",
       "      <td>515.000000</td>\n",
       "      <td>515.000000</td>\n",
       "      <td>515.000000</td>\n",
       "      <td>515.000000</td>\n",
       "      <td>515.000000</td>\n",
       "      <td>515.000000</td>\n",
       "      <td>515.000000</td>\n",
       "      <td>515.000000</td>\n",
       "      <td>515.000000</td>\n",
       "      <td>...</td>\n",
       "      <td>515.000000</td>\n",
       "      <td>515.000000</td>\n",
       "      <td>515.000000</td>\n",
       "      <td>515.000000</td>\n",
       "      <td>515.000000</td>\n",
       "      <td>515.000000</td>\n",
       "      <td>515.000000</td>\n",
       "      <td>515.000000</td>\n",
       "      <td>515.000000</td>\n",
       "      <td>515.000000</td>\n",
       "    </tr>\n",
       "    <tr>\n",
       "      <th>mean</th>\n",
       "      <td>-0.031916</td>\n",
       "      <td>-0.018579</td>\n",
       "      <td>-0.063151</td>\n",
       "      <td>-0.021909</td>\n",
       "      <td>0.013476</td>\n",
       "      <td>-0.001181</td>\n",
       "      <td>0.026900</td>\n",
       "      <td>0.013158</td>\n",
       "      <td>-0.077559</td>\n",
       "      <td>-0.027426</td>\n",
       "      <td>...</td>\n",
       "      <td>-0.005448</td>\n",
       "      <td>-0.014250</td>\n",
       "      <td>0.019805</td>\n",
       "      <td>0.063264</td>\n",
       "      <td>0.127322</td>\n",
       "      <td>0.011155</td>\n",
       "      <td>0.039549</td>\n",
       "      <td>0.022316</td>\n",
       "      <td>0.015988</td>\n",
       "      <td>9.216541</td>\n",
       "    </tr>\n",
       "    <tr>\n",
       "      <th>std</th>\n",
       "      <td>0.986544</td>\n",
       "      <td>1.017873</td>\n",
       "      <td>0.954387</td>\n",
       "      <td>1.012893</td>\n",
       "      <td>0.991497</td>\n",
       "      <td>0.981665</td>\n",
       "      <td>0.981380</td>\n",
       "      <td>0.990812</td>\n",
       "      <td>1.005245</td>\n",
       "      <td>0.975874</td>\n",
       "      <td>...</td>\n",
       "      <td>1.019443</td>\n",
       "      <td>0.966516</td>\n",
       "      <td>0.969294</td>\n",
       "      <td>0.998064</td>\n",
       "      <td>0.962973</td>\n",
       "      <td>0.966104</td>\n",
       "      <td>0.956670</td>\n",
       "      <td>0.981450</td>\n",
       "      <td>0.996918</td>\n",
       "      <td>236.614468</td>\n",
       "    </tr>\n",
       "    <tr>\n",
       "      <th>min</th>\n",
       "      <td>-3.779419</td>\n",
       "      <td>-3.658909</td>\n",
       "      <td>-3.210323</td>\n",
       "      <td>-3.109916</td>\n",
       "      <td>-2.474327</td>\n",
       "      <td>-3.026705</td>\n",
       "      <td>-3.537120</td>\n",
       "      <td>-2.962460</td>\n",
       "      <td>-2.665844</td>\n",
       "      <td>-2.676123</td>\n",
       "      <td>...</td>\n",
       "      <td>-3.427870</td>\n",
       "      <td>-3.565831</td>\n",
       "      <td>-2.770447</td>\n",
       "      <td>-3.073767</td>\n",
       "      <td>-2.723248</td>\n",
       "      <td>-2.386994</td>\n",
       "      <td>-2.768433</td>\n",
       "      <td>-3.209209</td>\n",
       "      <td>-2.747800</td>\n",
       "      <td>-685.839868</td>\n",
       "    </tr>\n",
       "    <tr>\n",
       "      <th>25%</th>\n",
       "      <td>-0.711398</td>\n",
       "      <td>-0.702240</td>\n",
       "      <td>-0.704915</td>\n",
       "      <td>-0.687428</td>\n",
       "      <td>-0.684554</td>\n",
       "      <td>-0.637186</td>\n",
       "      <td>-0.651610</td>\n",
       "      <td>-0.671965</td>\n",
       "      <td>-0.749489</td>\n",
       "      <td>-0.697305</td>\n",
       "      <td>...</td>\n",
       "      <td>-0.691434</td>\n",
       "      <td>-0.621313</td>\n",
       "      <td>-0.593593</td>\n",
       "      <td>-0.590866</td>\n",
       "      <td>-0.564741</td>\n",
       "      <td>-0.656772</td>\n",
       "      <td>-0.587554</td>\n",
       "      <td>-0.606704</td>\n",
       "      <td>-0.600697</td>\n",
       "      <td>-152.987811</td>\n",
       "    </tr>\n",
       "    <tr>\n",
       "      <th>50%</th>\n",
       "      <td>0.018907</td>\n",
       "      <td>-0.110463</td>\n",
       "      <td>0.004862</td>\n",
       "      <td>-0.031170</td>\n",
       "      <td>0.068542</td>\n",
       "      <td>-0.031397</td>\n",
       "      <td>0.039952</td>\n",
       "      <td>0.026018</td>\n",
       "      <td>-0.095659</td>\n",
       "      <td>-0.019338</td>\n",
       "      <td>...</td>\n",
       "      <td>-0.053982</td>\n",
       "      <td>0.043549</td>\n",
       "      <td>0.054638</td>\n",
       "      <td>0.045501</td>\n",
       "      <td>0.145512</td>\n",
       "      <td>0.028615</td>\n",
       "      <td>0.032970</td>\n",
       "      <td>-0.012728</td>\n",
       "      <td>0.022261</td>\n",
       "      <td>-7.880606</td>\n",
       "    </tr>\n",
       "    <tr>\n",
       "      <th>75%</th>\n",
       "      <td>0.650191</td>\n",
       "      <td>0.623574</td>\n",
       "      <td>0.539673</td>\n",
       "      <td>0.656907</td>\n",
       "      <td>0.704536</td>\n",
       "      <td>0.649443</td>\n",
       "      <td>0.704193</td>\n",
       "      <td>0.712172</td>\n",
       "      <td>0.573096</td>\n",
       "      <td>0.631577</td>\n",
       "      <td>...</td>\n",
       "      <td>0.663351</td>\n",
       "      <td>0.636121</td>\n",
       "      <td>0.682097</td>\n",
       "      <td>0.745959</td>\n",
       "      <td>0.767340</td>\n",
       "      <td>0.625252</td>\n",
       "      <td>0.650687</td>\n",
       "      <td>0.718792</td>\n",
       "      <td>0.671854</td>\n",
       "      <td>160.917009</td>\n",
       "    </tr>\n",
       "    <tr>\n",
       "      <th>max</th>\n",
       "      <td>3.014268</td>\n",
       "      <td>3.587054</td>\n",
       "      <td>2.776868</td>\n",
       "      <td>2.810854</td>\n",
       "      <td>3.348492</td>\n",
       "      <td>3.153710</td>\n",
       "      <td>2.622348</td>\n",
       "      <td>3.181456</td>\n",
       "      <td>3.879336</td>\n",
       "      <td>2.582256</td>\n",
       "      <td>...</td>\n",
       "      <td>3.850762</td>\n",
       "      <td>2.620665</td>\n",
       "      <td>2.707830</td>\n",
       "      <td>2.916495</td>\n",
       "      <td>3.023495</td>\n",
       "      <td>2.972084</td>\n",
       "      <td>3.258235</td>\n",
       "      <td>2.799680</td>\n",
       "      <td>3.435305</td>\n",
       "      <td>601.698464</td>\n",
       "    </tr>\n",
       "  </tbody>\n",
       "</table>\n",
       "<p>8 rows × 24 columns</p>\n",
       "</div>"
      ],
      "text/plain": [
       "               x0          x1          x2          x3          x4          x5  \\\n",
       "count  515.000000  515.000000  515.000000  515.000000  515.000000  515.000000   \n",
       "mean    -0.031916   -0.018579   -0.063151   -0.021909    0.013476   -0.001181   \n",
       "std      0.986544    1.017873    0.954387    1.012893    0.991497    0.981665   \n",
       "min     -3.779419   -3.658909   -3.210323   -3.109916   -2.474327   -3.026705   \n",
       "25%     -0.711398   -0.702240   -0.704915   -0.687428   -0.684554   -0.637186   \n",
       "50%      0.018907   -0.110463    0.004862   -0.031170    0.068542   -0.031397   \n",
       "75%      0.650191    0.623574    0.539673    0.656907    0.704536    0.649443   \n",
       "max      3.014268    3.587054    2.776868    2.810854    3.348492    3.153710   \n",
       "\n",
       "               x6          x7          x8          x9  ...         x14  \\\n",
       "count  515.000000  515.000000  515.000000  515.000000  ...  515.000000   \n",
       "mean     0.026900    0.013158   -0.077559   -0.027426  ...   -0.005448   \n",
       "std      0.981380    0.990812    1.005245    0.975874  ...    1.019443   \n",
       "min     -3.537120   -2.962460   -2.665844   -2.676123  ...   -3.427870   \n",
       "25%     -0.651610   -0.671965   -0.749489   -0.697305  ...   -0.691434   \n",
       "50%      0.039952    0.026018   -0.095659   -0.019338  ...   -0.053982   \n",
       "75%      0.704193    0.712172    0.573096    0.631577  ...    0.663351   \n",
       "max      2.622348    3.181456    3.879336    2.582256  ...    3.850762   \n",
       "\n",
       "              x15         x16         x17         x18         x19         x20  \\\n",
       "count  515.000000  515.000000  515.000000  515.000000  515.000000  515.000000   \n",
       "mean    -0.014250    0.019805    0.063264    0.127322    0.011155    0.039549   \n",
       "std      0.966516    0.969294    0.998064    0.962973    0.966104    0.956670   \n",
       "min     -3.565831   -2.770447   -3.073767   -2.723248   -2.386994   -2.768433   \n",
       "25%     -0.621313   -0.593593   -0.590866   -0.564741   -0.656772   -0.587554   \n",
       "50%      0.043549    0.054638    0.045501    0.145512    0.028615    0.032970   \n",
       "75%      0.636121    0.682097    0.745959    0.767340    0.625252    0.650687   \n",
       "max      2.620665    2.707830    2.916495    3.023495    2.972084    3.258235   \n",
       "\n",
       "              x21         x22           y  \n",
       "count  515.000000  515.000000  515.000000  \n",
       "mean     0.022316    0.015988    9.216541  \n",
       "std      0.981450    0.996918  236.614468  \n",
       "min     -3.209209   -2.747800 -685.839868  \n",
       "25%     -0.606704   -0.600697 -152.987811  \n",
       "50%     -0.012728    0.022261   -7.880606  \n",
       "75%      0.718792    0.671854  160.917009  \n",
       "max      2.799680    3.435305  601.698464  \n",
       "\n",
       "[8 rows x 24 columns]"
      ]
     },
     "execution_count": 112,
     "metadata": {},
     "output_type": "execute_result"
    }
   ],
   "source": [
    "df.describe()"
   ]
  },
  {
   "cell_type": "markdown",
   "id": "d9ff5450-af7d-4770-a86d-3a5ece9651f1",
   "metadata": {},
   "source": [
    "Veamos en una representación gráfica el índice de correlación entre las variables independientes y dependiente, con el objetivo de hacernos una primera idea de qué variables pueden ser más colineales con otras."
   ]
  },
  {
   "cell_type": "code",
   "execution_count": 113,
   "id": "318ebd0e-d3af-4a2c-b129-5f2770517045",
   "metadata": {},
   "outputs": [
    {
     "data": {
      "text/plain": [
       "<Axes: >"
      ]
     },
     "execution_count": 113,
     "metadata": {},
     "output_type": "execute_result"
    },
    {
     "data": {
      "image/png": "[encoded data removed]",
      "text/plain": [
       "<Figure size 640x480 with 2 Axes>"
      ]
     },
     "metadata": {},
     "output_type": "display_data"
    }
   ],
   "source": [
    "# Matriz de correlación\n",
    "corr = df.corr(method='pearson')\n",
    "# Mapa de calor sobre las correlaciones entre variables\n",
    "sns.heatmap(corr, cmap='coolwarm')"
   ]
  },
  {
   "cell_type": "markdown",
   "id": "72549c49-8a2a-426f-9ce7-b7be218d8700",
   "metadata": {},
   "source": [
    "Vemos que es en las posiciones correspondientes a la correlación de caada variable independiente con la variable y donde vemos los colores que indican más correlación. Sin embargo, sí que se observan entre las últimas variables independientes colores que indican correlación baja con la variable dependiente.\n",
    "\n",
    "A continuación, vamos a representar los pares $(x_i,y)$ para los 23 valores de i."
   ]
  },
  {
   "cell_type": "markdown",
   "id": "571f57e8-0f12-415a-b565-a2b2dcbf8f95",
   "metadata": {},
   "source": [
    "sns.pairplot(df, x_vars=columns[0:-1], y_vars=columns[-1])"
   ]
  },
  {
   "cell_type": "markdown",
   "id": "ff021fe5-de12-4523-affc-4e3342fc6888",
   "metadata": {},
   "source": [
    "El gráfico anterior no es muy sugerente. Si atendemos una a una a todas las representaciones, si podemos ver algunas en que la nube de puntos puede parecer más situada alrededor de una posible recta (por ejemplo x12) y otras en las que el desorden parece mayor y no se intuye un trasfondo lineal (como x19)."
   ]
  },
  {
   "cell_type": "markdown",
   "id": "ee97124c-bda9-4a8d-bd42-886b7835cea9",
   "metadata": {},
   "source": [
    "A continuación, se pide dividir el dataset en entrenamiento (70%) y test(30%). Para ello, hacemos uso de la función train_test_split de sklearn."
   ]
  },
  {
   "cell_type": "code",
   "execution_count": 114,
   "id": "5b015d92-f7c2-4572-aef8-4ab493649727",
   "metadata": {},
   "outputs": [],
   "source": [
    "from sklearn.model_selection import train_test_split\n",
    "X_train, X_test, y_train, y_test = train_test_split(X, y, test_size=0.3, random_state=a) # si le pasamos un número decimal \n",
    "                                                                                          # en test_size lo entiende como porcentaje"
   ]
  },
  {
   "cell_type": "markdown",
   "id": "48bc51e1-b300-4791-a356-670f9741aa34",
   "metadata": {},
   "source": [
    "A continuación se pide realizar una regresión lineal multivariante sobre el conjunto de datos. Para ello, se utiliza la clase LinearRegression de sklearn."
   ]
  },
  {
   "cell_type": "code",
   "execution_count": 115,
   "id": "94152461-b7d5-4b89-a545-0c703974d816",
   "metadata": {},
   "outputs": [],
   "source": [
    "from sklearn.linear_model import LinearRegression\n",
    "# Regresión habitual por mínimos cuadrados\n",
    "reg_ls = LinearRegression().fit(X_train, y_train)"
   ]
  },
  {
   "cell_type": "markdown",
   "id": "97b75b7b-32ac-4685-b151-6fa806c31db9",
   "metadata": {},
   "source": [
    "Podemos ver los coeficientes ajustados a los datos en el modelo de regresión:"
   ]
  },
  {
   "cell_type": "code",
   "execution_count": 116,
   "id": "3b405c9f-034b-4d05-94e5-25db48b317cc",
   "metadata": {},
   "outputs": [
    {
     "name": "stdout",
     "output_type": "stream",
     "text": [
      "Coeficientes: \n",
      " [87.92759092 -0.73802934 29.4970399  56.75468674 38.96952379 21.59483232\n",
      " 56.99540147 96.2678824  32.92486733  0.50481603 36.080372    1.5135127\n",
      " 72.7645182   5.57702945 75.39416944 77.40141926 53.12179828 15.43438997\n",
      " 23.0921661  -0.38633887 -4.70628473  5.93119733  2.61292669] \n",
      " Intercepto: \n",
      " 5.7304810656361775\n"
     ]
    }
   ],
   "source": [
    "# Coeficientes del modelo\n",
    "print(\"Coeficientes: \\n\", reg_ls.coef_, \"\\n\", \"Intercepto: \\n\", reg_ls.intercept_)"
   ]
  },
  {
   "cell_type": "markdown",
   "id": "1a664735-8574-4fa3-b54d-c7d166eee93a",
   "metadata": {},
   "source": [
    "Vemos que el peso de algunas variables es significativamente menor al de otras. A continuación, evaluamos la bondad de nuestro ajuste hciendo uso de la meustra de test y de algunas funciones propias de sklearn. Recordemos que el bias=2 significaba que en el caso en el que el parámetro noise fuera nulo, la ordenada en el origen del modelo lineal generado sería ese valor del sesgo (2 en este caso). Vemos que el intercepto (que es esa ordenada en el origen) es ahora 5.73, lo cual es una consecuencia de la \"cantidad\" de ruido introducido en el dataset."
   ]
  },
  {
   "cell_type": "code",
   "execution_count": 117,
   "id": "eabd3447-f920-437c-8ec4-bcd9491388e3",
   "metadata": {},
   "outputs": [
    {
     "name": "stdout",
     "output_type": "stream",
     "text": [
      "Error cuadrático medio: 8174.36\n",
      "Coeficiente de determinación R2: 0.84\n"
     ]
    }
   ],
   "source": [
    "# evalúamos la función obtenida en la muestra de variables independientes reservada para test\n",
    "y_pred_ls = reg_ls.predict(X_test)\n",
    "from sklearn.metrics import mean_squared_error, r2_score\n",
    "# Error cuadrático medio sobre la muestra de test\n",
    "mean_error_ls = mean_squared_error(y_test, y_pred_ls)\n",
    "print(\"Error cuadrático medio: %.2f\" % mean_error_ls)\n",
    "# Coeficiente de determinación 1 significa predicción perfecta\n",
    "r2_ls = r2_score(y_test, y_pred_ls)\n",
    "print(\"Coeficiente de determinación R2: %.2f\" % r2_ls)"
   ]
  },
  {
   "cell_type": "markdown",
   "id": "75f14d60-a755-4297-b265-88e482f4ec97",
   "metadata": {},
   "source": [
    "Vemos que el coeficiente de determinación $R^2$, siendo bueno, no es exageradamente bueno, lo que se podía esperar teniendo en cuenta el valor del parámetro noise (90) usado al generar el dataset."
   ]
  },
  {
   "cell_type": "markdown",
   "id": "59f46289-a3be-4aef-9c82-bb891cfd71fd",
   "metadata": {},
   "source": [
    "A continuación, veamos la normalidad y homocedasticidad de los residuos para validar lo razonable del ajuste lineal sobre el dataset en estudio \n",
    "(deberían superarse todos los test puesto que la muestra esta construida a medida)."
   ]
  },
  {
   "cell_type": "code",
   "execution_count": 118,
   "id": "6f1ce2dd-395a-4d3b-abb9-b9e13b6d2f5b",
   "metadata": {},
   "outputs": [
    {
     "name": "stdout",
     "output_type": "stream",
     "text": [
      "Test Shapiro-Wilk, p.valor: 0.57584\n",
      "Como p.valor > 0.05, no se rechaza la hipótesis nula y se da normalidad en los residuos.\n"
     ]
    }
   ],
   "source": [
    "# calculamos los residuos sobre la muestra de entrenamiento\n",
    "y_train_ls = reg_ls.predict(X_train)\n",
    "residuos = y_train - y_train_ls\n",
    "# Test de Saphiro-Wilk para probar la normalidad de los residuos (por ser una muestra pequeña <5000 observaciones)\n",
    "import scipy.stats as stats\n",
    "sh_result = stats.shapiro(residuos)\n",
    "print(\"Test Shapiro-Wilk, p.valor: %5.5f\" %(sh_result.pvalue))\n",
    "print(\"Como p.valor > 0.05, no se rechaza la hipótesis nula y se da normalidad en los residuos.\")"
   ]
  },
  {
   "cell_type": "markdown",
   "id": "8ec6d8d9-8683-4a25-8248-b302644ac6bd",
   "metadata": {},
   "source": [
    "Para llevar a cabo el test de Breusch-Pagan para corroborar la homocedasticidad, vamos a emplear la regresión lineal por mínimos cuadrados de alibrería statsmodels, que ya tiene algunos métodos preimplementados. Mostraremos para dar confort al lector que se obtienen los mismos resultados que con la regresión lineal de sklearn, y que por tanto los resultados obtenidos sobre una son igualmente válidos para la otra, aunque a nivel de código se trate de dos objetos diferentes."
   ]
  },
  {
   "cell_type": "code",
   "execution_count": 119,
   "id": "2d431fbe-ee7f-470b-96ea-7c43636865e0",
   "metadata": {},
   "outputs": [
    {
     "name": "stdout",
     "output_type": "stream",
     "text": [
      "Diferencia en los interceptos: -5.773159728050814e-14\n",
      "Diferencia en los coeficientes:[ 2.27373675e-13  2.21156427e-13  7.10542736e-15  1.77635684e-13\n",
      " -2.06057393e-13  1.88293825e-13  1.56319402e-13  2.13162821e-13\n",
      " -3.26849658e-13 -4.97379915e-14  1.20792265e-13  2.20268248e-13\n",
      "  2.84217094e-14  1.39444012e-13  3.41060513e-13  1.13686838e-13\n",
      " -8.52651283e-14 -2.48689958e-14  2.84217094e-14  2.04281037e-14\n",
      "  7.28306304e-14  4.44089210e-14  3.10418358e-13]\n"
     ]
    }
   ],
   "source": [
    "import statsmodels.api as sm\n",
    "# forma de construir la regresión lineal \n",
    "X_train2 = sm.add_constant(X_train)\n",
    "reg_ls_stats = sm.OLS(y_train, X_train2).fit()\n",
    "# demostración de que se trata del mismo ajuste \n",
    "print('Diferencia en los interceptos: {}'.format(reg_ls_stats.params[0] - reg_ls.intercept_))\n",
    "print('Diferencia en los coeficientes:{}'.format(reg_ls_stats.params[1:] - reg_ls.coef_))"
   ]
  },
  {
   "cell_type": "code",
   "execution_count": 120,
   "id": "fdc68054-0887-42f9-b95d-381e46340c42",
   "metadata": {},
   "outputs": [
    {
     "name": "stdout",
     "output_type": "stream",
     "text": [
      "El resultado del test Breusch-Pagan es: p.valor = 0.483\n",
      "Como p.valor > 0.05, no se rechaza la hipótesis nula y se da homocedasticidad.\n"
     ]
    }
   ],
   "source": [
    "# test de Breusch-Pagan\n",
    "import statsmodels.stats.api as sms\n",
    "bp = sms.het_breuschpagan(resid = reg_ls_stats.resid, exog_het = reg_ls_stats.model.exog)[1]\n",
    "print(\"El resultado del test Breusch-Pagan es: p.valor = %5.3f\"%(bp))\n",
    "print(\"Como p.valor > 0.05, no se rechaza la hipótesis nula y se da homocedasticidad.\")"
   ]
  },
  {
   "cell_type": "markdown",
   "id": "bd6c3d41-5e7f-4771-b7a1-8c968afde49b",
   "metadata": {},
   "source": [
    "Tras los test hechos, podemos concluir que el modelo es una buena elección para ajustar los datos generados (evidentemente)."
   ]
  },
  {
   "cell_type": "markdown",
   "id": "9486f18f-b615-4dee-9811-eb7fca324a78",
   "metadata": {},
   "source": [
    "Realicemos el test ICbeta para poder concluir cuáles son las variables que no son significativas:"
   ]
  },
  {
   "cell_type": "code",
   "execution_count": 121,
   "id": "d38182b8-9301-4b40-a4ef-9abf9f479de0",
   "metadata": {},
   "outputs": [
    {
     "name": "stdout",
     "output_type": "stream",
     "text": [
      "El IC al 0.95 de b1 es: [87.92759092 -0.73802934 29.4970399  56.75468674 38.96952379 21.59483232\n",
      " 56.99540147 96.2678824  32.92486733  0.50481603 36.080372    1.5135127\n",
      " 72.7645182   5.57702945 75.39416944 77.40141926 53.12179828 15.43438997\n",
      " 23.0921661  -0.38633887 -4.70628473  5.93119733  2.61292669] +/- 7.970996172644631\n",
      "El intervalo de confianza para la variable x1 contiene al 0, luego no es significativa.\n",
      "El intervalo de confianza para la variable x9 contiene al 0, luego no es significativa.\n",
      "El intervalo de confianza para la variable x11 contiene al 0, luego no es significativa.\n",
      "El intervalo de confianza para la variable x13 contiene al 0, luego no es significativa.\n",
      "El intervalo de confianza para la variable x19 contiene al 0, luego no es significativa.\n",
      "El intervalo de confianza para la variable x20 contiene al 0, luego no es significativa.\n",
      "El intervalo de confianza para la variable x21 contiene al 0, luego no es significativa.\n",
      "El intervalo de confianza para la variable x22 contiene al 0, luego no es significativa.\n"
     ]
    }
   ],
   "source": [
    "# calcular ICbeta1\n",
    "\n",
    "# calcular numerador sb1^2\n",
    "s2 = sum(residuos**2)/(len(y_train)-2)\n",
    "# calcular denominador sb1^2\n",
    "den = np.var(X) * len(X)\n",
    "# calcular sb1\n",
    "sb1 = (s2/den) ** 0.5\n",
    "amplitud = 1.96 * sb1\n",
    "print(\"El IC al 0.95 de b1 es:\", reg_ls.coef_, \"+/-\", amplitud)\n",
    "for i in range(len(columns[0:-1])):\n",
    "    if reg_ls.coef_[i] - amplitud < 0 and reg_ls.coef_[i] + amplitud > 0:\n",
    "        print(\"El intervalo de confianza para la variable {} contiene al 0, luego no es significativa.\".format(columns[i]))    "
   ]
  },
  {
   "cell_type": "markdown",
   "id": "5ec9d20b-700d-4dc3-82e4-2e06e45ab1d0",
   "metadata": {},
   "source": [
    "Del análisis anterior obtenemos más variables que no son significativas a parte de las que ya habíamos introducido a través de los parámetros del modelo (s2=4)."
   ]
  },
  {
   "cell_type": "markdown",
   "id": "7a76d6df-0589-460c-93a5-918874c6303a",
   "metadata": {},
   "source": [
    "El objeto creado a partir de la librería de statsmodels tiene un método muy útil para poder sacar más conclusiones."
   ]
  },
  {
   "cell_type": "code",
   "execution_count": 122,
   "id": "5c9d8f45-302d-473d-bf50-11682ecf9aef",
   "metadata": {},
   "outputs": [
    {
     "name": "stdout",
     "output_type": "stream",
     "text": [
      "                            OLS Regression Results                            \n",
      "==============================================================================\n",
      "Dep. Variable:                      y   R-squared:                       0.856\n",
      "Model:                            OLS   Adj. R-squared:                  0.847\n",
      "Method:                 Least Squares   F-statistic:                     87.14\n",
      "Date:                Sun, 14 Jul 2024   Prob (F-statistic):          1.35e-126\n",
      "Time:                        13:25:01   Log-Likelihood:                -2133.9\n",
      "No. Observations:                 360   AIC:                             4316.\n",
      "Df Residuals:                     336   BIC:                             4409.\n",
      "Df Model:                          23                                         \n",
      "Covariance Type:            nonrobust                                         \n",
      "==============================================================================\n",
      "                 coef    std err          t      P>|t|      [0.025      0.975]\n",
      "------------------------------------------------------------------------------\n",
      "const          5.7305      5.091      1.126      0.261      -4.284      15.745\n",
      "x1            87.9276      5.083     17.298      0.000      77.929      97.927\n",
      "x2            -0.7380      5.009     -0.147      0.883     -10.592       9.116\n",
      "x3            29.4970      5.388      5.474      0.000      18.898      40.096\n",
      "x4            56.7547      5.136     11.050      0.000      46.652      66.857\n",
      "x5            38.9695      5.055      7.709      0.000      29.025      48.914\n",
      "x6            21.5948      5.302      4.073      0.000      11.166      32.023\n",
      "x7            56.9954      5.301     10.752      0.000      46.568      67.423\n",
      "x8            96.2679      5.216     18.456      0.000      86.008     106.528\n",
      "x9            32.9249      5.027      6.549      0.000      23.036      42.814\n",
      "x10            0.5048      5.255      0.096      0.924      -9.832      10.842\n",
      "x11           36.0804      5.434      6.640      0.000      25.392      46.769\n",
      "x12            1.5135      5.473      0.277      0.782      -9.251      12.278\n",
      "x13           72.7645      5.215     13.953      0.000      62.507      83.022\n",
      "x14            5.5770      4.705      1.185      0.237      -3.677      14.831\n",
      "x15           75.3942      5.052     14.923      0.000      65.456      85.332\n",
      "x16           77.4014      5.299     14.607      0.000      66.978      87.824\n",
      "x17           53.1218      5.291     10.040      0.000      42.714      63.530\n",
      "x18           15.4344      5.102      3.025      0.003       5.399      25.470\n",
      "x19           23.0922      5.570      4.146      0.000      12.135      34.049\n",
      "x20           -0.3863      5.333     -0.072      0.942     -10.877      10.105\n",
      "x21           -4.7063      5.380     -0.875      0.382     -15.288       5.876\n",
      "x22            5.9312      5.307      1.118      0.265      -4.509      16.371\n",
      "x23            2.6129      5.432      0.481      0.631      -8.073      13.298\n",
      "==============================================================================\n",
      "Omnibus:                        0.801   Durbin-Watson:                   1.945\n",
      "Prob(Omnibus):                  0.670   Jarque-Bera (JB):                0.659\n",
      "Skew:                          -0.100   Prob(JB):                        0.719\n",
      "Kurtosis:                       3.061   Cond. No.                         1.65\n",
      "==============================================================================\n",
      "\n",
      "Notes:\n",
      "[1] Standard Errors assume that the covariance matrix of the errors is correctly specified.\n"
     ]
    }
   ],
   "source": [
    "print(reg_ls_stats.summary())"
   ]
  },
  {
   "cell_type": "markdown",
   "id": "9b2689a9-4a3f-416f-b109-59ec3ae4f480",
   "metadata": {},
   "source": [
    "Hay que ser cuidadoso al ver el resumen anterior, puesto que las etiquetas puestas a las variables independientes van de 1 a 23, mientras que las etiquetas que hemos venido usando iban de 0 a 22. Esto es, nuestra variable x0 se corresponde con la x1 en la tabla previa.\n",
    "Atendiendo a la columna P>|t| (mayor valor implica menor significatividad estadística) de nuevo podemos observarque las variables $x_{1}$, $x_{9}$, $x_{11}$, $x_{13}$, $x_{19}$, $x_{20}$,  $x_{21}$ y  $x_{22}$ son candidatas claras a ser redundantes.\n",
    "\n",
    "A continuación, vamos a realizar un algoritmo stepwise hacia atrás, en el que guiados por la variable con mayor p-valor, y tomando como condición que el R^2 del ajuste realizado no decrezca de manera muy exagerada entre 2 pasos, vamos a eliminar las variables que sean redundantes.\n",
    "En el método se imponen 2 condiciones: la primera es que para poder eliminar una variable la diferencia entre el máximo p-valor (variable que se eliminaría) y mínimo p-valor, tiene que ser suficientmente grande. Esto lo hago para evitar que se eliminen todas las variables. La segunda condición es que el cambio relativo en el $r^2$ de ajuste no sea muy grande, y por tanto que la eliminación de la variable no esté afectando de manera muy negativa a la capacidad predictora del modelo.\n",
    "\n",
    "De esta manera, eliminamos de manera justificada todas las variables que no son significativas en nuestro modelo, mediante un algoritmo stepwise hacia atrás de elaboración propia."
   ]
  },
  {
   "cell_type": "code",
   "execution_count": 123,
   "id": "ce44d53c-9ada-4a72-8d22-c9da018e6a6b",
   "metadata": {},
   "outputs": [
    {
     "name": "stdout",
     "output_type": "stream",
     "text": [
      "Variables eliminadas: ['x19', 'x9', 'x1', 'x11', 'x22', 'x20', 'x21', 'x13']\n",
      "Variables significativas: ['x0', 'x2', 'x3', 'x4', 'x5', 'x6', 'x7', 'x8', 'x10', 'x12', 'x14', 'x15', 'x16', 'x17', 'x18']\n"
     ]
    }
   ],
   "source": [
    "# construimos dataframes con las muestras de test y entrenamiento para poder manejar las columnas que vamos eliminando\n",
    "df_train = pd.DataFrame(np.hstack((X_train,y_train[:, None])), columns=columns)\n",
    "df_test = pd.DataFrame(np.hstack((X_test,y_test[:, None])), columns=columns)\n",
    "# comenzamos considerando todas las variables\n",
    "x_columns = columns[0:-1]\n",
    "# cogemos la variable con mayor p-valor, excluimos de la lista de p-valores el que corresponde al intercepto\n",
    "idx = np.argwhere(reg_ls_stats.pvalues[1:] == max(reg_ls_stats.pvalues[1:]))[0][0]\n",
    "# inicializo variables \n",
    "iter = 0\n",
    "removed_var = []\n",
    "tol = 1\n",
    "tol2 = 0\n",
    "r2_new = r2_ls\n",
    "while tol > 1e-2 and tol2 < 0.1 :    \n",
    "    iter += 1\n",
    "    removed_var.append(x_columns[idx])\n",
    "    x_columns.remove(x_columns[idx])    \n",
    "    X2 = sm.add_constant(df_train[x_columns])\n",
    "    est_aux = sm.OLS(y_train,X2).fit()\n",
    "    sk_aux = LinearRegression().fit(df_train[x_columns],y_train)\n",
    "    ypred_aux=sk_aux.predict(df_test[x_columns])\n",
    "    r2_old = cp.copy(r2_new)\n",
    "    r2_new = r2_score(y_test, ypred_aux)\n",
    "    tol2=(r2_old-r2_new)/r2_old\n",
    "    idx = np.argwhere(est_aux.pvalues[1:] == max(est_aux.pvalues[1:]))[0][0]\n",
    "    tol = abs(max(est_aux.pvalues[1:]) - min(est_aux.pvalues[1:]))\n",
    "print(\"Variables eliminadas:\", removed_var)\n",
    "print(\"Variables significativas:\", x_columns)"
   ]
  },
  {
   "cell_type": "code",
   "execution_count": 124,
   "id": "a6ea01cb-c484-49d7-af18-a3bae7fddd06",
   "metadata": {},
   "outputs": [
    {
     "name": "stdout",
     "output_type": "stream",
     "text": [
      "                            OLS Regression Results                            \n",
      "==============================================================================\n",
      "Dep. Variable:                      y   R-squared:                       0.855\n",
      "Model:                            OLS   Adj. R-squared:                  0.848\n",
      "Method:                 Least Squares   F-statistic:                     135.0\n",
      "Date:                Sun, 14 Jul 2024   Prob (F-statistic):          5.63e-134\n",
      "Time:                        13:25:01   Log-Likelihood:                -2136.0\n",
      "No. Observations:                 360   AIC:                             4304.\n",
      "Df Residuals:                     344   BIC:                             4366.\n",
      "Df Model:                          15                                         \n",
      "Covariance Type:            nonrobust                                         \n",
      "==============================================================================\n",
      "                 coef    std err          t      P>|t|      [0.025      0.975]\n",
      "------------------------------------------------------------------------------\n",
      "const          5.7309      5.006      1.145      0.253      -4.116      15.577\n",
      "x0            88.2650      5.015     17.602      0.000      78.402      98.128\n",
      "x2            29.5984      5.320      5.564      0.000      19.135      40.062\n",
      "x3            56.2765      5.035     11.176      0.000      46.372      66.181\n",
      "x4            38.8889      4.996      7.784      0.000      29.063      48.715\n",
      "x5            21.5564      5.217      4.132      0.000      11.296      31.817\n",
      "x6            57.5324      5.227     11.006      0.000      47.251      67.814\n",
      "x7            96.9679      5.104     18.998      0.000      86.929     107.007\n",
      "x8            34.2125      4.868      7.028      0.000      24.638      43.787\n",
      "x10           34.9551      5.329      6.560      0.000      24.474      45.436\n",
      "x12           72.6545      5.137     14.143      0.000      62.550      82.759\n",
      "x14           75.2863      4.958     15.185      0.000      65.535      85.038\n",
      "x15           77.5523      5.234     14.816      0.000      67.257      87.848\n",
      "x16           53.6890      5.131     10.465      0.000      43.598      63.780\n",
      "x17           15.8486      5.020      3.157      0.002       5.974      25.723\n",
      "x18           24.1634      5.432      4.448      0.000      13.479      34.847\n",
      "==============================================================================\n",
      "Omnibus:                        0.774   Durbin-Watson:                   1.938\n",
      "Prob(Omnibus):                  0.679   Jarque-Bera (JB):                0.572\n",
      "Skew:                          -0.077   Prob(JB):                        0.751\n",
      "Kurtosis:                       3.120   Cond. No.                         1.47\n",
      "==============================================================================\n",
      "\n",
      "Notes:\n",
      "[1] Standard Errors assume that the covariance matrix of the errors is correctly specified.\n"
     ]
    }
   ],
   "source": [
    "# resumen del ajuste al que se ha convergido\n",
    "print(est_aux.summary())"
   ]
  },
  {
   "cell_type": "markdown",
   "id": "5d37db43-eb18-4ca7-aa31-15ceea7123fe",
   "metadata": {},
   "source": [
    "A continuación se pie realizar una regresión con el método de Lasso tomando $\\alpha=10^4$. Se va a llevar a cabo el ajuste teniendo en cuenta todas las variables, puesto que al momento de llegar a este apartado todavía no he refinado el método stepwise del apartado anterior que podría ser  apropiado enchufar a esta parte (solo considerando las variables significativas). Puesto que más información, aunque no sea significativa, no debería suponer un obstáculo en una regresión lineal, prefiero hacer esta parte considerando todas las variables. En el ajuste que se lleva a cabo abajo, podemos ver que sobre la muestra de entrenamiento y test generadas, Lasso (con el valor de $\\alpha$ escogido) se comporta mucho peor que la regresión por mínimos cuadrados que veníamos tratando. Habría que llevar a cabo un algoritmo más riguroso por validación cruzada para la elección de este $\\alpha$ si quisiéramos concluir que la regresión de Lasso no aporta en ningún caso ninguna mejora respecto a la regresión por mínimos cuadrados sobre el conjunto de datos que estamos estudiando."
   ]
  },
  {
   "cell_type": "code",
   "execution_count": 125,
   "id": "94df023d-793f-442d-bdeb-d4d837560b71",
   "metadata": {},
   "outputs": [
    {
     "name": "stdout",
     "output_type": "stream",
     "text": [
      "El error cuadráctico medio cometido con la regresión de Lasso es: 10946.35904201991\n",
      "Coeficiente de determinación r2 con la regresión de Lasso: 0.785957875275447\n"
     ]
    }
   ],
   "source": [
    "from sklearn.linear_model import Lasso\n",
    "alpha=10^4\n",
    "reg_lasso = Lasso(alpha=alpha).fit(X_train, y_train)\n",
    "y_pred_lasso = reg_lasso.predict(X_test)\n",
    "lasso_mean_error = mean_squared_error(y_test,y_pred_lasso)\n",
    "lasso_r2 = r2_score(y_test,y_pred_lasso) \n",
    "print('El error cuadráctico medio cometido con la regresión de Lasso es: {}'.format(lasso_mean_error))\n",
    "print('Coeficiente de determinación r2 con la regresión de Lasso: {}'.format(lasso_r2))"
   ]
  }
 ],
 "metadata": {
  "kernelspec": {
   "display_name": "Python 3 (ipykernel)",
   "language": "python",
   "name": "python3"
  },
  "language_info": {
   "codemirror_mode": {
    "name": "ipython",
    "version": 3
   },
   "file_extension": ".py",
   "mimetype": "text/x-python",
   "name": "python",
   "nbconvert_exporter": "python",
   "pygments_lexer": "ipython3",
   "version": "3.11.7"
  }
 },
 "nbformat": 4,
 "nbformat_minor": 5
}
