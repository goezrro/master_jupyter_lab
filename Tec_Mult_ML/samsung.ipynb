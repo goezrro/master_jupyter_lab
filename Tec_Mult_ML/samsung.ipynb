{
 "cells": [
  {
   "cell_type": "markdown",
   "id": "29165c22-8205-424f-bb40-ed9f9e49215e",
   "metadata": {},
   "source": [
    "<h1>Valores de las acciones de Samsung</h1>"
   ]
  },
  {
   "cell_type": "markdown",
   "id": "cb841627-a208-4ce7-b17e-9446ebf80558",
   "metadata": {},
   "source": [
    "<img src=https://upload.wikimedia.org/wikipedia/commons/thumb/2/24/Samsung_Logo.svg/1600px-Samsung_Logo.svg.png>"
   ]
  },
  {
   "cell_type": "markdown",
   "id": "0110e993-d92c-43e0-b409-2b817dccaf1b",
   "metadata": {},
   "source": [
    "https://es.finance.yahoo.com/quote/005930.KS?p=005930.KS&.tsrc=fin-srch"
   ]
  },
  {
   "cell_type": "code",
   "execution_count": 27,
   "id": "8b12e35e-a8a5-420f-95ab-921fbff7b387",
   "metadata": {},
   "outputs": [],
   "source": [
    "# pip install --upgrade threadpoolctl"
   ]
  },
  {
   "cell_type": "code",
   "execution_count": 178,
   "id": "5e0cf025-7f6f-4612-a3c2-a0db8db31aee",
   "metadata": {},
   "outputs": [],
   "source": [
    "# Carga de librerías\n",
    "import pandas as pd\n",
    "from sklearn import preprocessing \n",
    "from sklearn.cluster import KMeans\n",
    "import matplotlib.pyplot as plt\n",
    "\n",
    "# Configuración warnings\n",
    "# =================================\n",
    "import warnings\n",
    "warnings.filterwarnings('ignore')"
   ]
  },
  {
   "cell_type": "code",
   "execution_count": 179,
   "id": "6b8aa63c-1b8f-4984-b39b-e6f216e2b615",
   "metadata": {},
   "outputs": [],
   "source": [
    "# load dataset\n",
    "df = pd.read_excel(\"SAMSUNG.xlsx\", header=0)"
   ]
  },
  {
   "cell_type": "code",
   "execution_count": 180,
   "id": "6de7baff-d7b6-4a99-bf8d-49e6f9e9101f",
   "metadata": {},
   "outputs": [
    {
     "data": {
      "text/html": [
       "<div>\n",
       "<style scoped>\n",
       "    .dataframe tbody tr th:only-of-type {\n",
       "        vertical-align: middle;\n",
       "    }\n",
       "\n",
       "    .dataframe tbody tr th {\n",
       "        vertical-align: top;\n",
       "    }\n",
       "\n",
       "    .dataframe thead th {\n",
       "        text-align: right;\n",
       "    }\n",
       "</style>\n",
       "<table border=\"1\" class=\"dataframe\">\n",
       "  <thead>\n",
       "    <tr style=\"text-align: right;\">\n",
       "      <th></th>\n",
       "      <th>Date</th>\n",
       "      <th>Open</th>\n",
       "      <th>High</th>\n",
       "      <th>Low</th>\n",
       "      <th>Close</th>\n",
       "      <th>Adj Close</th>\n",
       "      <th>Volume</th>\n",
       "    </tr>\n",
       "  </thead>\n",
       "  <tbody>\n",
       "    <tr>\n",
       "      <th>0</th>\n",
       "      <td>2022-06-02</td>\n",
       "      <td>66600000000</td>\n",
       "      <td>67000000000</td>\n",
       "      <td>66400000000</td>\n",
       "      <td>66700000000</td>\n",
       "      <td>65056390625</td>\n",
       "      <td>14959443</td>\n",
       "    </tr>\n",
       "    <tr>\n",
       "      <th>1</th>\n",
       "      <td>2022-06-03</td>\n",
       "      <td>67200000000</td>\n",
       "      <td>67300000000</td>\n",
       "      <td>66800000000</td>\n",
       "      <td>66800000000</td>\n",
       "      <td>65153914063</td>\n",
       "      <td>8222883</td>\n",
       "    </tr>\n",
       "    <tr>\n",
       "      <th>2</th>\n",
       "      <td>2022-06-07</td>\n",
       "      <td>66200000000</td>\n",
       "      <td>66400000000</td>\n",
       "      <td>65400000000</td>\n",
       "      <td>65500000000</td>\n",
       "      <td>63885953125</td>\n",
       "      <td>19355755</td>\n",
       "    </tr>\n",
       "    <tr>\n",
       "      <th>3</th>\n",
       "      <td>2022-06-08</td>\n",
       "      <td>65400000000</td>\n",
       "      <td>65700000000</td>\n",
       "      <td>65300000000</td>\n",
       "      <td>65300000000</td>\n",
       "      <td>63690882813</td>\n",
       "      <td>12483180</td>\n",
       "    </tr>\n",
       "    <tr>\n",
       "      <th>4</th>\n",
       "      <td>2022-06-09</td>\n",
       "      <td>65100000000</td>\n",
       "      <td>65200000000</td>\n",
       "      <td>64500000000</td>\n",
       "      <td>65200000000</td>\n",
       "      <td>63593347656</td>\n",
       "      <td>25790725</td>\n",
       "    </tr>\n",
       "    <tr>\n",
       "      <th>...</th>\n",
       "      <td>...</td>\n",
       "      <td>...</td>\n",
       "      <td>...</td>\n",
       "      <td>...</td>\n",
       "      <td>...</td>\n",
       "      <td>...</td>\n",
       "      <td>...</td>\n",
       "    </tr>\n",
       "    <tr>\n",
       "      <th>242</th>\n",
       "      <td>2023-05-24</td>\n",
       "      <td>68100000000</td>\n",
       "      <td>68700000000</td>\n",
       "      <td>68000000000</td>\n",
       "      <td>68500000000</td>\n",
       "      <td>68500000000</td>\n",
       "      <td>8192896</td>\n",
       "    </tr>\n",
       "    <tr>\n",
       "      <th>243</th>\n",
       "      <td>2023-05-25</td>\n",
       "      <td>69900000000</td>\n",
       "      <td>70000000000</td>\n",
       "      <td>68700000000</td>\n",
       "      <td>68800000000</td>\n",
       "      <td>68800000000</td>\n",
       "      <td>14231160</td>\n",
       "    </tr>\n",
       "    <tr>\n",
       "      <th>244</th>\n",
       "      <td>2023-05-26</td>\n",
       "      <td>69800000000</td>\n",
       "      <td>70400000000</td>\n",
       "      <td>69500000000</td>\n",
       "      <td>70300000000</td>\n",
       "      <td>70300000000</td>\n",
       "      <td>19549511</td>\n",
       "    </tr>\n",
       "    <tr>\n",
       "      <th>245</th>\n",
       "      <td>2023-05-30</td>\n",
       "      <td>71300000000</td>\n",
       "      <td>72300000000</td>\n",
       "      <td>71200000000</td>\n",
       "      <td>72300000000</td>\n",
       "      <td>72300000000</td>\n",
       "      <td>27476897</td>\n",
       "    </tr>\n",
       "    <tr>\n",
       "      <th>246</th>\n",
       "      <td>2023-05-31</td>\n",
       "      <td>72400000000</td>\n",
       "      <td>72500000000</td>\n",
       "      <td>71000000000</td>\n",
       "      <td>71400000000</td>\n",
       "      <td>71400000000</td>\n",
       "      <td>25666087</td>\n",
       "    </tr>\n",
       "  </tbody>\n",
       "</table>\n",
       "<p>247 rows × 7 columns</p>\n",
       "</div>"
      ],
      "text/plain": [
       "          Date         Open         High          Low        Close  \\\n",
       "0   2022-06-02  66600000000  67000000000  66400000000  66700000000   \n",
       "1   2022-06-03  67200000000  67300000000  66800000000  66800000000   \n",
       "2   2022-06-07  66200000000  66400000000  65400000000  65500000000   \n",
       "3   2022-06-08  65400000000  65700000000  65300000000  65300000000   \n",
       "4   2022-06-09  65100000000  65200000000  64500000000  65200000000   \n",
       "..         ...          ...          ...          ...          ...   \n",
       "242 2023-05-24  68100000000  68700000000  68000000000  68500000000   \n",
       "243 2023-05-25  69900000000  70000000000  68700000000  68800000000   \n",
       "244 2023-05-26  69800000000  70400000000  69500000000  70300000000   \n",
       "245 2023-05-30  71300000000  72300000000  71200000000  72300000000   \n",
       "246 2023-05-31  72400000000  72500000000  71000000000  71400000000   \n",
       "\n",
       "       Adj Close    Volume  \n",
       "0    65056390625  14959443  \n",
       "1    65153914063   8222883  \n",
       "2    63885953125  19355755  \n",
       "3    63690882813  12483180  \n",
       "4    63593347656  25790725  \n",
       "..           ...       ...  \n",
       "242  68500000000   8192896  \n",
       "243  68800000000  14231160  \n",
       "244  70300000000  19549511  \n",
       "245  72300000000  27476897  \n",
       "246  71400000000  25666087  \n",
       "\n",
       "[247 rows x 7 columns]"
      ]
     },
     "execution_count": 180,
     "metadata": {},
     "output_type": "execute_result"
    }
   ],
   "source": [
    "df"
   ]
  },
  {
   "cell_type": "code",
   "execution_count": 181,
   "id": "4f5c066d-32c6-4932-b101-f1b75823b950",
   "metadata": {},
   "outputs": [
    {
     "name": "stdout",
     "output_type": "stream",
     "text": [
      "<class 'pandas.core.frame.DataFrame'>\n",
      "RangeIndex: 247 entries, 0 to 246\n",
      "Data columns (total 7 columns):\n",
      " #   Column     Non-Null Count  Dtype         \n",
      "---  ------     --------------  -----         \n",
      " 0   Date       247 non-null    datetime64[ns]\n",
      " 1   Open       247 non-null    int64         \n",
      " 2   High       247 non-null    int64         \n",
      " 3   Low        247 non-null    int64         \n",
      " 4   Close      247 non-null    int64         \n",
      " 5   Adj Close  247 non-null    int64         \n",
      " 6   Volume     247 non-null    int64         \n",
      "dtypes: datetime64[ns](1), int64(6)\n",
      "memory usage: 13.6 KB\n"
     ]
    }
   ],
   "source": [
    "df.info()"
   ]
  },
  {
   "cell_type": "code",
   "execution_count": 182,
   "id": "248172d8-90c6-4190-b327-0d7344f0fd05",
   "metadata": {},
   "outputs": [],
   "source": [
    "df.drop(['Open', 'High', 'Low', 'Adj Close'], axis = 'columns', inplace=True)"
   ]
  },
  {
   "cell_type": "code",
   "execution_count": 183,
   "id": "6518842c-8f0c-4bf1-8ab8-74059d44329c",
   "metadata": {},
   "outputs": [
    {
     "data": {
      "text/html": [
       "<div>\n",
       "<style scoped>\n",
       "    .dataframe tbody tr th:only-of-type {\n",
       "        vertical-align: middle;\n",
       "    }\n",
       "\n",
       "    .dataframe tbody tr th {\n",
       "        vertical-align: top;\n",
       "    }\n",
       "\n",
       "    .dataframe thead th {\n",
       "        text-align: right;\n",
       "    }\n",
       "</style>\n",
       "<table border=\"1\" class=\"dataframe\">\n",
       "  <thead>\n",
       "    <tr style=\"text-align: right;\">\n",
       "      <th></th>\n",
       "      <th>Date</th>\n",
       "      <th>Close</th>\n",
       "      <th>Volume</th>\n",
       "    </tr>\n",
       "  </thead>\n",
       "  <tbody>\n",
       "    <tr>\n",
       "      <th>0</th>\n",
       "      <td>2022-06-02</td>\n",
       "      <td>66700000000</td>\n",
       "      <td>14959443</td>\n",
       "    </tr>\n",
       "    <tr>\n",
       "      <th>1</th>\n",
       "      <td>2022-06-03</td>\n",
       "      <td>66800000000</td>\n",
       "      <td>8222883</td>\n",
       "    </tr>\n",
       "    <tr>\n",
       "      <th>2</th>\n",
       "      <td>2022-06-07</td>\n",
       "      <td>65500000000</td>\n",
       "      <td>19355755</td>\n",
       "    </tr>\n",
       "    <tr>\n",
       "      <th>3</th>\n",
       "      <td>2022-06-08</td>\n",
       "      <td>65300000000</td>\n",
       "      <td>12483180</td>\n",
       "    </tr>\n",
       "    <tr>\n",
       "      <th>4</th>\n",
       "      <td>2022-06-09</td>\n",
       "      <td>65200000000</td>\n",
       "      <td>25790725</td>\n",
       "    </tr>\n",
       "  </tbody>\n",
       "</table>\n",
       "</div>"
      ],
      "text/plain": [
       "        Date        Close    Volume\n",
       "0 2022-06-02  66700000000  14959443\n",
       "1 2022-06-03  66800000000   8222883\n",
       "2 2022-06-07  65500000000  19355755\n",
       "3 2022-06-08  65300000000  12483180\n",
       "4 2022-06-09  65200000000  25790725"
      ]
     },
     "execution_count": 183,
     "metadata": {},
     "output_type": "execute_result"
    }
   ],
   "source": [
    "df.head()"
   ]
  },
  {
   "cell_type": "code",
   "execution_count": 184,
   "id": "07c08164-556e-4ee0-9b96-808b56f69286",
   "metadata": {},
   "outputs": [],
   "source": [
    " # Se eliminan filas que tengan valor NaN\n",
    "df = df.dropna()\n",
    "df = df.reset_index(drop=True)"
   ]
  },
  {
   "cell_type": "code",
   "execution_count": 185,
   "id": "d262650f-ca03-4b13-8bd6-b8a5b9c8244b",
   "metadata": {},
   "outputs": [],
   "source": [
    "# Eliminamos columna de fecha que no usaremos en el algoritmo.\n",
    "dates = df['Date'] # Guardamos la columna Date.\n",
    "df = df.drop('Date', 1) # Borramos la columna del dataframe."
   ]
  },
  {
   "cell_type": "code",
   "execution_count": 186,
   "id": "bf17f708-be2f-4432-a27c-74d02d610606",
   "metadata": {},
   "outputs": [],
   "source": [
    "# Se normalizan los datos con MinMax()\n",
    "min_max_scaler = preprocessing.MinMaxScaler() \n",
    "df_escalado = min_max_scaler.fit_transform(df)\n",
    "df_escalado = pd.DataFrame(df_escalado) # Hay que convertir a DF el resultado.\n",
    "df_escalado = df_escalado.rename(columns = {0: 'Close', 1: 'Volume'})"
   ]
  },
  {
   "cell_type": "code",
   "execution_count": 187,
   "id": "68a79bcf-8aff-4365-98ee-a532068892f2",
   "metadata": {},
   "outputs": [
    {
     "data": {
      "text/html": [
       "<div>\n",
       "<style scoped>\n",
       "    .dataframe tbody tr th:only-of-type {\n",
       "        vertical-align: middle;\n",
       "    }\n",
       "\n",
       "    .dataframe tbody tr th {\n",
       "        vertical-align: top;\n",
       "    }\n",
       "\n",
       "    .dataframe thead th {\n",
       "        text-align: right;\n",
       "    }\n",
       "</style>\n",
       "<table border=\"1\" class=\"dataframe\">\n",
       "  <thead>\n",
       "    <tr style=\"text-align: right;\">\n",
       "      <th></th>\n",
       "      <th>Close</th>\n",
       "      <th>Volume</th>\n",
       "    </tr>\n",
       "  </thead>\n",
       "  <tbody>\n",
       "    <tr>\n",
       "      <th>0</th>\n",
       "      <td>0.715736</td>\n",
       "      <td>0.438077</td>\n",
       "    </tr>\n",
       "    <tr>\n",
       "      <th>1</th>\n",
       "      <td>0.720812</td>\n",
       "      <td>0.240423</td>\n",
       "    </tr>\n",
       "    <tr>\n",
       "      <th>2</th>\n",
       "      <td>0.654822</td>\n",
       "      <td>0.567066</td>\n",
       "    </tr>\n",
       "    <tr>\n",
       "      <th>3</th>\n",
       "      <td>0.644670</td>\n",
       "      <td>0.365422</td>\n",
       "    </tr>\n",
       "    <tr>\n",
       "      <th>4</th>\n",
       "      <td>0.639594</td>\n",
       "      <td>0.755871</td>\n",
       "    </tr>\n",
       "  </tbody>\n",
       "</table>\n",
       "</div>"
      ],
      "text/plain": [
       "      Close    Volume\n",
       "0  0.715736  0.438077\n",
       "1  0.720812  0.240423\n",
       "2  0.654822  0.567066\n",
       "3  0.644670  0.365422\n",
       "4  0.639594  0.755871"
      ]
     },
     "execution_count": 187,
     "metadata": {},
     "output_type": "execute_result"
    }
   ],
   "source": [
    "df_escalado.head()"
   ]
  },
  {
   "cell_type": "code",
   "execution_count": 189,
   "id": "1410cfc0-5c70-40e5-a882-2a37addd75ef",
   "metadata": {},
   "outputs": [
    {
     "data": {
      "text/plain": [
       "Text(0, 0.5, 'Volume')"
      ]
     },
     "execution_count": 189,
     "metadata": {},
     "output_type": "execute_result"
    },
    {
     "data": {
      "image/png": "[encoded data removed]",
      "text/plain": [
       "<Figure size 600x384 with 1 Axes>"
      ]
     },
     "metadata": {},
     "output_type": "display_data"
    }
   ],
   "source": [
    "# Representación gráfica de los datos\n",
    "x = df_escalado['Close'].values\n",
    "y = df_escalado['Volume'].values\n",
    "fig, ax = plt.subplots(1, 1, figsize=(6, 3.84))\n",
    "ax.scatter(\n",
    "    x ,\n",
    "    y , \n",
    "    c = 'red',\n",
    "    marker    = '.',\n",
    "    edgecolor = 'blue', \n",
    ")\n",
    "ax.set_title('Acciones Samsung');\n",
    "plt.xlabel('Close price')\n",
    "plt.ylabel('Volume')"
   ]
  },
  {
   "cell_type": "code",
   "execution_count": 190,
   "id": "502a77bb-aeec-460c-87a1-c36e8de9416d",
   "metadata": {},
   "outputs": [
    {
     "data": {
      "image/png": "[encoded data removed]",
      "text/plain": [
       "<Figure size 800x475 with 1 Axes>"
      ]
     },
     "metadata": {},
     "output_type": "display_data"
    }
   ],
   "source": [
    "# definir ajuste K-medias\n",
    "kmedias_k = [KMeans(n_clusters = k, \n",
    "                    random_state = 3,\n",
    "                    n_init = 10).fit(df_escalado)\n",
    "             for k in range(2, 11)]\n",
    "inercias = [model.inertia_ for model in kmedias_k]\n",
    "\n",
    "# pintar inercias\n",
    "plt.figure(figsize=(8, 4.75))\n",
    "plt.plot(range(2, 11), inercias, \"bo-\")\n",
    "plt.xlabel(\"$k$\", fontsize=14)\n",
    "plt.ylabel(\"Inercia\", fontsize=14)\n",
    "plt.annotate('Codo',\n",
    "             xy=(5, inercias[4]),\n",
    "             xytext=(0.55, 0.55),\n",
    "             textcoords='figure fraction',\n",
    "             fontsize=16,\n",
    "             arrowprops=dict(facecolor='black', shrink=0.15)\n",
    ")\n",
    "plt.axis([1, 10.5, 0, 15])\n",
    "plt.xticks(range(1,11));\n",
    "#plt.grid()\n",
    "plt.show()"
   ]
  },
  {
   "cell_type": "code",
   "execution_count": 191,
   "id": "d2d43db2-0d48-4de5-a453-2a5866b04783",
   "metadata": {},
   "outputs": [
    {
     "data": {
      "text/plain": [
       "[<matplotlib.lines.Line2D at 0x7fa8799541f0>]"
      ]
     },
     "execution_count": 191,
     "metadata": {},
     "output_type": "execute_result"
    },
    {
     "data": {
      "image/png": "[encoded data removed]",
      "text/plain": [
       "<Figure size 640x480 with 1 Axes>"
      ]
     },
     "metadata": {},
     "output_type": "display_data"
    }
   ],
   "source": [
    "# Curva elbow para determinar valor óptimo de k\n",
    "nc = range(1, 30) # El número de iteraciones que queremos hacer\n",
    "kmeans = [KMeans(n_clusters=i) \n",
    "          for i in nc]\n",
    "score = [kmeans[i].fit(df_escalado).score(df_escalado)\n",
    "         for i in range(len(kmeans))]\n",
    "score\n",
    "plt.xlabel('Número de clústeres (k)')\n",
    "plt.ylabel('Suma de los errores cuadráticos')\n",
    "plt.grid()\n",
    "plt.plot(nc, score)"
   ]
  },
  {
   "cell_type": "code",
   "execution_count": 192,
   "id": "b83d5787-6d8c-44d7-bfcf-ed444a142dcd",
   "metadata": {},
   "outputs": [
    {
     "name": "stdout",
     "output_type": "stream",
     "text": [
      "[[0.67420397 0.40422117]\n",
      " [0.3978875  0.32879531]\n",
      " [0.51048334 0.00089798]\n",
      " [0.17664975 0.44301571]\n",
      " [0.38028765 0.63976283]]\n"
     ]
    }
   ],
   "source": [
    "# Aplicación de k-means con k = 5\n",
    "kmeans = KMeans(n_clusters=5).fit(df_escalado)\n",
    "centroids = kmeans.cluster_centers_\n",
    "print(centroids)"
   ]
  },
  {
   "cell_type": "code",
   "execution_count": 193,
   "id": "6c5ec340-24d8-43a5-80e1-8895b9f13118",
   "metadata": {},
   "outputs": [],
   "source": [
    "# Etiquetamos nuestro dataframe\n",
    "labels = kmeans.fit_predict(df_escalado)\n",
    "df['label'] = labels"
   ]
  },
  {
   "cell_type": "code",
   "execution_count": 194,
   "id": "037729b2-c259-49f2-8d96-7d5a395c3b35",
   "metadata": {},
   "outputs": [],
   "source": [
    "# Añadimos la columna de fecha\n",
    "df.insert(0, 'Date', dates)"
   ]
  },
  {
   "cell_type": "code",
   "execution_count": 195,
   "id": "65f58d57-1521-4b0f-81c1-255d968eb00f",
   "metadata": {},
   "outputs": [
    {
     "data": {
      "text/html": [
       "<div>\n",
       "<style scoped>\n",
       "    .dataframe tbody tr th:only-of-type {\n",
       "        vertical-align: middle;\n",
       "    }\n",
       "\n",
       "    .dataframe tbody tr th {\n",
       "        vertical-align: top;\n",
       "    }\n",
       "\n",
       "    .dataframe thead th {\n",
       "        text-align: right;\n",
       "    }\n",
       "</style>\n",
       "<table border=\"1\" class=\"dataframe\">\n",
       "  <thead>\n",
       "    <tr style=\"text-align: right;\">\n",
       "      <th></th>\n",
       "      <th>Date</th>\n",
       "      <th>Close</th>\n",
       "      <th>Volume</th>\n",
       "      <th>label</th>\n",
       "    </tr>\n",
       "  </thead>\n",
       "  <tbody>\n",
       "    <tr>\n",
       "      <th>0</th>\n",
       "      <td>2022-06-02</td>\n",
       "      <td>66700000000</td>\n",
       "      <td>14959443</td>\n",
       "      <td>2</td>\n",
       "    </tr>\n",
       "    <tr>\n",
       "      <th>1</th>\n",
       "      <td>2022-06-03</td>\n",
       "      <td>66800000000</td>\n",
       "      <td>8222883</td>\n",
       "      <td>2</td>\n",
       "    </tr>\n",
       "    <tr>\n",
       "      <th>2</th>\n",
       "      <td>2022-06-07</td>\n",
       "      <td>65500000000</td>\n",
       "      <td>19355755</td>\n",
       "      <td>2</td>\n",
       "    </tr>\n",
       "    <tr>\n",
       "      <th>3</th>\n",
       "      <td>2022-06-08</td>\n",
       "      <td>65300000000</td>\n",
       "      <td>12483180</td>\n",
       "      <td>2</td>\n",
       "    </tr>\n",
       "    <tr>\n",
       "      <th>4</th>\n",
       "      <td>2022-06-09</td>\n",
       "      <td>65200000000</td>\n",
       "      <td>25790725</td>\n",
       "      <td>3</td>\n",
       "    </tr>\n",
       "    <tr>\n",
       "      <th>...</th>\n",
       "      <td>...</td>\n",
       "      <td>...</td>\n",
       "      <td>...</td>\n",
       "      <td>...</td>\n",
       "    </tr>\n",
       "    <tr>\n",
       "      <th>242</th>\n",
       "      <td>2023-05-24</td>\n",
       "      <td>68500000000</td>\n",
       "      <td>8192896</td>\n",
       "      <td>2</td>\n",
       "    </tr>\n",
       "    <tr>\n",
       "      <th>243</th>\n",
       "      <td>2023-05-25</td>\n",
       "      <td>68800000000</td>\n",
       "      <td>14231160</td>\n",
       "      <td>2</td>\n",
       "    </tr>\n",
       "    <tr>\n",
       "      <th>244</th>\n",
       "      <td>2023-05-26</td>\n",
       "      <td>70300000000</td>\n",
       "      <td>19549511</td>\n",
       "      <td>2</td>\n",
       "    </tr>\n",
       "    <tr>\n",
       "      <th>245</th>\n",
       "      <td>2023-05-30</td>\n",
       "      <td>72300000000</td>\n",
       "      <td>27476897</td>\n",
       "      <td>2</td>\n",
       "    </tr>\n",
       "    <tr>\n",
       "      <th>246</th>\n",
       "      <td>2023-05-31</td>\n",
       "      <td>71400000000</td>\n",
       "      <td>25666087</td>\n",
       "      <td>2</td>\n",
       "    </tr>\n",
       "  </tbody>\n",
       "</table>\n",
       "<p>247 rows × 4 columns</p>\n",
       "</div>"
      ],
      "text/plain": [
       "          Date        Close    Volume  label\n",
       "0   2022-06-02  66700000000  14959443      2\n",
       "1   2022-06-03  66800000000   8222883      2\n",
       "2   2022-06-07  65500000000  19355755      2\n",
       "3   2022-06-08  65300000000  12483180      2\n",
       "4   2022-06-09  65200000000  25790725      3\n",
       "..         ...          ...       ...    ...\n",
       "242 2023-05-24  68500000000   8192896      2\n",
       "243 2023-05-25  68800000000  14231160      2\n",
       "244 2023-05-26  70300000000  19549511      2\n",
       "245 2023-05-30  72300000000  27476897      2\n",
       "246 2023-05-31  71400000000  25666087      2\n",
       "\n",
       "[247 rows x 4 columns]"
      ]
     },
     "execution_count": 195,
     "metadata": {},
     "output_type": "execute_result"
    }
   ],
   "source": [
    "df"
   ]
  },
  {
   "cell_type": "code",
   "execution_count": 211,
   "id": "932262db-795e-40c8-baea-24036ce58126",
   "metadata": {},
   "outputs": [
    {
     "data": {
      "image/png": "[encoded data removed]",
      "text/plain": [
       "<Figure size 640x480 with 1 Axes>"
      ]
     },
     "metadata": {},
     "output_type": "display_data"
    }
   ],
   "source": [
    "# Plot k-means clustering\n",
    "colores=['red', 'green', 'blue', 'yellow', 'fuchsia']\n",
    "asignar=[]\n",
    "for row in labels:\n",
    "     asignar.append(colores[row])\n",
    "plt.scatter(x, y, c=asignar, s=8)\n",
    "plt.scatter(centroids[:, 0], centroids[:, 1], marker='*', c='lime', s=60, edgecolor = 'black') # Marcar centroides\n",
    "plt.xlabel('Close price')\n",
    "plt.ylabel('Volume')\n",
    "plt.title('Samsung stocks k-means clustering')\n",
    "plt.show()"
   ]
  },
  {
   "cell_type": "code",
   "execution_count": 212,
   "id": "c0e47f6b-6863-48f7-abb5-feb4439c5c3d",
   "metadata": {},
   "outputs": [],
   "source": [
    "close = 68500000000\n",
    "volume = 17196370\n",
    "\n",
    "nuevo_dato = pd.DataFrame([[close,volume]]) # Nueva muestra\n",
    "nuevo_dato = nuevo_dato.rename(columns = {0: 'Close', 1: 'Volume'})"
   ]
  },
  {
   "cell_type": "code",
   "execution_count": 213,
   "id": "8b562f59-4b66-4553-9af4-e129f196b0a7",
   "metadata": {},
   "outputs": [],
   "source": [
    "df_n = df.append(nuevo_dato)"
   ]
  },
  {
   "cell_type": "code",
   "execution_count": 214,
   "id": "750ac210-a1d6-4c5f-b5b0-b734490b6bec",
   "metadata": {},
   "outputs": [],
   "source": [
    "df_n = df_n.drop('Date', 1)\n",
    "df_n = df_n.drop('label', 1)\n",
    "df_n = df_n.reset_index(drop=True)"
   ]
  },
  {
   "cell_type": "code",
   "execution_count": 215,
   "id": "93f5ff4e-4437-4d78-ab41-46d782a9582e",
   "metadata": {},
   "outputs": [
    {
     "data": {
      "text/html": [
       "<div>\n",
       "<style scoped>\n",
       "    .dataframe tbody tr th:only-of-type {\n",
       "        vertical-align: middle;\n",
       "    }\n",
       "\n",
       "    .dataframe tbody tr th {\n",
       "        vertical-align: top;\n",
       "    }\n",
       "\n",
       "    .dataframe thead th {\n",
       "        text-align: right;\n",
       "    }\n",
       "</style>\n",
       "<table border=\"1\" class=\"dataframe\">\n",
       "  <thead>\n",
       "    <tr style=\"text-align: right;\">\n",
       "      <th></th>\n",
       "      <th>Close</th>\n",
       "      <th>Volume</th>\n",
       "    </tr>\n",
       "  </thead>\n",
       "  <tbody>\n",
       "    <tr>\n",
       "      <th>0</th>\n",
       "      <td>66700000000</td>\n",
       "      <td>14959443</td>\n",
       "    </tr>\n",
       "    <tr>\n",
       "      <th>1</th>\n",
       "      <td>66800000000</td>\n",
       "      <td>8222883</td>\n",
       "    </tr>\n",
       "    <tr>\n",
       "      <th>2</th>\n",
       "      <td>65500000000</td>\n",
       "      <td>19355755</td>\n",
       "    </tr>\n",
       "    <tr>\n",
       "      <th>3</th>\n",
       "      <td>65300000000</td>\n",
       "      <td>12483180</td>\n",
       "    </tr>\n",
       "    <tr>\n",
       "      <th>4</th>\n",
       "      <td>65200000000</td>\n",
       "      <td>25790725</td>\n",
       "    </tr>\n",
       "    <tr>\n",
       "      <th>...</th>\n",
       "      <td>...</td>\n",
       "      <td>...</td>\n",
       "    </tr>\n",
       "    <tr>\n",
       "      <th>243</th>\n",
       "      <td>68800000000</td>\n",
       "      <td>14231160</td>\n",
       "    </tr>\n",
       "    <tr>\n",
       "      <th>244</th>\n",
       "      <td>70300000000</td>\n",
       "      <td>19549511</td>\n",
       "    </tr>\n",
       "    <tr>\n",
       "      <th>245</th>\n",
       "      <td>72300000000</td>\n",
       "      <td>27476897</td>\n",
       "    </tr>\n",
       "    <tr>\n",
       "      <th>246</th>\n",
       "      <td>71400000000</td>\n",
       "      <td>25666087</td>\n",
       "    </tr>\n",
       "    <tr>\n",
       "      <th>247</th>\n",
       "      <td>68500000000</td>\n",
       "      <td>17196370</td>\n",
       "    </tr>\n",
       "  </tbody>\n",
       "</table>\n",
       "<p>248 rows × 2 columns</p>\n",
       "</div>"
      ],
      "text/plain": [
       "           Close    Volume\n",
       "0    66700000000  14959443\n",
       "1    66800000000   8222883\n",
       "2    65500000000  19355755\n",
       "3    65300000000  12483180\n",
       "4    65200000000  25790725\n",
       "..           ...       ...\n",
       "243  68800000000  14231160\n",
       "244  70300000000  19549511\n",
       "245  72300000000  27476897\n",
       "246  71400000000  25666087\n",
       "247  68500000000  17196370\n",
       "\n",
       "[248 rows x 2 columns]"
      ]
     },
     "execution_count": 215,
     "metadata": {},
     "output_type": "execute_result"
    }
   ],
   "source": [
    "df_n"
   ]
  },
  {
   "cell_type": "code",
   "execution_count": 216,
   "id": "bebf1914-0408-4042-a9b6-be9eb73f1841",
   "metadata": {},
   "outputs": [],
   "source": [
    "# normalizar\n",
    "min_max_scaler = preprocessing.MinMaxScaler() \n",
    "df_escalado = min_max_scaler.fit_transform(df_n)\n",
    "df_escalado = pd.DataFrame(df_escalado) # Hay que convertir a DF el resultado.\n",
    "df_escalado = df_escalado.rename(columns = {0: 'Close', 1: 'Volume'})"
   ]
  },
  {
   "cell_type": "code",
   "execution_count": 217,
   "id": "6b6fb313-f023-4d1e-8083-479a0742fa40",
   "metadata": {},
   "outputs": [],
   "source": [
    "close_n = df_escalado['Close'][247]\n",
    "volume_n = df_escalado['Volume'][247]\n",
    "import numpy as np\n",
    "X_new = np.array([[close_n, volume_n]]) # Nueva muestra"
   ]
  },
  {
   "cell_type": "code",
   "execution_count": 218,
   "id": "7e46ea0e-aaf4-4c70-ba77-720f5458dec9",
   "metadata": {},
   "outputs": [
    {
     "name": "stdout",
     "output_type": "stream",
     "text": [
      "Clase: [2]\n"
     ]
    }
   ],
   "source": [
    "new_labels = kmeans.predict(X_new)\n",
    "print(\"Clase:\", new_labels)"
   ]
  },
  {
   "cell_type": "code",
   "execution_count": 224,
   "id": "bd587611-e55e-47d0-8033-a3d361dd4e8e",
   "metadata": {},
   "outputs": [
    {
     "data": {
      "image/png": "[encoded data removed]",
      "text/plain": [
       "<Figure size 640x480 with 1 Axes>"
      ]
     },
     "metadata": {},
     "output_type": "display_data"
    }
   ],
   "source": [
    "# Plot del nuevo dato clusterizado\n",
    "\n",
    "colores=['red','green','blue','yellow','fuchsia']\n",
    "\n",
    "asignar=[]\n",
    "for row in labels:\n",
    "     asignar.append(colores[row])\n",
    "\n",
    "fig, ax = plt.subplots()\n",
    "x_n = close_n\n",
    "y_n = volume_n\n",
    " \n",
    "plt.plot(x_n, y_n, '*', color = 'cyan', markersize = 15)\n",
    "plt.scatter(x, y, c=asignar, s=8)\n",
    "plt.xlabel('Close price')\n",
    "plt.ylabel('Volume')\n",
    "plt.title('Samsung stocks k-means clustering')\n",
    "plt.show()"
   ]
  },
  {
   "cell_type": "markdown",
   "id": "f76ead22-9be7-47cb-9741-be455182eb7a",
   "metadata": {},
   "source": [
    "Fin"
   ]
  }
 ],
 "metadata": {
  "kernelspec": {
   "display_name": "Python 3 (ipykernel)",
   "language": "python",
   "name": "python3"
  },
  "language_info": {
   "codemirror_mode": {
    "name": "ipython",
    "version": 3
   },
   "file_extension": ".py",
   "mimetype": "text/x-python",
   "name": "python",
   "nbconvert_exporter": "python",
   "pygments_lexer": "ipython3",
   "version": "3.11.7"
  }
 },
 "nbformat": 4,
 "nbformat_minor": 5
}
